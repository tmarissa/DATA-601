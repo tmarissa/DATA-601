{
 "cells": [
  {
   "cell_type": "code",
   "execution_count": 17,
   "metadata": {},
   "outputs": [],
   "source": [
    "import pandas as pd\n",
    "import numpy as np\n",
    "from sklearn.model_selection import train_test_split\n",
    "from sklearn.preprocessing import StandardScaler\n",
    "from sklearn.linear_model import LogisticRegression\n",
    "from sklearn.decomposition import PCA\n",
    "import matplotlib.gridspec as gridspec\n",
    "import itertools\n",
    "from mlxtend.plotting import plot_decision_regions\n",
    "import matplotlib.pyplot as plt\n",
    "from sklearn.model_selection import cross_validate\n"
   ]
  },
  {
   "cell_type": "markdown",
   "metadata": {},
   "source": [
    "# DATASET\n",
    "The dataset below has been explained in earlier notebooks and is being used here to carry on the data. "
   ]
  },
  {
   "cell_type": "code",
   "execution_count": 18,
   "metadata": {},
   "outputs": [],
   "source": [
    "contraceptive_data = pd.read_csv(\"contraceptive_method_dataset.csv\", \n",
    "                                 encoding = \"ISO-8859-1\", engine='python')\n",
    "X = contraceptive_data.drop('children', axis=1).copy()\n",
    "contraceptive_data['predictor_population']= pd.cut(contraceptive_data['children'],\n",
    "                                       [-1,2,16], labels=[0,1])\n",
    "contraceptive_data['predictor_population_i']= contraceptive_data['predictor_population'].astype(int)\n",
    "y= contraceptive_data['predictor_population_i']"
   ]
  },
  {
   "cell_type": "markdown",
   "metadata": {},
   "source": [
    "# Data Preparation\n",
    "## Train Test Split Data\n",
    "Train Test Split was implemented using Sklearn Model Selection. The default size of 70% was used for the training data.\n"
   ]
  },
  {
   "cell_type": "code",
   "execution_count": 19,
   "metadata": {},
   "outputs": [],
   "source": [
    "X_train, X_test, y_train, y_test = train_test_split(X, y, test_size = 0.3, \n",
    "                                                    random_state = 24, stratify = y )"
   ]
  },
  {
   "cell_type": "code",
   "execution_count": 20,
   "metadata": {},
   "outputs": [
    {
     "data": {
      "text/plain": [
       "(1473, 9)"
      ]
     },
     "execution_count": 20,
     "metadata": {},
     "output_type": "execute_result"
    }
   ],
   "source": [
    "X.shape"
   ]
  },
  {
   "cell_type": "code",
   "execution_count": 21,
   "metadata": {},
   "outputs": [
    {
     "data": {
      "text/plain": [
       "(1031, 9)"
      ]
     },
     "execution_count": 21,
     "metadata": {},
     "output_type": "execute_result"
    }
   ],
   "source": [
    "X_train.shape"
   ]
  },
  {
   "cell_type": "code",
   "execution_count": 22,
   "metadata": {},
   "outputs": [
    {
     "data": {
      "text/plain": [
       "(442, 9)"
      ]
     },
     "execution_count": 22,
     "metadata": {},
     "output_type": "execute_result"
    }
   ],
   "source": [
    "X_test.shape"
   ]
  },
  {
   "cell_type": "code",
   "execution_count": 23,
   "metadata": {},
   "outputs": [
    {
     "data": {
      "text/plain": [
       "(array([0, 1]), array([454, 577], dtype=int64))"
      ]
     },
     "execution_count": 23,
     "metadata": {},
     "output_type": "execute_result"
    }
   ],
   "source": [
    "np.unique(y_train, return_counts= True)"
   ]
  },
  {
   "cell_type": "code",
   "execution_count": 24,
   "metadata": {},
   "outputs": [
    {
     "data": {
      "text/plain": [
       "(array([0, 1]), array([195, 247], dtype=int64))"
      ]
     },
     "execution_count": 24,
     "metadata": {},
     "output_type": "execute_result"
    }
   ],
   "source": [
    "np.unique(y_test, return_counts= True)"
   ]
  },
  {
   "cell_type": "code",
   "execution_count": 25,
   "metadata": {},
   "outputs": [
    {
     "name": "stdout",
     "output_type": "stream",
     "text": [
      "Ratio for the y_train (less than 2 children):  0.44034917555771097\n",
      "Ratio for the y_test (less than 2 children):  0.4411764705882353\n"
     ]
    }
   ],
   "source": [
    "print(\"Ratio for the y_train (less than 2 children): \", 454/(454+577))\n",
    "print(\"Ratio for the y_test (less than 2 children): \", 195/(195+247))"
   ]
  },
  {
   "cell_type": "markdown",
   "metadata": {},
   "source": [
    "_Notes_\n",
    "- The variable X has a total of 1473 instances and 9 attributes. It has been split to training data of 1031 and test data for 442.\n",
    "- Numpy was used to check the uniqueness of the y training data. There are 2 binary variables, 0 and 1 which uses 1031 instances\n",
    "- The ratio for the y_train and Y_test data for less than 2 children is very close. Both are around 44%. The 44% ratio of before and after the data train test split are the same as in the previous notebook (CM_Exploration Data Analysis 2) "
   ]
  },
  {
   "cell_type": "markdown",
   "metadata": {},
   "source": [
    "# Standard Data Scaling"
   ]
  },
  {
   "cell_type": "code",
   "execution_count": 26,
   "metadata": {},
   "outputs": [],
   "source": [
    "#Using sklearn.preprocessing import StandardScaler\n",
    "std_scaler = StandardScaler()"
   ]
  },
  {
   "cell_type": "code",
   "execution_count": 27,
   "metadata": {},
   "outputs": [],
   "source": [
    "#Training mean and std was calculated and was used in the transformation.\n",
    "std_scaler.fit(X_train)\n",
    "X_train_scaled = std_scaler.transform(X_train)\n",
    "\n",
    "## Never fit onto Test data!! Only Transform\n",
    "X_test_scaled  = std_scaler.transform(X_test)"
   ]
  },
  {
   "cell_type": "code",
   "execution_count": 28,
   "metadata": {},
   "outputs": [
    {
     "name": "stdout",
     "output_type": "stream",
     "text": [
      "[[-0.18981854  1.03250129 -1.70593277 ... -0.12376157 -0.2860888\n",
      "   0.08960221]\n",
      " [-2.02797989  0.06123411  0.69518216 ... -0.12376157 -0.2860888\n",
      "  -1.0508901 ]\n",
      " [ 1.77088691  1.03250129  0.69518216 ...  0.88094853 -0.2860888\n",
      "   0.08960221]\n",
      " ...\n",
      " [ 1.15816646  1.03250129  0.69518216 ...  0.88094853 -0.2860888\n",
      "   0.08960221]\n",
      " [-0.80253899  1.03250129  0.69518216 ... -0.12376157 -0.2860888\n",
      "  -1.0508901 ]\n",
      " [ 1.77088691 -1.88130026 -2.90649024 ... -1.12847167 -0.2860888\n",
      "  -1.0508901 ]]\n",
      "[[-1.66034762 -0.91003307 -0.50537531 ... -1.12847167 -0.2860888\n",
      "  -1.0508901 ]\n",
      " [-1.41525944 -0.91003307 -1.70593277 ... -1.12847167 -0.2860888\n",
      "   0.08960221]\n",
      " [ 0.05526964  0.06123411 -0.50537531 ... -0.12376157 -0.2860888\n",
      "   1.23009452]\n",
      " ...\n",
      " [-1.53780353  0.06123411  0.69518216 ... -1.12847167 -0.2860888\n",
      "  -1.0508901 ]\n",
      " [-0.80253899 -0.91003307  0.69518216 ... -0.12376157 -0.2860888\n",
      "   0.08960221]\n",
      " [-1.04762717 -0.91003307 -0.50537531 ... -0.12376157 -0.2860888\n",
      "  -1.0508901 ]]\n"
     ]
    }
   ],
   "source": [
    "print(X_train_scaled)\n",
    "print(X_test_scaled)"
   ]
  },
  {
   "cell_type": "markdown",
   "metadata": {},
   "source": [
    "# Plotting the Logistic Regression Chart"
   ]
  },
  {
   "cell_type": "code",
   "execution_count": 29,
   "metadata": {},
   "outputs": [
    {
     "data": {
      "text/plain": [
       "LogisticRegression(penalty='none', random_state=1)"
      ]
     },
     "execution_count": 29,
     "metadata": {},
     "output_type": "execute_result"
    }
   ],
   "source": [
    "#Initializing Classifications\n",
    "logreg = LogisticRegression(penalty = 'none', random_state=1)\n",
    "logreg.fit(X_train_scaled, y_train)"
   ]
  },
  {
   "cell_type": "markdown",
   "metadata": {},
   "source": [
    "## Principal Component Analysis (PCA)\n",
    "Principal Component Analysis was used in this chart because PCA reduces multi-dimensional data to two dimension data. The X-train was instantiate to fit and transform"
   ]
  },
  {
   "cell_type": "code",
   "execution_count": 30,
   "metadata": {},
   "outputs": [
    {
     "name": "stderr",
     "output_type": "stream",
     "text": [
      "C:\\Users\\Marissa\\anaconda3\\lib\\site-packages\\mlxtend\\plotting\\decision_regions.py:244: UserWarning: No contour levels were found within the data range.\n",
      "  ax.contour(xx, yy, Z, cset.levels,\n"
     ]
    },
    {
     "data": {
      "image/png": "[encoded data removed]",
      "text/plain": [
       "<Figure size 720x576 with 1 Axes>"
      ]
     },
     "metadata": {
      "needs_background": "light"
     },
     "output_type": "display_data"
    }
   ],
   "source": [
    "clf1 = LogisticRegression(random_state=1, solver='lbfgs')\n",
    "xx, yy = np.meshgrid(np.linspace(-3, 3, 50),\n",
    "                     np.linspace(-3, 3, 50))\n",
    "\n",
    "X_train = np.array(X_train_scaled, dtype=np.int64)\n",
    "y_train = np.array(y_train, dtype=np.int64)\n",
    "pca = PCA(n_components = 2)\n",
    "X_train2 = pca.fit_transform(X_train)\n",
    "gs = gridspec.GridSpec(2, 2)\n",
    "\n",
    "fig = plt.figure(figsize=(10,8))\n",
    "\n",
    "labels = ['Logistic Regression']\n",
    "for clf, lab, grd in zip([clf1],\n",
    "                         labels,\n",
    "                         itertools.product([0, 1], repeat=2)):\n",
    "\n",
    "    clf.fit(X_train2, y_train)\n",
    "    ax = plt.subplot(gs[grd[0], grd[1]])\n",
    "    fig = plot_decision_regions(X= X_train2, y= y_train, clf=clf, legend=2)\n",
    "    plt.title(lab)\n",
    "\n",
    "plt.show()"
   ]
  },
  {
   "cell_type": "markdown",
   "metadata": {},
   "source": [
    "_Notes_\n",
    "- Above is logistic-regression classifiers decision boundaries on the first two dimensions of the contraceptive dataset. The datapoints are colored according to their labels. The blue labels for 0 represents number of children equal or less than two while the biege labels for 1 represents number of children greater than two. The background is only biege and has no partition from the other label. \n",
    "\n"
   ]
  },
  {
   "cell_type": "code",
   "execution_count": null,
   "metadata": {},
   "outputs": [],
   "source": []
  }
 ],
 "metadata": {
  "kernelspec": {
   "display_name": "Python 3",
   "language": "python",
   "name": "python3"
  },
  "language_info": {
   "codemirror_mode": {
    "name": "ipython",
    "version": 3
   },
   "file_extension": ".py",
   "mimetype": "text/x-python",
   "name": "python",
   "nbconvert_exporter": "python",
   "pygments_lexer": "ipython3",
   "version": "3.8.3"
  }
 },
 "nbformat": 4,
 "nbformat_minor": 4
}
