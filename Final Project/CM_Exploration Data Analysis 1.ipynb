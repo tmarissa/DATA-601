{
 "cells": [
  {
   "cell_type": "code",
   "execution_count": 1,
   "metadata": {},
   "outputs": [],
   "source": [
    "import pandas as pd\n",
    "import operator\n",
    "import matplotlib.pyplot as plt\n",
    "import matplotlib\n",
    "import os\n",
    "import numpy as np\n",
    "from sklearn.model_selection import train_test_split\n",
    "from sklearn.preprocessing import StandardScaler"
   ]
  },
  {
   "cell_type": "code",
   "execution_count": 2,
   "metadata": {},
   "outputs": [],
   "source": [
    "contraceptive_data = pd.read_csv(\"contraceptive_method_dataset.csv\", \n",
    "                                 encoding = \"ISO-8859-1\", engine='python')\n"
   ]
  },
  {
   "cell_type": "code",
   "execution_count": 3,
   "metadata": {},
   "outputs": [
    {
     "data": {
      "text/html": [
       "<div>\n",
       "<style scoped>\n",
       "    .dataframe tbody tr th:only-of-type {\n",
       "        vertical-align: middle;\n",
       "    }\n",
       "\n",
       "    .dataframe tbody tr th {\n",
       "        vertical-align: top;\n",
       "    }\n",
       "\n",
       "    .dataframe thead th {\n",
       "        text-align: right;\n",
       "    }\n",
       "</style>\n",
       "<table border=\"1\" class=\"dataframe\">\n",
       "  <thead>\n",
       "    <tr style=\"text-align: right;\">\n",
       "      <th></th>\n",
       "      <th>wife_age</th>\n",
       "      <th>wife_education</th>\n",
       "      <th>husband_education</th>\n",
       "      <th>children</th>\n",
       "      <th>wife_religion</th>\n",
       "      <th>wife_working</th>\n",
       "      <th>husband_occupation</th>\n",
       "      <th>standard_of_living_index</th>\n",
       "      <th>media_exposure</th>\n",
       "      <th>contraceptive_method_used</th>\n",
       "    </tr>\n",
       "  </thead>\n",
       "  <tbody>\n",
       "    <tr>\n",
       "      <th>0</th>\n",
       "      <td>24</td>\n",
       "      <td>2</td>\n",
       "      <td>3</td>\n",
       "      <td>3</td>\n",
       "      <td>1</td>\n",
       "      <td>1</td>\n",
       "      <td>2</td>\n",
       "      <td>3</td>\n",
       "      <td>0</td>\n",
       "      <td>1</td>\n",
       "    </tr>\n",
       "    <tr>\n",
       "      <th>1</th>\n",
       "      <td>45</td>\n",
       "      <td>1</td>\n",
       "      <td>3</td>\n",
       "      <td>10</td>\n",
       "      <td>1</td>\n",
       "      <td>1</td>\n",
       "      <td>3</td>\n",
       "      <td>4</td>\n",
       "      <td>0</td>\n",
       "      <td>1</td>\n",
       "    </tr>\n",
       "    <tr>\n",
       "      <th>2</th>\n",
       "      <td>43</td>\n",
       "      <td>2</td>\n",
       "      <td>3</td>\n",
       "      <td>7</td>\n",
       "      <td>1</td>\n",
       "      <td>1</td>\n",
       "      <td>3</td>\n",
       "      <td>4</td>\n",
       "      <td>0</td>\n",
       "      <td>1</td>\n",
       "    </tr>\n",
       "    <tr>\n",
       "      <th>3</th>\n",
       "      <td>42</td>\n",
       "      <td>3</td>\n",
       "      <td>2</td>\n",
       "      <td>9</td>\n",
       "      <td>1</td>\n",
       "      <td>1</td>\n",
       "      <td>3</td>\n",
       "      <td>3</td>\n",
       "      <td>0</td>\n",
       "      <td>1</td>\n",
       "    </tr>\n",
       "    <tr>\n",
       "      <th>4</th>\n",
       "      <td>36</td>\n",
       "      <td>3</td>\n",
       "      <td>3</td>\n",
       "      <td>8</td>\n",
       "      <td>1</td>\n",
       "      <td>1</td>\n",
       "      <td>3</td>\n",
       "      <td>2</td>\n",
       "      <td>0</td>\n",
       "      <td>1</td>\n",
       "    </tr>\n",
       "  </tbody>\n",
       "</table>\n",
       "</div>"
      ],
      "text/plain": [
       "   wife_age  wife_education  husband_education  children  wife_religion  \\\n",
       "0        24               2                  3         3              1   \n",
       "1        45               1                  3        10              1   \n",
       "2        43               2                  3         7              1   \n",
       "3        42               3                  2         9              1   \n",
       "4        36               3                  3         8              1   \n",
       "\n",
       "   wife_working  husband_occupation  standard_of_living_index  media_exposure  \\\n",
       "0             1                   2                         3               0   \n",
       "1             1                   3                         4               0   \n",
       "2             1                   3                         4               0   \n",
       "3             1                   3                         3               0   \n",
       "4             1                   3                         2               0   \n",
       "\n",
       "   contraceptive_method_used  \n",
       "0                          1  \n",
       "1                          1  \n",
       "2                          1  \n",
       "3                          1  \n",
       "4                          1  "
      ]
     },
     "execution_count": 3,
     "metadata": {},
     "output_type": "execute_result"
    }
   ],
   "source": [
    "contraceptive_data.head()"
   ]
  },
  {
   "cell_type": "code",
   "execution_count": 4,
   "metadata": {},
   "outputs": [
    {
     "data": {
      "text/plain": [
       "(1473, 10)"
      ]
     },
     "execution_count": 4,
     "metadata": {},
     "output_type": "execute_result"
    }
   ],
   "source": [
    "contraceptive_data.shape"
   ]
  },
  {
   "cell_type": "markdown",
   "metadata": {},
   "source": [
    "# Statistical Method \n",
    "Using describe, statistical method such as count, mean, std, minimum, 25%, 50%, 75%, and maximum was used to describe the dataset"
   ]
  },
  {
   "cell_type": "code",
   "execution_count": 5,
   "metadata": {},
   "outputs": [
    {
     "data": {
      "text/html": [
       "<div>\n",
       "<style scoped>\n",
       "    .dataframe tbody tr th:only-of-type {\n",
       "        vertical-align: middle;\n",
       "    }\n",
       "\n",
       "    .dataframe tbody tr th {\n",
       "        vertical-align: top;\n",
       "    }\n",
       "\n",
       "    .dataframe thead th {\n",
       "        text-align: right;\n",
       "    }\n",
       "</style>\n",
       "<table border=\"1\" class=\"dataframe\">\n",
       "  <thead>\n",
       "    <tr style=\"text-align: right;\">\n",
       "      <th></th>\n",
       "      <th>wife_age</th>\n",
       "      <th>wife_education</th>\n",
       "      <th>husband_education</th>\n",
       "      <th>children</th>\n",
       "      <th>wife_religion</th>\n",
       "      <th>wife_working</th>\n",
       "      <th>husband_occupation</th>\n",
       "      <th>standard_of_living_index</th>\n",
       "      <th>media_exposure</th>\n",
       "      <th>contraceptive_method_used</th>\n",
       "    </tr>\n",
       "  </thead>\n",
       "  <tbody>\n",
       "    <tr>\n",
       "      <th>count</th>\n",
       "      <td>1473.000000</td>\n",
       "      <td>1473.000000</td>\n",
       "      <td>1473.000000</td>\n",
       "      <td>1473.000000</td>\n",
       "      <td>1473.000000</td>\n",
       "      <td>1473.000000</td>\n",
       "      <td>1473.000000</td>\n",
       "      <td>1473.000000</td>\n",
       "      <td>1473.000000</td>\n",
       "      <td>1473.000000</td>\n",
       "    </tr>\n",
       "    <tr>\n",
       "      <th>mean</th>\n",
       "      <td>32.538357</td>\n",
       "      <td>2.958588</td>\n",
       "      <td>3.429735</td>\n",
       "      <td>3.261371</td>\n",
       "      <td>0.850645</td>\n",
       "      <td>0.749491</td>\n",
       "      <td>2.137814</td>\n",
       "      <td>3.133741</td>\n",
       "      <td>0.073999</td>\n",
       "      <td>1.919891</td>\n",
       "    </tr>\n",
       "    <tr>\n",
       "      <th>std</th>\n",
       "      <td>8.227245</td>\n",
       "      <td>1.014994</td>\n",
       "      <td>0.816349</td>\n",
       "      <td>2.358549</td>\n",
       "      <td>0.356559</td>\n",
       "      <td>0.433453</td>\n",
       "      <td>0.864857</td>\n",
       "      <td>0.976161</td>\n",
       "      <td>0.261858</td>\n",
       "      <td>0.876376</td>\n",
       "    </tr>\n",
       "    <tr>\n",
       "      <th>min</th>\n",
       "      <td>16.000000</td>\n",
       "      <td>1.000000</td>\n",
       "      <td>1.000000</td>\n",
       "      <td>0.000000</td>\n",
       "      <td>0.000000</td>\n",
       "      <td>0.000000</td>\n",
       "      <td>1.000000</td>\n",
       "      <td>1.000000</td>\n",
       "      <td>0.000000</td>\n",
       "      <td>1.000000</td>\n",
       "    </tr>\n",
       "    <tr>\n",
       "      <th>25%</th>\n",
       "      <td>26.000000</td>\n",
       "      <td>2.000000</td>\n",
       "      <td>3.000000</td>\n",
       "      <td>1.000000</td>\n",
       "      <td>1.000000</td>\n",
       "      <td>0.000000</td>\n",
       "      <td>1.000000</td>\n",
       "      <td>3.000000</td>\n",
       "      <td>0.000000</td>\n",
       "      <td>1.000000</td>\n",
       "    </tr>\n",
       "    <tr>\n",
       "      <th>50%</th>\n",
       "      <td>32.000000</td>\n",
       "      <td>3.000000</td>\n",
       "      <td>4.000000</td>\n",
       "      <td>3.000000</td>\n",
       "      <td>1.000000</td>\n",
       "      <td>1.000000</td>\n",
       "      <td>2.000000</td>\n",
       "      <td>3.000000</td>\n",
       "      <td>0.000000</td>\n",
       "      <td>2.000000</td>\n",
       "    </tr>\n",
       "    <tr>\n",
       "      <th>75%</th>\n",
       "      <td>39.000000</td>\n",
       "      <td>4.000000</td>\n",
       "      <td>4.000000</td>\n",
       "      <td>4.000000</td>\n",
       "      <td>1.000000</td>\n",
       "      <td>1.000000</td>\n",
       "      <td>3.000000</td>\n",
       "      <td>4.000000</td>\n",
       "      <td>0.000000</td>\n",
       "      <td>3.000000</td>\n",
       "    </tr>\n",
       "    <tr>\n",
       "      <th>max</th>\n",
       "      <td>49.000000</td>\n",
       "      <td>4.000000</td>\n",
       "      <td>4.000000</td>\n",
       "      <td>16.000000</td>\n",
       "      <td>1.000000</td>\n",
       "      <td>1.000000</td>\n",
       "      <td>4.000000</td>\n",
       "      <td>4.000000</td>\n",
       "      <td>1.000000</td>\n",
       "      <td>3.000000</td>\n",
       "    </tr>\n",
       "  </tbody>\n",
       "</table>\n",
       "</div>"
      ],
      "text/plain": [
       "          wife_age  wife_education  husband_education     children  \\\n",
       "count  1473.000000     1473.000000        1473.000000  1473.000000   \n",
       "mean     32.538357        2.958588           3.429735     3.261371   \n",
       "std       8.227245        1.014994           0.816349     2.358549   \n",
       "min      16.000000        1.000000           1.000000     0.000000   \n",
       "25%      26.000000        2.000000           3.000000     1.000000   \n",
       "50%      32.000000        3.000000           4.000000     3.000000   \n",
       "75%      39.000000        4.000000           4.000000     4.000000   \n",
       "max      49.000000        4.000000           4.000000    16.000000   \n",
       "\n",
       "       wife_religion  wife_working  husband_occupation  \\\n",
       "count    1473.000000   1473.000000         1473.000000   \n",
       "mean        0.850645      0.749491            2.137814   \n",
       "std         0.356559      0.433453            0.864857   \n",
       "min         0.000000      0.000000            1.000000   \n",
       "25%         1.000000      0.000000            1.000000   \n",
       "50%         1.000000      1.000000            2.000000   \n",
       "75%         1.000000      1.000000            3.000000   \n",
       "max         1.000000      1.000000            4.000000   \n",
       "\n",
       "       standard_of_living_index  media_exposure  contraceptive_method_used  \n",
       "count               1473.000000     1473.000000                1473.000000  \n",
       "mean                   3.133741        0.073999                   1.919891  \n",
       "std                    0.976161        0.261858                   0.876376  \n",
       "min                    1.000000        0.000000                   1.000000  \n",
       "25%                    3.000000        0.000000                   1.000000  \n",
       "50%                    3.000000        0.000000                   2.000000  \n",
       "75%                    4.000000        0.000000                   3.000000  \n",
       "max                    4.000000        1.000000                   3.000000  "
      ]
     },
     "execution_count": 5,
     "metadata": {},
     "output_type": "execute_result"
    }
   ],
   "source": [
    "contraceptive_data.describe()"
   ]
  },
  {
   "cell_type": "markdown",
   "metadata": {},
   "source": [
    "_Notes_\n",
    "- The survey was conducted with wife's age between 16 to 49. The mean and median of wife's age is around 32 years old. These women's education and husband's education background ranges from low (1) to high (4). Men are better educated than women. \n",
    "- The number of children could range from 0 to 16. 50% of the couple has at least 3 children which is pretty close to the computed average number of children. \n",
    "- In this survery, almost 85% of the women are Islam.  Around 75% of the women are not working. The husband's occupation is equally distributed along every quartile but it seems there are more 3 because the mean is 2.13 meaning there are more men who have better occupation (3). attained secondary education. \n",
    "- The average of standard of living index is 3.13 which means there are more living comfortably than those below 3. \n",
    "- The average person might only have 7% media exposure. \n",
    "- Between 1 to 3 of contraceptive use, it can't be measured effectivity because it is categorized as short term, long term, and no used. Probably other charts or data would provide better insights."
   ]
  },
  {
   "cell_type": "markdown",
   "metadata": {},
   "source": [
    "# DATA VISUALIZATION AND CLEANING\n",
    "The wife's age and children are separated from the other columns to better visualize the plot. The wife's age and number of children have bigger ranges. Most attributes' ranges are hovering below 5\n"
   ]
  },
  {
   "cell_type": "code",
   "execution_count": 6,
   "metadata": {},
   "outputs": [
    {
     "data": {
      "text/plain": [
       "<matplotlib.axes._subplots.AxesSubplot at 0x164fae31070>"
      ]
     },
     "execution_count": 6,
     "metadata": {},
     "output_type": "execute_result"
    },
    {
     "data": {
      "image/png": "[encoded data removed]",
      "text/plain": [
       "<Figure size 432x288 with 1 Axes>"
      ]
     },
     "metadata": {
      "needs_background": "light"
     },
     "output_type": "display_data"
    }
   ],
   "source": [
    "contraceptive_data.plot(kind = 'box')"
   ]
  },
  {
   "cell_type": "code",
   "execution_count": 7,
   "metadata": {},
   "outputs": [],
   "source": [
    "#Created a function for remvoing the top outliers\n",
    "x = contraceptive_data.children\n",
    "u = 8.5\n",
    "def removing_top_outliers(x):\n",
    "    if x > u:\n",
    "        return u\n",
    "    else:\n",
    "        return x\n",
    "contraceptive_data.children = contraceptive_data.children.map(removing_top_outliers)"
   ]
  },
  {
   "cell_type": "code",
   "execution_count": 8,
   "metadata": {},
   "outputs": [],
   "source": [
    "x = contraceptive_data.media_exposure\n",
    "u = 0\n",
    "contraceptive_data.media_exposure = contraceptive_data.media_exposure.map(removing_top_outliers)"
   ]
  },
  {
   "cell_type": "code",
   "execution_count": 9,
   "metadata": {},
   "outputs": [],
   "source": [
    "#Created a function to remove the bottom outliers\n",
    "x = contraceptive_data.standard_of_living_index\n",
    "z = 1.75\n",
    "    \n",
    "def removing_bottom_outliers(x):\n",
    "    if x < z:\n",
    "        return z\n",
    "    \n",
    "    else:\n",
    "        return x\n",
    "\n",
    "contraceptive_data.standard_of_living_index = contraceptive_data.standard_of_living_index.map(removing_bottom_outliers)\n"
   ]
  },
  {
   "cell_type": "code",
   "execution_count": 10,
   "metadata": {},
   "outputs": [],
   "source": [
    "x= contraceptive_data.husband_education\n",
    "z= 1.5\n",
    "contraceptive_data.husband_education = contraceptive_data.husband_education.map(removing_bottom_outliers)"
   ]
  },
  {
   "cell_type": "code",
   "execution_count": 11,
   "metadata": {},
   "outputs": [],
   "source": [
    "x= contraceptive_data.wife_religion\n",
    "z= 1.00\n",
    "contraceptive_data.wife_religion = contraceptive_data.wife_religion.map(removing_bottom_outliers)"
   ]
  },
  {
   "cell_type": "code",
   "execution_count": 12,
   "metadata": {},
   "outputs": [],
   "source": [
    "x=contraceptive_data.wife_working\n",
    "z = 0.75\n",
    "contraceptive_data.wife_working = contraceptive_data.wife_working.map(removing_bottom_outliers)"
   ]
  },
  {
   "cell_type": "code",
   "execution_count": 13,
   "metadata": {},
   "outputs": [
    {
     "data": {
      "text/plain": [
       "<matplotlib.axes._subplots.AxesSubplot at 0x164fb642070>"
      ]
     },
     "execution_count": 13,
     "metadata": {},
     "output_type": "execute_result"
    },
    {
     "data": {
      "image/png": "[encoded data removed]",
      "text/plain": [
       "<Figure size 432x288 with 1 Axes>"
      ]
     },
     "metadata": {
      "needs_background": "light"
     },
     "output_type": "display_data"
    }
   ],
   "source": [
    "contraceptive_data.plot(kind = 'box')"
   ]
  },
  {
   "cell_type": "code",
   "execution_count": 14,
   "metadata": {},
   "outputs": [
    {
     "data": {
      "text/plain": [
       "<matplotlib.axes._subplots.AxesSubplot at 0x164fb7686a0>"
      ]
     },
     "execution_count": 14,
     "metadata": {},
     "output_type": "execute_result"
    },
    {
     "data": {
      "image/png": "[encoded data removed]",
      "text/plain": [
       "<Figure size 432x288 with 1 Axes>"
      ]
     },
     "metadata": {
      "needs_background": "light"
     },
     "output_type": "display_data"
    }
   ],
   "source": [
    "contraceptive_data.wife_age.plot(kind= 'box')"
   ]
  },
  {
   "cell_type": "code",
   "execution_count": 15,
   "metadata": {},
   "outputs": [
    {
     "data": {
      "text/plain": [
       "<matplotlib.axes._subplots.AxesSubplot at 0x164fb7c9ee0>"
      ]
     },
     "execution_count": 15,
     "metadata": {},
     "output_type": "execute_result"
    },
    {
     "data": {
      "image/png": "[encoded data removed]",
      "text/plain": [
       "<Figure size 432x288 with 1 Axes>"
      ]
     },
     "metadata": {
      "needs_background": "light"
     },
     "output_type": "display_data"
    }
   ],
   "source": [
    "contraceptive_data.children.plot(kind= 'box')"
   ]
  },
  {
   "cell_type": "code",
   "execution_count": 16,
   "metadata": {},
   "outputs": [
    {
     "data": {
      "text/plain": [
       "<matplotlib.axes._subplots.AxesSubplot at 0x164fb81a9d0>"
      ]
     },
     "execution_count": 16,
     "metadata": {},
     "output_type": "execute_result"
    },
    {
     "data": {
      "image/png": "[encoded data removed]",
      "text/plain": [
       "<Figure size 432x288 with 1 Axes>"
      ]
     },
     "metadata": {
      "needs_background": "light"
     },
     "output_type": "display_data"
    }
   ],
   "source": [
    "contraceptive_data2 = contraceptive_data.drop('wife_age', axis = 1)\n",
    "contraceptive_data2 = contraceptive_data2.drop('children', axis = 1)\n",
    "contraceptive_data2.plot(kind = 'box')"
   ]
  },
  {
   "cell_type": "markdown",
   "metadata": {},
   "source": [
    "_Notes_\n",
    "- The women's age is very symmetrical. The lower and upper fence is very balanced. There is no outlier to clean. \n",
    "- The number of children is slightly skewed to the right. It has a longer upper fence.\n",
    "- The wife's education is the upper fence and 3rd Quartile are on the same line. The median is around 3. Having the 1st Quartile on 2 and lower fence on 1.\n",
    "- The husband's education is on 4 which is the 3rd quartile and median while its 1st quartile is on 3 and lower fence which is on 1.5\n",
    "- Most of the women are Islam.\n",
    "- Majority of the women are not working. \n",
    "- The husband's occupation is an upper fence but has no lower fence. The first quartile, median and 3rd quartile are represented in this box plot.\n",
    "- The upper fence and the 3rd quartile are on the same line in the standard of living index. There is no 1st quartile, but it has a lower fence.\n",
    "- Majority of the people surveyed don't have many media exposure.\n",
    "- The interpretation for the contraceptive method used is given the placeholder is between 1 to 3. This plot looks symmetrical without lower and upper fences."
   ]
  },
  {
   "cell_type": "markdown",
   "metadata": {},
   "source": [
    "# Analysis Of The Different Attributes Using Histograms\n"
   ]
  },
  {
   "cell_type": "code",
   "execution_count": 17,
   "metadata": {},
   "outputs": [
    {
     "name": "stdout",
     "output_type": "stream",
     "text": [
      "Saving figure attribute_histogram_plots\n"
     ]
    },
    {
     "data": {
      "image/png": "[encoded data removed]",
      "text/plain": [
       "<Figure size 1440x1080 with 12 Axes>"
      ]
     },
     "metadata": {
      "needs_background": "light"
     },
     "output_type": "display_data"
    }
   ],
   "source": [
    "PROJECT_ROOT_DIR = \".\"\n",
    "CHAPTER_ID = \"end_to_end_project\"\n",
    "IMAGES_PATH = os.path.join(PROJECT_ROOT_DIR, \"images\", CHAPTER_ID)\n",
    "os.makedirs(IMAGES_PATH, exist_ok=True)\n",
    "\n",
    "def save_fig(fig_id, tight_layout=True, fig_extension=\"png\", resolution=300):\n",
    "    path = os.path.join(IMAGES_PATH, fig_id + \".\" + fig_extension)\n",
    "    print(\"Saving figure\", fig_id)\n",
    "    if tight_layout:\n",
    "        plt.tight_layout()\n",
    "    plt.savefig(path, format=fig_extension, dpi=resolution)\n",
    "    \n",
    "\n",
    "contraceptive_data.hist(bins=50, figsize=(20,15))\n",
    "save_fig(\"attribute_histogram_plots\")\n",
    "plt.show()"
   ]
  },
  {
   "cell_type": "markdown",
   "metadata": {},
   "source": [
    "_Note_\n",
    "- Based on the histogram, the wife's age and number of children are rightly skewed. The wife's age is continuous number while the number of children is discrete number.\n",
    "- The attributes, husband's education, husband's occupation, standard of living index, and wife's education are ordinal numbers. They are represented in ascending order with 1 being the lowest and 4 being the highest. The standard of living index, husband's occupation, wife's and husband's education was rightly skewed. Both genders have attained high level of education but the more men have finished their secondary education education than women.\n",
    "- The attributes, wife's religion, wife working, contraceptive methods and media exposure, are nominal scales. Wife's religion is either islam (1) or not (0). In this survey, the majority of the wife's religion is Islam.  The wife is either working (0) or not (1). In this survey, most wives are not working. The contraceptive method are placeholders for not using (0), long term use (1), and short term use (1). In this study, there are more people not using contraceptive methods. There are not more people using contraception in a short term period as opposed to using them long term. However, the survey didn't provide what is the time span between long and short term. The media exposure is either good (0) or not good (1). In this survey, the person doesn't have good amount of media exposure.\n",
    "- The population predictor is generated from number of children in the family that are more than 2. There are more than 2 children in the family than less than 2 children.\n"
   ]
  },
  {
   "cell_type": "code",
   "execution_count": null,
   "metadata": {},
   "outputs": [],
   "source": []
  }
 ],
 "metadata": {
  "kernelspec": {
   "display_name": "Python 3",
   "language": "python",
   "name": "python3"
  },
  "language_info": {
   "codemirror_mode": {
    "name": "ipython",
    "version": 3
   },
   "file_extension": ".py",
   "mimetype": "text/x-python",
   "name": "python",
   "nbconvert_exporter": "python",
   "pygments_lexer": "ipython3",
   "version": "3.8.5"
  }
 },
 "nbformat": 4,
 "nbformat_minor": 4
}
