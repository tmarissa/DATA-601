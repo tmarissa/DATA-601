{
 "cells": [
  {
   "cell_type": "code",
   "execution_count": 1,
   "metadata": {},
   "outputs": [],
   "source": [
    "import pandas as pd\n",
    "import numpy as np\n",
    "from sklearn.model_selection import train_test_split\n",
    "from sklearn.preprocessing import StandardScaler\n",
    "from sklearn.linear_model import LogisticRegression\n",
    "from sklearn.decomposition import PCA\n",
    "import matplotlib.gridspec as gridspec\n",
    "import itertools\n",
    "from mlxtend.plotting import plot_decision_regions\n",
    "import matplotlib.pyplot as plt\n",
    "from sklearn.model_selection import cross_validate\n",
    "\n"
   ]
  },
  {
   "cell_type": "markdown",
   "metadata": {},
   "source": [
    "# DATASET\n",
    "The dataset below has been explained in earlier notebooks and is being used here to carry on the data. "
   ]
  },
  {
   "cell_type": "code",
   "execution_count": 2,
   "metadata": {},
   "outputs": [],
   "source": [
    "contraceptive_data = pd.read_csv(\"contraceptive_method_dataset.csv\", \n",
    "                                 encoding = \"ISO-8859-1\", engine='python')\n",
    "X = contraceptive_data.drop('children', axis=1).copy()\n",
    "contraceptive_data['predictor_population']= pd.cut(contraceptive_data['children'],\n",
    "                                       [-1,2,16], labels=[0,1])\n",
    "contraceptive_data['predictor_population_i']= contraceptive_data['predictor_population'].astype(int)\n",
    "y= contraceptive_data['predictor_population_i']\n",
    "X_train, X_test, y_train, y_test = train_test_split(X, y, test_size = 0.3, \n",
    "                                                    random_state = 24, stratify = y )"
   ]
  },
  {
   "cell_type": "code",
   "execution_count": 3,
   "metadata": {},
   "outputs": [],
   "source": [
    "# Standard Scaler with Sklearn\n",
    "std_scaler = StandardScaler()\n",
    "#Training mean and std was calculated and was used in the transformation.\n",
    "std_scaler.fit(X_train)\n",
    "X_train_scaled = std_scaler.transform(X_train)\n",
    "## Never fit onto Test data!! Only Transform\n",
    "X_test_scaled  = std_scaler.transform(X_test)"
   ]
  },
  {
   "cell_type": "markdown",
   "metadata": {},
   "source": [
    "# Logistic Regression Modeling\n",
    "### Without Regularization (Vanilla Log Regression)"
   ]
  },
  {
   "cell_type": "code",
   "execution_count": 4,
   "metadata": {},
   "outputs": [],
   "source": [
    "#Import Logistic Regression\n",
    "from sklearn.linear_model import LogisticRegression"
   ]
  },
  {
   "cell_type": "code",
   "execution_count": 5,
   "metadata": {},
   "outputs": [],
   "source": [
    "#Instantiate Logistic Regression with no penalty\n",
    "lr = LogisticRegression(penalty = 'none')"
   ]
  },
  {
   "cell_type": "code",
   "execution_count": 6,
   "metadata": {},
   "outputs": [
    {
     "data": {
      "text/plain": [
       "LogisticRegression(penalty='none')"
      ]
     },
     "execution_count": 6,
     "metadata": {},
     "output_type": "execute_result"
    }
   ],
   "source": [
    "#Fit Model and learned the coefficients\n",
    "lr.fit(X_train_scaled, y_train) "
   ]
  },
  {
   "cell_type": "code",
   "execution_count": 7,
   "metadata": {},
   "outputs": [],
   "source": [
    "#y_pred is the estimated targets as returned by a classifier.\n",
    "y_pred = lr.predict(X_train_scaled)"
   ]
  },
  {
   "cell_type": "code",
   "execution_count": 8,
   "metadata": {},
   "outputs": [
    {
     "name": "stdout",
     "output_type": "stream",
     "text": [
      "0.7769156159068865\n"
     ]
    }
   ],
   "source": [
    "#This is the accuracy of the trained data\n",
    "score = lr.score(X_train_scaled, y_train)\n",
    "print(score)"
   ]
  },
  {
   "cell_type": "code",
   "execution_count": 9,
   "metadata": {},
   "outputs": [],
   "source": [
    "#from sklearn.metrics import confusion_matrix\n",
    "from sklearn.metrics import confusion_matrix"
   ]
  },
  {
   "cell_type": "code",
   "execution_count": 10,
   "metadata": {},
   "outputs": [
    {
     "data": {
      "text/plain": [
       "array([[324, 130],\n",
       "       [100, 477]], dtype=int64)"
      ]
     },
     "execution_count": 10,
     "metadata": {},
     "output_type": "execute_result"
    }
   ],
   "source": [
    "#Create confusion matrix to evaluate the accuracy of the classification\n",
    "cm = confusion_matrix(y_train, y_pred)\n",
    "cm"
   ]
  },
  {
   "cell_type": "code",
   "execution_count": 11,
   "metadata": {},
   "outputs": [
    {
     "data": {
      "text/plain": [
       "0.753393665158371"
      ]
     },
     "execution_count": 11,
     "metadata": {},
     "output_type": "execute_result"
    }
   ],
   "source": [
    "#This is the accuracy of the test data\n",
    "lr.score(X_test_scaled, y_test)"
   ]
  },
  {
   "cell_type": "code",
   "execution_count": 12,
   "metadata": {},
   "outputs": [],
   "source": [
    "import utils"
   ]
  },
  {
   "cell_type": "code",
   "execution_count": 13,
   "metadata": {},
   "outputs": [
    {
     "data": {
      "image/png": "[encoded data removed]",
      "text/plain": [
       "<Figure size 648x648 with 2 Axes>"
      ]
     },
     "metadata": {
      "needs_background": "light"
     },
     "output_type": "display_data"
    }
   ],
   "source": [
    "utils.plot_confusion_matrix(cm, score)"
   ]
  },
  {
   "cell_type": "markdown",
   "metadata": {},
   "source": [
    "_Notes_\n",
    "- For this Logistic Regression Model without Regularization. The Accuracy of the Test score is 0.7769 ~ 0.7769156159068865 while the Accuracy of the Train Score is  0.7534 ~ 0.753393665158371. Here is the Test Score is higher than the Train Score.\n",
    "- The Accuracy Score of this plot confusion matrix is approximately 0.7769 ~ 0.77691561590.\n",
    "- Of the no population increase (index 0) 454 which is 324 + 130, 324 (71.36%) is correctly classified. On the other hand the population increase (index 1) 577 which is 477 + 100, 477 (82.66897%) is correctly classified."
   ]
  },
  {
   "cell_type": "markdown",
   "metadata": {},
   "source": [
    "## Cross Validation\n",
    "Using X train scaled and y train to do a cross validation for 5 split with no penalty, return train score and return estimator "
   ]
  },
  {
   "cell_type": "code",
   "execution_count": 14,
   "metadata": {},
   "outputs": [],
   "source": [
    "lr = LogisticRegression(penalty = 'none')"
   ]
  },
  {
   "cell_type": "code",
   "execution_count": 15,
   "metadata": {},
   "outputs": [
    {
     "name": "stderr",
     "output_type": "stream",
     "text": [
      "[Parallel(n_jobs=-1)]: Using backend LokyBackend with 4 concurrent workers.\n",
      "[Parallel(n_jobs=-1)]: Done   5 out of   5 | elapsed:    3.6s finished\n"
     ]
    }
   ],
   "source": [
    "#Using only trained data with 5 cross validation with return train score\n",
    "cv_fivefold = cross_validate(estimator= lr, \n",
    "                             X = X_train_scaled,\n",
    "                             y = y_train,\n",
    "                             cv = 5,\n",
    "                             n_jobs= -1, \n",
    "                             return_train_score= True, \n",
    "                             return_estimator= True, verbose = 2)"
   ]
  },
  {
   "cell_type": "code",
   "execution_count": 16,
   "metadata": {},
   "outputs": [
    {
     "data": {
      "text/plain": [
       "array([0.7826087 , 0.7815534 , 0.80582524, 0.72330097, 0.76699029])"
      ]
     },
     "execution_count": 16,
     "metadata": {},
     "output_type": "execute_result"
    }
   ],
   "source": [
    "#Investigate the cv results. cv_fivefold is a directory because it has curly bracket\n",
    "cv_fivefold['test_score']"
   ]
  },
  {
   "cell_type": "code",
   "execution_count": 17,
   "metadata": {},
   "outputs": [
    {
     "data": {
      "text/plain": [
       "array([0.77427184, 0.77090909, 0.76727273, 0.78787879, 0.78181818])"
      ]
     },
     "execution_count": 17,
     "metadata": {},
     "output_type": "execute_result"
    }
   ],
   "source": [
    "\n",
    "cv_fivefold['train_score']"
   ]
  },
  {
   "cell_type": "code",
   "execution_count": 18,
   "metadata": {},
   "outputs": [],
   "source": [
    "validation_mean = cv_fivefold['test_score'].mean()\n",
    "\n",
    "validation_std = cv_fivefold['test_score'].std()"
   ]
  },
  {
   "cell_type": "code",
   "execution_count": 19,
   "metadata": {},
   "outputs": [
    {
     "name": "stdout",
     "output_type": "stream",
     "text": [
      "Vanilla Logistic Regression 5-fold cv results (Accuracy) 0.772 +/- 0.027\n"
     ]
    }
   ],
   "source": [
    "print('Vanilla Logistic Regression 5-fold cv results (Accuracy) %.3f +/- %.3f'%(validation_mean, validation_std))"
   ]
  },
  {
   "cell_type": "markdown",
   "metadata": {},
   "source": [
    "_Notes_\n",
    "- The Vanilla Log Regression (Accuracy) without regularization is .772 +/- 0.027 which is almost the same as the accuracy of the test data which is 0.753393665158371."
   ]
  },
  {
   "cell_type": "markdown",
   "metadata": {},
   "source": [
    "# Logistic with Regularization\n"
   ]
  },
  {
   "cell_type": "code",
   "execution_count": 20,
   "metadata": {},
   "outputs": [],
   "source": [
    "from sklearn.linear_model import LogisticRegression"
   ]
  },
  {
   "cell_type": "code",
   "execution_count": 21,
   "metadata": {},
   "outputs": [],
   "source": [
    "lr = LogisticRegression(penalty = 'l2', C = 1, solver = 'saga', max_iter= 1000)"
   ]
  },
  {
   "cell_type": "markdown",
   "metadata": {},
   "source": [
    "## Logistic Regression with Scaling"
   ]
  },
  {
   "cell_type": "code",
   "execution_count": 22,
   "metadata": {},
   "outputs": [
    {
     "data": {
      "text/plain": [
       "LogisticRegression(C=1, max_iter=1000, solver='saga')"
      ]
     },
     "execution_count": 22,
     "metadata": {},
     "output_type": "execute_result"
    }
   ],
   "source": [
    "lr.fit(X_train_scaled, y_train)"
   ]
  },
  {
   "cell_type": "code",
   "execution_count": 23,
   "metadata": {},
   "outputs": [],
   "source": [
    "y_pred = lr.predict(X_train_scaled)"
   ]
  },
  {
   "cell_type": "code",
   "execution_count": 24,
   "metadata": {},
   "outputs": [
    {
     "data": {
      "text/plain": [
       "array([[324, 130],\n",
       "       [100, 477]], dtype=int64)"
      ]
     },
     "execution_count": 24,
     "metadata": {},
     "output_type": "execute_result"
    }
   ],
   "source": [
    "confusion_matrix(y_train, y_pred)"
   ]
  },
  {
   "cell_type": "markdown",
   "metadata": {},
   "source": [
    "## Cross Validation\n",
    "Using X train scaled and y train to do a cross validation for 5 split with return train score and return estimator"
   ]
  },
  {
   "cell_type": "code",
   "execution_count": 25,
   "metadata": {},
   "outputs": [
    {
     "name": "stdout",
     "output_type": "stream",
     "text": [
      "[CV]  ................................................................\n",
      "[CV] ................................................. , total=   0.0s\n",
      "[CV]  ................................................................\n",
      "[CV] ................................................. , total=   0.0s\n",
      "[CV]  ................................................................\n",
      "[CV] ................................................. , total=   0.0s\n",
      "[CV]  ................................................................\n",
      "[CV] ................................................. , total=   0.0s\n",
      "[CV]  ................................................................\n",
      "[CV] ................................................. , total=   0.0s\n"
     ]
    },
    {
     "name": "stderr",
     "output_type": "stream",
     "text": [
      "[Parallel(n_jobs=1)]: Using backend SequentialBackend with 1 concurrent workers.\n",
      "[Parallel(n_jobs=1)]: Done   1 out of   1 | elapsed:    0.0s remaining:    0.0s\n",
      "[Parallel(n_jobs=1)]: Done   5 out of   5 | elapsed:    0.0s finished\n"
     ]
    }
   ],
   "source": [
    "cv_fivefold = cross_validate(estimator= lr, \n",
    "                             X = X_train_scaled,\n",
    "                             y = y_train,\n",
    "                             cv = 5,\n",
    "                             return_train_score= True, \n",
    "                             return_estimator= True, verbose = 2)"
   ]
  },
  {
   "cell_type": "code",
   "execution_count": 26,
   "metadata": {},
   "outputs": [
    {
     "name": "stdout",
     "output_type": "stream",
     "text": [
      "Vanilla Regression 5-fold cv results (Accuracy) 0.772 =/- 0.027\n"
     ]
    }
   ],
   "source": [
    "validation_mean = cv_fivefold['test_score'].mean()\n",
    "\n",
    "validation_std = cv_fivefold['test_score'].std()\n",
    "\n",
    "print('Vanilla Regression 5-fold cv results (Accuracy) %.3f =/- %.3f'%(validation_mean, validation_std))"
   ]
  },
  {
   "cell_type": "markdown",
   "metadata": {},
   "source": [
    "_Notes_\n",
    "- The Logistic Regression Modeling without regularization has the same result in the vanilla regression 5-fold cv results. Its accuracy are both 77.2% +/- 0.027"
   ]
  },
  {
   "cell_type": "markdown",
   "metadata": {},
   "source": [
    "## Grid Search Validation with Ridge"
   ]
  },
  {
   "cell_type": "code",
   "execution_count": 27,
   "metadata": {},
   "outputs": [
    {
     "name": "stdout",
     "output_type": "stream",
     "text": [
      "Fitting 5 folds for each of 10 candidates, totalling 50 fits\n",
      "[CV] C=0.01, penalty=l1 ..............................................\n",
      "[CV] ............................... C=0.01, penalty=l1, total=   0.0s\n",
      "[CV] C=0.01, penalty=l1 ..............................................\n",
      "[CV] ............................... C=0.01, penalty=l1, total=   0.0s\n",
      "[CV] C=0.01, penalty=l1 ..............................................\n",
      "[CV] ............................... C=0.01, penalty=l1, total=   0.0s\n",
      "[CV] C=0.01, penalty=l1 ..............................................\n",
      "[CV] ............................... C=0.01, penalty=l1, total=   0.0s\n",
      "[CV] C=0.01, penalty=l1 ..............................................\n",
      "[CV] ............................... C=0.01, penalty=l1, total=   0.0s\n",
      "[CV] C=0.01, penalty=l2 ..............................................\n",
      "[CV] ............................... C=0.01, penalty=l2, total=   0.0s\n",
      "[CV] C=0.01, penalty=l2 ..............................................\n",
      "[CV] ............................... C=0.01, penalty=l2, total=   0.0s\n",
      "[CV] C=0.01, penalty=l2 ..............................................\n",
      "[CV] ............................... C=0.01, penalty=l2, total=   0.0s\n",
      "[CV] C=0.01, penalty=l2 ..............................................\n",
      "[CV] ............................... C=0.01, penalty=l2, total=   0.0s\n",
      "[CV] C=0.01, penalty=l2 ..............................................\n",
      "[CV] ............................... C=0.01, penalty=l2, total=   0.0s\n",
      "[CV] C=0.1, penalty=l1 ...............................................\n",
      "[CV] ................................ C=0.1, penalty=l1, total=   0.0s\n",
      "[CV] C=0.1, penalty=l1 ...............................................\n",
      "[CV] ................................ C=0.1, penalty=l1, total=   0.0s\n",
      "[CV] C=0.1, penalty=l1 ...............................................\n",
      "[CV] ................................ C=0.1, penalty=l1, total=   0.0s\n",
      "[CV] C=0.1, penalty=l1 ...............................................\n",
      "[CV] ................................ C=0.1, penalty=l1, total=   0.0s\n",
      "[CV] C=0.1, penalty=l1 ...............................................\n",
      "[CV] ................................ C=0.1, penalty=l1, total=   0.0s\n",
      "[CV] C=0.1, penalty=l2 ...............................................\n",
      "[CV] ................................ C=0.1, penalty=l2, total=   0.0s\n",
      "[CV] C=0.1, penalty=l2 ...............................................\n",
      "[CV] ................................ C=0.1, penalty=l2, total=   0.0s\n",
      "[CV] C=0.1, penalty=l2 ...............................................\n",
      "[CV] ................................ C=0.1, penalty=l2, total=   0.0s\n",
      "[CV] C=0.1, penalty=l2 ...............................................\n",
      "[CV] ................................ C=0.1, penalty=l2, total=   0.0s\n",
      "[CV] C=0.1, penalty=l2 ...............................................\n",
      "[CV] ................................ C=0.1, penalty=l2, total=   0.0s\n",
      "[CV] C=1, penalty=l1 .................................................\n",
      "[CV] .................................. C=1, penalty=l1, total=   0.0s\n",
      "[CV] C=1, penalty=l1 .................................................\n",
      "[CV] .................................. C=1, penalty=l1, total=   0.0s\n",
      "[CV] C=1, penalty=l1 .................................................\n",
      "[CV] .................................. C=1, penalty=l1, total=   0.0s"
     ]
    },
    {
     "name": "stderr",
     "output_type": "stream",
     "text": [
      "[Parallel(n_jobs=1)]: Using backend SequentialBackend with 1 concurrent workers.\n",
      "[Parallel(n_jobs=1)]: Done   1 out of   1 | elapsed:    0.0s remaining:    0.0s\n"
     ]
    },
    {
     "name": "stdout",
     "output_type": "stream",
     "text": [
      "\n",
      "[CV] C=1, penalty=l1 .................................................\n",
      "[CV] .................................. C=1, penalty=l1, total=   0.0s\n",
      "[CV] C=1, penalty=l1 .................................................\n",
      "[CV] .................................. C=1, penalty=l1, total=   0.0s\n",
      "[CV] C=1, penalty=l2 .................................................\n",
      "[CV] .................................. C=1, penalty=l2, total=   0.0s\n",
      "[CV] C=1, penalty=l2 .................................................\n",
      "[CV] .................................. C=1, penalty=l2, total=   0.0s\n",
      "[CV] C=1, penalty=l2 .................................................\n",
      "[CV] .................................. C=1, penalty=l2, total=   0.0s\n",
      "[CV] C=1, penalty=l2 .................................................\n",
      "[CV] .................................. C=1, penalty=l2, total=   0.0s\n",
      "[CV] C=1, penalty=l2 .................................................\n",
      "[CV] .................................. C=1, penalty=l2, total=   0.0s\n",
      "[CV] C=10, penalty=l1 ................................................\n",
      "[CV] ................................. C=10, penalty=l1, total=   0.0s\n",
      "[CV] C=10, penalty=l1 ................................................\n",
      "[CV] ................................. C=10, penalty=l1, total=   0.0s\n",
      "[CV] C=10, penalty=l1 ................................................\n",
      "[CV] ................................. C=10, penalty=l1, total=   0.0s\n",
      "[CV] C=10, penalty=l1 ................................................\n",
      "[CV] ................................. C=10, penalty=l1, total=   0.0s\n",
      "[CV] C=10, penalty=l1 ................................................\n",
      "[CV] ................................. C=10, penalty=l1, total=   0.0s\n",
      "[CV] C=10, penalty=l2 ................................................\n",
      "[CV] ................................. C=10, penalty=l2, total=   0.0s\n",
      "[CV] C=10, penalty=l2 ................................................\n",
      "[CV] ................................. C=10, penalty=l2, total=   0.0s\n",
      "[CV] C=10, penalty=l2 ................................................\n",
      "[CV] ................................. C=10, penalty=l2, total=   0.0s\n",
      "[CV] C=10, penalty=l2 ................................................\n",
      "[CV] ................................. C=10, penalty=l2, total=   0.0s\n",
      "[CV] C=10, penalty=l2 ................................................\n",
      "[CV] ................................. C=10, penalty=l2, total=   0.0s\n",
      "[CV] C=100, penalty=l1 ...............................................\n",
      "[CV] ................................ C=100, penalty=l1, total=   0.0s\n",
      "[CV] C=100, penalty=l1 ...............................................\n",
      "[CV] ................................ C=100, penalty=l1, total=   0.0s\n",
      "[CV] C=100, penalty=l1 ...............................................\n",
      "[CV] ................................ C=100, penalty=l1, total=   0.0s\n",
      "[CV] C=100, penalty=l1 ...............................................\n",
      "[CV] ................................ C=100, penalty=l1, total=   0.0s\n",
      "[CV] C=100, penalty=l1 ...............................................\n",
      "[CV] ................................ C=100, penalty=l1, total=   0.0s\n",
      "[CV] C=100, penalty=l2 ...............................................\n",
      "[CV] ................................ C=100, penalty=l2, total=   0.0s\n",
      "[CV] C=100, penalty=l2 ...............................................\n",
      "[CV] ................................ C=100, penalty=l2, total=   0.0s\n",
      "[CV] C=100, penalty=l2 ...............................................\n",
      "[CV] ................................ C=100, penalty=l2, total=   0.0s\n",
      "[CV] C=100, penalty=l2 ...............................................\n",
      "[CV] ................................ C=100, penalty=l2, total=   0.0s\n",
      "[CV] C=100, penalty=l2 ...............................................\n",
      "[CV] ................................ C=100, penalty=l2, total=   0.0s\n"
     ]
    },
    {
     "name": "stderr",
     "output_type": "stream",
     "text": [
      "[Parallel(n_jobs=1)]: Done  50 out of  50 | elapsed:    0.3s finished\n"
     ]
    },
    {
     "data": {
      "text/plain": [
       "GridSearchCV(cv=5,\n",
       "             estimator=LogisticRegression(C=1, max_iter=1000, solver='saga'),\n",
       "             param_grid={'C': [0.01, 0.1, 1, 10, 100], 'penalty': ['l1', 'l2']},\n",
       "             return_train_score=True, verbose=2)"
      ]
     },
     "execution_count": 27,
     "metadata": {},
     "output_type": "execute_result"
    }
   ],
   "source": [
    "from sklearn.model_selection import GridSearchCV\n",
    "from sklearn.linear_model import LogisticRegression\n",
    "#Penalty of l2 is Ridge\n",
    "lr = LogisticRegression(penalty = 'l2', C = 1, solver = 'saga', max_iter= 1000)\n",
    "lr.fit(X_train_scaled, y_train)\n",
    "\n",
    "# Prepare a grid with C and penalty. Next, Instantiate the grid search. Lastly, the fit the\n",
    "# grid search\n",
    "grid = {'C': [0.01, 0.1, 1, 10, 100], 'penalty': ['l1', 'l2']}\n",
    "grid_search_cv = GridSearchCV(estimator = lr, param_grid= grid, \n",
    "                              cv =5, return_train_score= True, verbose= 2)\n",
    "grid_search_cv.fit(X_train_scaled, y_train)"
   ]
  },
  {
   "cell_type": "code",
   "execution_count": 28,
   "metadata": {},
   "outputs": [
    {
     "data": {
      "text/plain": [
       "{'mean_fit_time': array([0.00313411, 0.0078649 , 0.00552802, 0.        , 0.00688934,\n",
       "        0.00625091, 0.00515261, 0.00826225, 0.00719495, 0.00619445]),\n",
       " 'std_fit_time': array([0.00626822, 0.00698872, 0.00686671, 0.        , 0.00786115,\n",
       "        0.00765577, 0.00654446, 0.00745809, 0.00146891, 0.00116457]),\n",
       " 'mean_score_time': array([0.00311704, 0.00019569, 0.        , 0.00624957, 0.00332484,\n",
       "        0.        , 0.00019989, 0.0006    , 0.00039992, 0.00080161]),\n",
       " 'std_score_time': array([0.00623407, 0.00039139, 0.        , 0.00765413, 0.00616145,\n",
       "        0.        , 0.00039978, 0.0004899 , 0.0004898 , 0.00040082]),\n",
       " 'param_C': masked_array(data=[0.01, 0.01, 0.1, 0.1, 1, 1, 10, 10, 100, 100],\n",
       "              mask=[False, False, False, False, False, False, False, False,\n",
       "                    False, False],\n",
       "        fill_value='?',\n",
       "             dtype=object),\n",
       " 'param_penalty': masked_array(data=['l1', 'l2', 'l1', 'l2', 'l1', 'l2', 'l1', 'l2', 'l1',\n",
       "                    'l2'],\n",
       "              mask=[False, False, False, False, False, False, False, False,\n",
       "                    False, False],\n",
       "        fill_value='?',\n",
       "             dtype=object),\n",
       " 'params': [{'C': 0.01, 'penalty': 'l1'},\n",
       "  {'C': 0.01, 'penalty': 'l2'},\n",
       "  {'C': 0.1, 'penalty': 'l1'},\n",
       "  {'C': 0.1, 'penalty': 'l2'},\n",
       "  {'C': 1, 'penalty': 'l1'},\n",
       "  {'C': 1, 'penalty': 'l2'},\n",
       "  {'C': 10, 'penalty': 'l1'},\n",
       "  {'C': 10, 'penalty': 'l2'},\n",
       "  {'C': 100, 'penalty': 'l1'},\n",
       "  {'C': 100, 'penalty': 'l2'}],\n",
       " 'split0_test_score': array([0.74396135, 0.7826087 , 0.77294686, 0.7826087 , 0.7826087 ,\n",
       "        0.7826087 , 0.7826087 , 0.7826087 , 0.7826087 , 0.7826087 ]),\n",
       " 'split1_test_score': array([0.73786408, 0.79126214, 0.77669903, 0.7815534 , 0.78640777,\n",
       "        0.7815534 , 0.78640777, 0.7815534 , 0.78640777, 0.7815534 ]),\n",
       " 'split2_test_score': array([0.76213592, 0.80097087, 0.80582524, 0.81067961, 0.80582524,\n",
       "        0.80582524, 0.80582524, 0.80582524, 0.80582524, 0.80582524]),\n",
       " 'split3_test_score': array([0.7184466 , 0.72815534, 0.73300971, 0.73300971, 0.73300971,\n",
       "        0.72330097, 0.72330097, 0.72330097, 0.72330097, 0.72330097]),\n",
       " 'split4_test_score': array([0.73300971, 0.76699029, 0.76213592, 0.76699029, 0.76699029,\n",
       "        0.76699029, 0.76699029, 0.76699029, 0.76699029, 0.76699029]),\n",
       " 'mean_test_score': array([0.73908353, 0.77399747, 0.77012335, 0.77496834, 0.77496834,\n",
       "        0.77205572, 0.77302659, 0.77205572, 0.77302659, 0.77205572]),\n",
       " 'std_test_score': array([0.01427913, 0.02549662, 0.0235247 , 0.025303  , 0.02435389,\n",
       "        0.02736653, 0.0277694 , 0.02736653, 0.0277694 , 0.02736653]),\n",
       " 'rank_test_score': array([10,  3,  9,  1,  1,  6,  4,  6,  4,  6]),\n",
       " 'split0_train_score': array([0.74150485, 0.77305825, 0.78398058, 0.77548544, 0.77548544,\n",
       "        0.77427184, 0.77427184, 0.77427184, 0.77427184, 0.77427184]),\n",
       " 'split1_train_score': array([0.7430303 , 0.77575758, 0.77212121, 0.77818182, 0.77575758,\n",
       "        0.77333333, 0.77333333, 0.77090909, 0.77090909, 0.77090909]),\n",
       " 'split2_train_score': array([0.72      , 0.76484848, 0.77333333, 0.76484848, 0.76727273,\n",
       "        0.76606061, 0.76727273, 0.76727273, 0.76727273, 0.76727273]),\n",
       " 'split3_train_score': array([0.74787879, 0.78909091, 0.7830303 , 0.7830303 , 0.78545455,\n",
       "        0.78666667, 0.78787879, 0.78787879, 0.78787879, 0.78787879]),\n",
       " 'split4_train_score': array([0.74424242, 0.78181818, 0.77454545, 0.7830303 , 0.78060606,\n",
       "        0.7830303 , 0.78181818, 0.78181818, 0.78181818, 0.78181818]),\n",
       " 'mean_train_score': array([0.73933127, 0.77691468, 0.77740218, 0.77691527, 0.77691527,\n",
       "        0.77667255, 0.77691497, 0.77643013, 0.77643013, 0.77643013]),\n",
       " 'std_train_score': array([0.00989227, 0.00817446, 0.00505086, 0.00669392, 0.00604821,\n",
       "        0.00734616, 0.00716985, 0.00747129, 0.00747129, 0.00747129])}"
      ]
     },
     "execution_count": 28,
     "metadata": {},
     "output_type": "execute_result"
    }
   ],
   "source": [
    "#Check the grid search cv results. Then make the dataframe\n",
    "grid_search_cv.cv_results_"
   ]
  },
  {
   "cell_type": "code",
   "execution_count": 29,
   "metadata": {},
   "outputs": [
    {
     "data": {
      "text/html": [
       "<div>\n",
       "<style scoped>\n",
       "    .dataframe tbody tr th:only-of-type {\n",
       "        vertical-align: middle;\n",
       "    }\n",
       "\n",
       "    .dataframe tbody tr th {\n",
       "        vertical-align: top;\n",
       "    }\n",
       "\n",
       "    .dataframe thead th {\n",
       "        text-align: right;\n",
       "    }\n",
       "</style>\n",
       "<table border=\"1\" class=\"dataframe\">\n",
       "  <thead>\n",
       "    <tr style=\"text-align: right;\">\n",
       "      <th></th>\n",
       "      <th>3</th>\n",
       "      <th>4</th>\n",
       "      <th>1</th>\n",
       "      <th>6</th>\n",
       "      <th>8</th>\n",
       "      <th>5</th>\n",
       "      <th>7</th>\n",
       "      <th>9</th>\n",
       "      <th>2</th>\n",
       "      <th>0</th>\n",
       "    </tr>\n",
       "  </thead>\n",
       "  <tbody>\n",
       "    <tr>\n",
       "      <th>mean_fit_time</th>\n",
       "      <td>0</td>\n",
       "      <td>0.00688934</td>\n",
       "      <td>0.0078649</td>\n",
       "      <td>0.00515261</td>\n",
       "      <td>0.00719495</td>\n",
       "      <td>0.00625091</td>\n",
       "      <td>0.00826225</td>\n",
       "      <td>0.00619445</td>\n",
       "      <td>0.00552802</td>\n",
       "      <td>0.00313411</td>\n",
       "    </tr>\n",
       "    <tr>\n",
       "      <th>std_fit_time</th>\n",
       "      <td>0</td>\n",
       "      <td>0.00786115</td>\n",
       "      <td>0.00698872</td>\n",
       "      <td>0.00654446</td>\n",
       "      <td>0.00146891</td>\n",
       "      <td>0.00765577</td>\n",
       "      <td>0.00745809</td>\n",
       "      <td>0.00116457</td>\n",
       "      <td>0.00686671</td>\n",
       "      <td>0.00626822</td>\n",
       "    </tr>\n",
       "    <tr>\n",
       "      <th>mean_score_time</th>\n",
       "      <td>0.00624957</td>\n",
       "      <td>0.00332484</td>\n",
       "      <td>0.000195694</td>\n",
       "      <td>0.00019989</td>\n",
       "      <td>0.000399923</td>\n",
       "      <td>0</td>\n",
       "      <td>0.000600004</td>\n",
       "      <td>0.000801611</td>\n",
       "      <td>0</td>\n",
       "      <td>0.00311704</td>\n",
       "    </tr>\n",
       "    <tr>\n",
       "      <th>std_score_time</th>\n",
       "      <td>0.00765413</td>\n",
       "      <td>0.00616145</td>\n",
       "      <td>0.000391388</td>\n",
       "      <td>0.00039978</td>\n",
       "      <td>0.000489804</td>\n",
       "      <td>0</td>\n",
       "      <td>0.000489901</td>\n",
       "      <td>0.000400822</td>\n",
       "      <td>0</td>\n",
       "      <td>0.00623407</td>\n",
       "    </tr>\n",
       "    <tr>\n",
       "      <th>param_C</th>\n",
       "      <td>0.1</td>\n",
       "      <td>1</td>\n",
       "      <td>0.01</td>\n",
       "      <td>10</td>\n",
       "      <td>100</td>\n",
       "      <td>1</td>\n",
       "      <td>10</td>\n",
       "      <td>100</td>\n",
       "      <td>0.1</td>\n",
       "      <td>0.01</td>\n",
       "    </tr>\n",
       "    <tr>\n",
       "      <th>param_penalty</th>\n",
       "      <td>l2</td>\n",
       "      <td>l1</td>\n",
       "      <td>l2</td>\n",
       "      <td>l1</td>\n",
       "      <td>l1</td>\n",
       "      <td>l2</td>\n",
       "      <td>l2</td>\n",
       "      <td>l2</td>\n",
       "      <td>l1</td>\n",
       "      <td>l1</td>\n",
       "    </tr>\n",
       "    <tr>\n",
       "      <th>params</th>\n",
       "      <td>{'C': 0.1, 'penalty': 'l2'}</td>\n",
       "      <td>{'C': 1, 'penalty': 'l1'}</td>\n",
       "      <td>{'C': 0.01, 'penalty': 'l2'}</td>\n",
       "      <td>{'C': 10, 'penalty': 'l1'}</td>\n",
       "      <td>{'C': 100, 'penalty': 'l1'}</td>\n",
       "      <td>{'C': 1, 'penalty': 'l2'}</td>\n",
       "      <td>{'C': 10, 'penalty': 'l2'}</td>\n",
       "      <td>{'C': 100, 'penalty': 'l2'}</td>\n",
       "      <td>{'C': 0.1, 'penalty': 'l1'}</td>\n",
       "      <td>{'C': 0.01, 'penalty': 'l1'}</td>\n",
       "    </tr>\n",
       "    <tr>\n",
       "      <th>split0_test_score</th>\n",
       "      <td>0.782609</td>\n",
       "      <td>0.782609</td>\n",
       "      <td>0.782609</td>\n",
       "      <td>0.782609</td>\n",
       "      <td>0.782609</td>\n",
       "      <td>0.782609</td>\n",
       "      <td>0.782609</td>\n",
       "      <td>0.782609</td>\n",
       "      <td>0.772947</td>\n",
       "      <td>0.743961</td>\n",
       "    </tr>\n",
       "    <tr>\n",
       "      <th>split1_test_score</th>\n",
       "      <td>0.781553</td>\n",
       "      <td>0.786408</td>\n",
       "      <td>0.791262</td>\n",
       "      <td>0.786408</td>\n",
       "      <td>0.786408</td>\n",
       "      <td>0.781553</td>\n",
       "      <td>0.781553</td>\n",
       "      <td>0.781553</td>\n",
       "      <td>0.776699</td>\n",
       "      <td>0.737864</td>\n",
       "    </tr>\n",
       "    <tr>\n",
       "      <th>split2_test_score</th>\n",
       "      <td>0.81068</td>\n",
       "      <td>0.805825</td>\n",
       "      <td>0.800971</td>\n",
       "      <td>0.805825</td>\n",
       "      <td>0.805825</td>\n",
       "      <td>0.805825</td>\n",
       "      <td>0.805825</td>\n",
       "      <td>0.805825</td>\n",
       "      <td>0.805825</td>\n",
       "      <td>0.762136</td>\n",
       "    </tr>\n",
       "    <tr>\n",
       "      <th>split3_test_score</th>\n",
       "      <td>0.73301</td>\n",
       "      <td>0.73301</td>\n",
       "      <td>0.728155</td>\n",
       "      <td>0.723301</td>\n",
       "      <td>0.723301</td>\n",
       "      <td>0.723301</td>\n",
       "      <td>0.723301</td>\n",
       "      <td>0.723301</td>\n",
       "      <td>0.73301</td>\n",
       "      <td>0.718447</td>\n",
       "    </tr>\n",
       "    <tr>\n",
       "      <th>split4_test_score</th>\n",
       "      <td>0.76699</td>\n",
       "      <td>0.76699</td>\n",
       "      <td>0.76699</td>\n",
       "      <td>0.76699</td>\n",
       "      <td>0.76699</td>\n",
       "      <td>0.76699</td>\n",
       "      <td>0.76699</td>\n",
       "      <td>0.76699</td>\n",
       "      <td>0.762136</td>\n",
       "      <td>0.73301</td>\n",
       "    </tr>\n",
       "    <tr>\n",
       "      <th>mean_test_score</th>\n",
       "      <td>0.774968</td>\n",
       "      <td>0.774968</td>\n",
       "      <td>0.773997</td>\n",
       "      <td>0.773027</td>\n",
       "      <td>0.773027</td>\n",
       "      <td>0.772056</td>\n",
       "      <td>0.772056</td>\n",
       "      <td>0.772056</td>\n",
       "      <td>0.770123</td>\n",
       "      <td>0.739084</td>\n",
       "    </tr>\n",
       "    <tr>\n",
       "      <th>std_test_score</th>\n",
       "      <td>0.025303</td>\n",
       "      <td>0.0243539</td>\n",
       "      <td>0.0254966</td>\n",
       "      <td>0.0277694</td>\n",
       "      <td>0.0277694</td>\n",
       "      <td>0.0273665</td>\n",
       "      <td>0.0273665</td>\n",
       "      <td>0.0273665</td>\n",
       "      <td>0.0235247</td>\n",
       "      <td>0.0142791</td>\n",
       "    </tr>\n",
       "    <tr>\n",
       "      <th>rank_test_score</th>\n",
       "      <td>1</td>\n",
       "      <td>1</td>\n",
       "      <td>3</td>\n",
       "      <td>4</td>\n",
       "      <td>4</td>\n",
       "      <td>6</td>\n",
       "      <td>6</td>\n",
       "      <td>6</td>\n",
       "      <td>9</td>\n",
       "      <td>10</td>\n",
       "    </tr>\n",
       "    <tr>\n",
       "      <th>split0_train_score</th>\n",
       "      <td>0.775485</td>\n",
       "      <td>0.775485</td>\n",
       "      <td>0.773058</td>\n",
       "      <td>0.774272</td>\n",
       "      <td>0.774272</td>\n",
       "      <td>0.774272</td>\n",
       "      <td>0.774272</td>\n",
       "      <td>0.774272</td>\n",
       "      <td>0.783981</td>\n",
       "      <td>0.741505</td>\n",
       "    </tr>\n",
       "    <tr>\n",
       "      <th>split1_train_score</th>\n",
       "      <td>0.778182</td>\n",
       "      <td>0.775758</td>\n",
       "      <td>0.775758</td>\n",
       "      <td>0.773333</td>\n",
       "      <td>0.770909</td>\n",
       "      <td>0.773333</td>\n",
       "      <td>0.770909</td>\n",
       "      <td>0.770909</td>\n",
       "      <td>0.772121</td>\n",
       "      <td>0.74303</td>\n",
       "    </tr>\n",
       "    <tr>\n",
       "      <th>split2_train_score</th>\n",
       "      <td>0.764848</td>\n",
       "      <td>0.767273</td>\n",
       "      <td>0.764848</td>\n",
       "      <td>0.767273</td>\n",
       "      <td>0.767273</td>\n",
       "      <td>0.766061</td>\n",
       "      <td>0.767273</td>\n",
       "      <td>0.767273</td>\n",
       "      <td>0.773333</td>\n",
       "      <td>0.72</td>\n",
       "    </tr>\n",
       "    <tr>\n",
       "      <th>split3_train_score</th>\n",
       "      <td>0.78303</td>\n",
       "      <td>0.785455</td>\n",
       "      <td>0.789091</td>\n",
       "      <td>0.787879</td>\n",
       "      <td>0.787879</td>\n",
       "      <td>0.786667</td>\n",
       "      <td>0.787879</td>\n",
       "      <td>0.787879</td>\n",
       "      <td>0.78303</td>\n",
       "      <td>0.747879</td>\n",
       "    </tr>\n",
       "    <tr>\n",
       "      <th>split4_train_score</th>\n",
       "      <td>0.78303</td>\n",
       "      <td>0.780606</td>\n",
       "      <td>0.781818</td>\n",
       "      <td>0.781818</td>\n",
       "      <td>0.781818</td>\n",
       "      <td>0.78303</td>\n",
       "      <td>0.781818</td>\n",
       "      <td>0.781818</td>\n",
       "      <td>0.774545</td>\n",
       "      <td>0.744242</td>\n",
       "    </tr>\n",
       "    <tr>\n",
       "      <th>mean_train_score</th>\n",
       "      <td>0.776915</td>\n",
       "      <td>0.776915</td>\n",
       "      <td>0.776915</td>\n",
       "      <td>0.776915</td>\n",
       "      <td>0.77643</td>\n",
       "      <td>0.776673</td>\n",
       "      <td>0.77643</td>\n",
       "      <td>0.77643</td>\n",
       "      <td>0.777402</td>\n",
       "      <td>0.739331</td>\n",
       "    </tr>\n",
       "    <tr>\n",
       "      <th>std_train_score</th>\n",
       "      <td>0.00669392</td>\n",
       "      <td>0.00604821</td>\n",
       "      <td>0.00817446</td>\n",
       "      <td>0.00716985</td>\n",
       "      <td>0.00747129</td>\n",
       "      <td>0.00734616</td>\n",
       "      <td>0.00747129</td>\n",
       "      <td>0.00747129</td>\n",
       "      <td>0.00505086</td>\n",
       "      <td>0.00989227</td>\n",
       "    </tr>\n",
       "  </tbody>\n",
       "</table>\n",
       "</div>"
      ],
      "text/plain": [
       "                                              3                          4  \\\n",
       "mean_fit_time                                 0                 0.00688934   \n",
       "std_fit_time                                  0                 0.00786115   \n",
       "mean_score_time                      0.00624957                 0.00332484   \n",
       "std_score_time                       0.00765413                 0.00616145   \n",
       "param_C                                     0.1                          1   \n",
       "param_penalty                                l2                         l1   \n",
       "params              {'C': 0.1, 'penalty': 'l2'}  {'C': 1, 'penalty': 'l1'}   \n",
       "split0_test_score                      0.782609                   0.782609   \n",
       "split1_test_score                      0.781553                   0.786408   \n",
       "split2_test_score                       0.81068                   0.805825   \n",
       "split3_test_score                       0.73301                    0.73301   \n",
       "split4_test_score                       0.76699                    0.76699   \n",
       "mean_test_score                        0.774968                   0.774968   \n",
       "std_test_score                         0.025303                  0.0243539   \n",
       "rank_test_score                               1                          1   \n",
       "split0_train_score                     0.775485                   0.775485   \n",
       "split1_train_score                     0.778182                   0.775758   \n",
       "split2_train_score                     0.764848                   0.767273   \n",
       "split3_train_score                      0.78303                   0.785455   \n",
       "split4_train_score                      0.78303                   0.780606   \n",
       "mean_train_score                       0.776915                   0.776915   \n",
       "std_train_score                      0.00669392                 0.00604821   \n",
       "\n",
       "                                               1                           6  \\\n",
       "mean_fit_time                          0.0078649                  0.00515261   \n",
       "std_fit_time                          0.00698872                  0.00654446   \n",
       "mean_score_time                      0.000195694                  0.00019989   \n",
       "std_score_time                       0.000391388                  0.00039978   \n",
       "param_C                                     0.01                          10   \n",
       "param_penalty                                 l2                          l1   \n",
       "params              {'C': 0.01, 'penalty': 'l2'}  {'C': 10, 'penalty': 'l1'}   \n",
       "split0_test_score                       0.782609                    0.782609   \n",
       "split1_test_score                       0.791262                    0.786408   \n",
       "split2_test_score                       0.800971                    0.805825   \n",
       "split3_test_score                       0.728155                    0.723301   \n",
       "split4_test_score                        0.76699                     0.76699   \n",
       "mean_test_score                         0.773997                    0.773027   \n",
       "std_test_score                         0.0254966                   0.0277694   \n",
       "rank_test_score                                3                           4   \n",
       "split0_train_score                      0.773058                    0.774272   \n",
       "split1_train_score                      0.775758                    0.773333   \n",
       "split2_train_score                      0.764848                    0.767273   \n",
       "split3_train_score                      0.789091                    0.787879   \n",
       "split4_train_score                      0.781818                    0.781818   \n",
       "mean_train_score                        0.776915                    0.776915   \n",
       "std_train_score                       0.00817446                  0.00716985   \n",
       "\n",
       "                                              8                          5  \\\n",
       "mean_fit_time                        0.00719495                 0.00625091   \n",
       "std_fit_time                         0.00146891                 0.00765577   \n",
       "mean_score_time                     0.000399923                          0   \n",
       "std_score_time                      0.000489804                          0   \n",
       "param_C                                     100                          1   \n",
       "param_penalty                                l1                         l2   \n",
       "params              {'C': 100, 'penalty': 'l1'}  {'C': 1, 'penalty': 'l2'}   \n",
       "split0_test_score                      0.782609                   0.782609   \n",
       "split1_test_score                      0.786408                   0.781553   \n",
       "split2_test_score                      0.805825                   0.805825   \n",
       "split3_test_score                      0.723301                   0.723301   \n",
       "split4_test_score                       0.76699                    0.76699   \n",
       "mean_test_score                        0.773027                   0.772056   \n",
       "std_test_score                        0.0277694                  0.0273665   \n",
       "rank_test_score                               4                          6   \n",
       "split0_train_score                     0.774272                   0.774272   \n",
       "split1_train_score                     0.770909                   0.773333   \n",
       "split2_train_score                     0.767273                   0.766061   \n",
       "split3_train_score                     0.787879                   0.786667   \n",
       "split4_train_score                     0.781818                    0.78303   \n",
       "mean_train_score                        0.77643                   0.776673   \n",
       "std_train_score                      0.00747129                 0.00734616   \n",
       "\n",
       "                                             7                            9  \\\n",
       "mean_fit_time                       0.00826225                   0.00619445   \n",
       "std_fit_time                        0.00745809                   0.00116457   \n",
       "mean_score_time                    0.000600004                  0.000801611   \n",
       "std_score_time                     0.000489901                  0.000400822   \n",
       "param_C                                     10                          100   \n",
       "param_penalty                               l2                           l2   \n",
       "params              {'C': 10, 'penalty': 'l2'}  {'C': 100, 'penalty': 'l2'}   \n",
       "split0_test_score                     0.782609                     0.782609   \n",
       "split1_test_score                     0.781553                     0.781553   \n",
       "split2_test_score                     0.805825                     0.805825   \n",
       "split3_test_score                     0.723301                     0.723301   \n",
       "split4_test_score                      0.76699                      0.76699   \n",
       "mean_test_score                       0.772056                     0.772056   \n",
       "std_test_score                       0.0273665                    0.0273665   \n",
       "rank_test_score                              6                            6   \n",
       "split0_train_score                    0.774272                     0.774272   \n",
       "split1_train_score                    0.770909                     0.770909   \n",
       "split2_train_score                    0.767273                     0.767273   \n",
       "split3_train_score                    0.787879                     0.787879   \n",
       "split4_train_score                    0.781818                     0.781818   \n",
       "mean_train_score                       0.77643                      0.77643   \n",
       "std_train_score                     0.00747129                   0.00747129   \n",
       "\n",
       "                                              2                             0  \n",
       "mean_fit_time                        0.00552802                    0.00313411  \n",
       "std_fit_time                         0.00686671                    0.00626822  \n",
       "mean_score_time                               0                    0.00311704  \n",
       "std_score_time                                0                    0.00623407  \n",
       "param_C                                     0.1                          0.01  \n",
       "param_penalty                                l1                            l1  \n",
       "params              {'C': 0.1, 'penalty': 'l1'}  {'C': 0.01, 'penalty': 'l1'}  \n",
       "split0_test_score                      0.772947                      0.743961  \n",
       "split1_test_score                      0.776699                      0.737864  \n",
       "split2_test_score                      0.805825                      0.762136  \n",
       "split3_test_score                       0.73301                      0.718447  \n",
       "split4_test_score                      0.762136                       0.73301  \n",
       "mean_test_score                        0.770123                      0.739084  \n",
       "std_test_score                        0.0235247                     0.0142791  \n",
       "rank_test_score                               9                            10  \n",
       "split0_train_score                     0.783981                      0.741505  \n",
       "split1_train_score                     0.772121                       0.74303  \n",
       "split2_train_score                     0.773333                          0.72  \n",
       "split3_train_score                      0.78303                      0.747879  \n",
       "split4_train_score                     0.774545                      0.744242  \n",
       "mean_train_score                       0.777402                      0.739331  \n",
       "std_train_score                      0.00505086                    0.00989227  "
      ]
     },
     "execution_count": 29,
     "metadata": {},
     "output_type": "execute_result"
    }
   ],
   "source": [
    "pd.DataFrame(grid_search_cv.cv_results_ ).sort_values('mean_test_score', ascending = False).T"
   ]
  },
  {
   "cell_type": "code",
   "execution_count": 30,
   "metadata": {},
   "outputs": [],
   "source": [
    "### Cross Validation in 5 Split"
   ]
  },
  {
   "cell_type": "code",
   "execution_count": 31,
   "metadata": {},
   "outputs": [
    {
     "name": "stdout",
     "output_type": "stream",
     "text": [
      "[CV]  ................................................................\n",
      "[CV] ................................................. , total=   0.0s\n",
      "[CV]  ................................................................\n",
      "[CV] ................................................. , total=   0.0s\n",
      "[CV]  ................................................................\n",
      "[CV] ................................................. , total=   0.0s\n",
      "[CV]  ................................................................\n",
      "[CV] ................................................. , total=   0.0s\n",
      "[CV]  ................................................................\n",
      "[CV] ................................................. , total=   0.0s\n"
     ]
    },
    {
     "name": "stderr",
     "output_type": "stream",
     "text": [
      "[Parallel(n_jobs=1)]: Using backend SequentialBackend with 1 concurrent workers.\n",
      "[Parallel(n_jobs=1)]: Done   1 out of   1 | elapsed:    0.0s remaining:    0.0s\n",
      "[Parallel(n_jobs=1)]: Done   5 out of   5 | elapsed:    0.0s finished\n"
     ]
    }
   ],
   "source": [
    "from sklearn.model_selection import cross_validate\n",
    "# Print the best parameters and cross validate the best estimator, penalty is ridge l2\n",
    "lr = LogisticRegression(C = 0.1, penalty = 'l2', solver = 'saga', max_iter= 10000)\n",
    "cv_fivefold = cross_validate(estimator= lr, \n",
    "                             X = X_train_scaled,\n",
    "                             y = y_train,\n",
    "                             cv = 5,\n",
    "                             return_train_score= True, \n",
    "                             return_estimator= True, verbose = 2)"
   ]
  },
  {
   "cell_type": "code",
   "execution_count": 32,
   "metadata": {},
   "outputs": [
    {
     "data": {
      "text/plain": [
       "array([0.7826087 , 0.7815534 , 0.81067961, 0.73300971, 0.76699029])"
      ]
     },
     "execution_count": 32,
     "metadata": {},
     "output_type": "execute_result"
    }
   ],
   "source": [
    "cv_fivefold['test_score']"
   ]
  },
  {
   "cell_type": "code",
   "execution_count": 33,
   "metadata": {},
   "outputs": [
    {
     "name": "stdout",
     "output_type": "stream",
     "text": [
      "Regularized Log Regression (Ridge) 5-fold cv results (Accuracy) 0.775 +/- 0.025\n"
     ]
    }
   ],
   "source": [
    "## fit best regularization logreg and plot the confusion matrix\n",
    "validation_mean = cv_fivefold['test_score'].mean()\n",
    "\n",
    "validation_std = cv_fivefold['test_score'].std()\n",
    "\n",
    "print('Regularized Log Regression (Ridge) 5-fold cv results (Accuracy) %.3f +/- %.3f'%(validation_mean, validation_std))"
   ]
  },
  {
   "cell_type": "markdown",
   "metadata": {},
   "source": [
    "_Note_\n",
    "- Regularized Log Regression (Ridge) 5 fold cv results (Accuracy) 0.775 +/- 0.025"
   ]
  },
  {
   "cell_type": "markdown",
   "metadata": {},
   "source": [
    "## Grid Search Validation with Lasso"
   ]
  },
  {
   "cell_type": "code",
   "execution_count": 34,
   "metadata": {},
   "outputs": [
    {
     "name": "stdout",
     "output_type": "stream",
     "text": [
      "Fitting 5 folds for each of 10 candidates, totalling 50 fits\n",
      "[CV] C=0.01, penalty=l1 ..............................................\n",
      "[CV] ............................... C=0.01, penalty=l1, total=   0.0s\n",
      "[CV] C=0.01, penalty=l1 ..............................................\n",
      "[CV] ............................... C=0.01, penalty=l1, total=   0.0s\n",
      "[CV] C=0.01, penalty=l1 ..............................................\n",
      "[CV] ............................... C=0.01, penalty=l1, total=   0.0s\n",
      "[CV] C=0.01, penalty=l1 ..............................................\n",
      "[CV] ............................... C=0.01, penalty=l1, total=   0.0s\n",
      "[CV] C=0.01, penalty=l1 ..............................................\n",
      "[CV] ............................... C=0.01, penalty=l1, total=   0.0s\n",
      "[CV] C=0.01, penalty=l2 ..............................................\n",
      "[CV] ............................... C=0.01, penalty=l2, total=   0.0s\n",
      "[CV] C=0.01, penalty=l2 ..............................................\n",
      "[CV] ............................... C=0.01, penalty=l2, total=   0.0s\n",
      "[CV] C=0.01, penalty=l2 ..............................................\n",
      "[CV] ............................... C=0.01, penalty=l2, total=   0.0s\n",
      "[CV] C=0.01, penalty=l2 ..............................................\n",
      "[CV] ............................... C=0.01, penalty=l2, total=   0.0s\n",
      "[CV] C=0.01, penalty=l2 ..............................................\n",
      "[CV] ............................... C=0.01, penalty=l2, total=   0.0s\n",
      "[CV] C=0.1, penalty=l1 ...............................................\n",
      "[CV] ................................ C=0.1, penalty=l1, total=   0.0s\n",
      "[CV] C=0.1, penalty=l1 ...............................................\n",
      "[CV] ................................ C=0.1, penalty=l1, total=   0.0s\n",
      "[CV] C=0.1, penalty=l1 ...............................................\n",
      "[CV] ................................ C=0.1, penalty=l1, total=   0.0s\n",
      "[CV] C=0.1, penalty=l1 ...............................................\n",
      "[CV] ................................ C=0.1, penalty=l1, total=   0.0s\n",
      "[CV] C=0.1, penalty=l1 ...............................................\n",
      "[CV] ................................ C=0.1, penalty=l1, total=   0.0s\n",
      "[CV] C=0.1, penalty=l2 ...............................................\n",
      "[CV] ................................ C=0.1, penalty=l2, total=   0.0s\n",
      "[CV] C=0.1, penalty=l2 ...............................................\n",
      "[CV] ................................ C=0.1, penalty=l2, total=   0.0s\n",
      "[CV] C=0.1, penalty=l2 ...............................................\n",
      "[CV] ................................ C=0.1, penalty=l2, total=   0.0s\n",
      "[CV] C=0.1, penalty=l2 ...............................................\n",
      "[CV] ................................ C=0.1, penalty=l2, total=   0.0s\n",
      "[CV] C=0.1, penalty=l2 ...............................................\n",
      "[CV] ................................ C=0.1, penalty=l2, total=   0.0s\n",
      "[CV] C=1, penalty=l1 .................................................\n",
      "[CV] .................................. C=1, penalty=l1, total=   0.0s\n",
      "[CV] C=1, penalty=l1 .................................................\n",
      "[CV] .................................. C=1, penalty=l1, total=   0.0s\n",
      "[CV] C=1, penalty=l1 .................................................\n",
      "[CV] .................................. C=1, penalty=l1, total=   0.0s\n",
      "[CV] C=1, penalty=l1 .................................................\n",
      "[CV] .................................. C=1, penalty=l1, total=   0.0s\n",
      "[CV] C=1, penalty=l1 .................................................\n",
      "[CV] .................................. C=1, penalty=l1, total=   0.0s"
     ]
    },
    {
     "name": "stderr",
     "output_type": "stream",
     "text": [
      "[Parallel(n_jobs=1)]: Using backend SequentialBackend with 1 concurrent workers.\n",
      "[Parallel(n_jobs=1)]: Done   1 out of   1 | elapsed:    0.0s remaining:    0.0s\n"
     ]
    },
    {
     "name": "stdout",
     "output_type": "stream",
     "text": [
      "\n",
      "[CV] C=1, penalty=l2 .................................................\n",
      "[CV] .................................. C=1, penalty=l2, total=   0.0s\n",
      "[CV] C=1, penalty=l2 .................................................\n",
      "[CV] .................................. C=1, penalty=l2, total=   0.0s\n",
      "[CV] C=1, penalty=l2 .................................................\n",
      "[CV] .................................. C=1, penalty=l2, total=   0.0s\n",
      "[CV] C=1, penalty=l2 .................................................\n",
      "[CV] .................................. C=1, penalty=l2, total=   0.0s\n",
      "[CV] C=1, penalty=l2 .................................................\n",
      "[CV] .................................. C=1, penalty=l2, total=   0.0s\n",
      "[CV] C=10, penalty=l1 ................................................\n",
      "[CV] ................................. C=10, penalty=l1, total=   0.0s\n",
      "[CV] C=10, penalty=l1 ................................................\n",
      "[CV] ................................. C=10, penalty=l1, total=   0.0s\n",
      "[CV] C=10, penalty=l1 ................................................\n",
      "[CV] ................................. C=10, penalty=l1, total=   0.0s\n",
      "[CV] C=10, penalty=l1 ................................................\n",
      "[CV] ................................. C=10, penalty=l1, total=   0.0s\n",
      "[CV] C=10, penalty=l1 ................................................\n",
      "[CV] ................................. C=10, penalty=l1, total=   0.0s\n",
      "[CV] C=10, penalty=l2 ................................................\n",
      "[CV] ................................. C=10, penalty=l2, total=   0.0s\n",
      "[CV] C=10, penalty=l2 ................................................\n",
      "[CV] ................................. C=10, penalty=l2, total=   0.0s\n",
      "[CV] C=10, penalty=l2 ................................................\n",
      "[CV] ................................. C=10, penalty=l2, total=   0.0s\n",
      "[CV] C=10, penalty=l2 ................................................\n",
      "[CV] ................................. C=10, penalty=l2, total=   0.0s\n",
      "[CV] C=10, penalty=l2 ................................................\n",
      "[CV] ................................. C=10, penalty=l2, total=   0.0s\n",
      "[CV] C=100, penalty=l1 ...............................................\n",
      "[CV] ................................ C=100, penalty=l1, total=   0.0s\n",
      "[CV] C=100, penalty=l1 ...............................................\n",
      "[CV] ................................ C=100, penalty=l1, total=   0.0s\n",
      "[CV] C=100, penalty=l1 ...............................................\n",
      "[CV] ................................ C=100, penalty=l1, total=   0.0s\n",
      "[CV] C=100, penalty=l1 ...............................................\n",
      "[CV] ................................ C=100, penalty=l1, total=   0.0s\n",
      "[CV] C=100, penalty=l1 ...............................................\n",
      "[CV] ................................ C=100, penalty=l1, total=   0.0s\n",
      "[CV] C=100, penalty=l2 ...............................................\n",
      "[CV] ................................ C=100, penalty=l2, total=   0.0s\n",
      "[CV] C=100, penalty=l2 ...............................................\n",
      "[CV] ................................ C=100, penalty=l2, total=   0.0s\n",
      "[CV] C=100, penalty=l2 ...............................................\n",
      "[CV] ................................ C=100, penalty=l2, total=   0.0s\n",
      "[CV] C=100, penalty=l2 ...............................................\n",
      "[CV] ................................ C=100, penalty=l2, total=   0.0s\n",
      "[CV] C=100, penalty=l2 ...............................................\n",
      "[CV] ................................ C=100, penalty=l2, total=   0.0s\n"
     ]
    },
    {
     "name": "stderr",
     "output_type": "stream",
     "text": [
      "[Parallel(n_jobs=1)]: Done  50 out of  50 | elapsed:    0.3s finished\n"
     ]
    },
    {
     "data": {
      "text/plain": [
       "GridSearchCV(cv=5,\n",
       "             estimator=LogisticRegression(C=1, max_iter=1000, penalty='l1',\n",
       "                                          solver='saga'),\n",
       "             param_grid={'C': [0.01, 0.1, 1, 10, 100], 'penalty': ['l1', 'l2']},\n",
       "             return_train_score=True, verbose=2)"
      ]
     },
     "execution_count": 34,
     "metadata": {},
     "output_type": "execute_result"
    }
   ],
   "source": [
    "#Grid Search\n",
    "lr = LogisticRegression(penalty = 'l1', C = 1, solver = 'saga', max_iter= 1000)\n",
    "lr.fit(X_train_scaled, y_train)\n",
    "\n",
    "# Prepare a grid with C and penalty. Next, Instantiate the grid search. Lastly, the fit the\n",
    "# grid search\n",
    "grid = {'C': [0.01, 0.1, 1, 10, 100], 'penalty': ['l1', 'l2']}\n",
    "grid_search_cv = GridSearchCV(estimator = lr, param_grid= grid, \n",
    "                              cv =5, return_train_score= True, verbose= 2)\n",
    "grid_search_cv.fit(X_train_scaled, y_train)"
   ]
  },
  {
   "cell_type": "code",
   "execution_count": 35,
   "metadata": {},
   "outputs": [
    {
     "name": "stdout",
     "output_type": "stream",
     "text": [
      "[CV]  ................................................................\n",
      "[CV] ................................................. , total=   0.0s\n",
      "[CV]  ................................................................\n",
      "[CV] ................................................. , total=   0.0s\n",
      "[CV]  ................................................................\n",
      "[CV] ................................................. , total=   0.0s\n",
      "[CV]  ................................................................\n",
      "[CV] ................................................. , total=   0.0s\n",
      "[CV]  ................................................................\n",
      "[CV] ................................................. , total=   0.0s\n"
     ]
    },
    {
     "name": "stderr",
     "output_type": "stream",
     "text": [
      "[Parallel(n_jobs=1)]: Using backend SequentialBackend with 1 concurrent workers.\n",
      "[Parallel(n_jobs=1)]: Done   1 out of   1 | elapsed:    0.0s remaining:    0.0s\n",
      "[Parallel(n_jobs=1)]: Done   5 out of   5 | elapsed:    0.0s finished\n"
     ]
    }
   ],
   "source": [
    "lr = LogisticRegression(C = 0.1, penalty = 'l1', solver = 'saga', max_iter= 10000)\n",
    "cv_fivefold = cross_validate(estimator= lr, \n",
    "                             X = X_train_scaled,\n",
    "                             y = y_train,\n",
    "                             cv = 5,\n",
    "                             return_train_score= True, \n",
    "                             return_estimator= True, verbose = 2)"
   ]
  },
  {
   "cell_type": "code",
   "execution_count": 36,
   "metadata": {},
   "outputs": [
    {
     "name": "stdout",
     "output_type": "stream",
     "text": [
      "Regularized Log Regression (Lasso) 5-fold cv results (Accuracy) 0.770 +/- 0.024\n"
     ]
    }
   ],
   "source": [
    "## fit best regularization logreg and plot the confusion matrix\n",
    "validation_mean = cv_fivefold['test_score'].mean()\n",
    "\n",
    "validation_std = cv_fivefold['test_score'].std()\n",
    "print('Regularized Log Regression (Lasso) 5-fold cv results (Accuracy) %.3f +/- %.3f'%(validation_mean, validation_std))"
   ]
  },
  {
   "cell_type": "code",
   "execution_count": null,
   "metadata": {},
   "outputs": [],
   "source": []
  }
 ],
 "metadata": {
  "kernelspec": {
   "display_name": "Python 3",
   "language": "python",
   "name": "python3"
  },
  "language_info": {
   "codemirror_mode": {
    "name": "ipython",
    "version": 3
   },
   "file_extension": ".py",
   "mimetype": "text/x-python",
   "name": "python",
   "nbconvert_exporter": "python",
   "pygments_lexer": "ipython3",
   "version": "3.8.3"
  }
 },
 "nbformat": 4,
 "nbformat_minor": 4
}
