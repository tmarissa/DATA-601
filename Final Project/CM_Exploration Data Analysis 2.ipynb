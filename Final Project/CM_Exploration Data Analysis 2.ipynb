{
 "cells": [
  {
   "cell_type": "code",
   "execution_count": 40,
   "metadata": {},
   "outputs": [],
   "source": [
    "import pandas as pd\n",
    "import operator\n",
    "import matplotlib.pyplot as plt\n",
    "import matplotlib\n",
    "import os\n",
    "import numpy as np\n",
    "from sklearn.model_selection import train_test_split\n",
    "from sklearn.preprocessing import StandardScaler"
   ]
  },
  {
   "cell_type": "code",
   "execution_count": 41,
   "metadata": {},
   "outputs": [],
   "source": [
    "contraceptive_data = pd.read_csv(\"contraceptive_method_dataset.csv\", \n",
    "                                 encoding = \"ISO-8859-1\", engine='python')\n"
   ]
  },
  {
   "cell_type": "markdown",
   "metadata": {},
   "source": [
    "# DATASET\n",
    "The dataset is being assigned to X and y variable. X are all attributes besides children while the y is assigned for the attribute children. The y is split into a binary variable. "
   ]
  },
  {
   "cell_type": "code",
   "execution_count": 42,
   "metadata": {},
   "outputs": [],
   "source": [
    "#Format Classification Tree\n",
    "X = contraceptive_data.drop('children', axis=1).copy()"
   ]
  },
  {
   "cell_type": "code",
   "execution_count": 43,
   "metadata": {},
   "outputs": [
    {
     "data": {
      "text/html": [
       "<div>\n",
       "<style scoped>\n",
       "    .dataframe tbody tr th:only-of-type {\n",
       "        vertical-align: middle;\n",
       "    }\n",
       "\n",
       "    .dataframe tbody tr th {\n",
       "        vertical-align: top;\n",
       "    }\n",
       "\n",
       "    .dataframe thead th {\n",
       "        text-align: right;\n",
       "    }\n",
       "</style>\n",
       "<table border=\"1\" class=\"dataframe\">\n",
       "  <thead>\n",
       "    <tr style=\"text-align: right;\">\n",
       "      <th></th>\n",
       "      <th>wife_age</th>\n",
       "      <th>wife_education</th>\n",
       "      <th>husband_education</th>\n",
       "      <th>wife_religion</th>\n",
       "      <th>wife_working</th>\n",
       "      <th>husband_occupation</th>\n",
       "      <th>standard_of_living_index</th>\n",
       "      <th>media_exposure</th>\n",
       "      <th>contraceptive_method_used</th>\n",
       "    </tr>\n",
       "  </thead>\n",
       "  <tbody>\n",
       "    <tr>\n",
       "      <th>0</th>\n",
       "      <td>24</td>\n",
       "      <td>2</td>\n",
       "      <td>3</td>\n",
       "      <td>1</td>\n",
       "      <td>1</td>\n",
       "      <td>2</td>\n",
       "      <td>3</td>\n",
       "      <td>0</td>\n",
       "      <td>1</td>\n",
       "    </tr>\n",
       "    <tr>\n",
       "      <th>1</th>\n",
       "      <td>45</td>\n",
       "      <td>1</td>\n",
       "      <td>3</td>\n",
       "      <td>1</td>\n",
       "      <td>1</td>\n",
       "      <td>3</td>\n",
       "      <td>4</td>\n",
       "      <td>0</td>\n",
       "      <td>1</td>\n",
       "    </tr>\n",
       "    <tr>\n",
       "      <th>2</th>\n",
       "      <td>43</td>\n",
       "      <td>2</td>\n",
       "      <td>3</td>\n",
       "      <td>1</td>\n",
       "      <td>1</td>\n",
       "      <td>3</td>\n",
       "      <td>4</td>\n",
       "      <td>0</td>\n",
       "      <td>1</td>\n",
       "    </tr>\n",
       "    <tr>\n",
       "      <th>3</th>\n",
       "      <td>42</td>\n",
       "      <td>3</td>\n",
       "      <td>2</td>\n",
       "      <td>1</td>\n",
       "      <td>1</td>\n",
       "      <td>3</td>\n",
       "      <td>3</td>\n",
       "      <td>0</td>\n",
       "      <td>1</td>\n",
       "    </tr>\n",
       "    <tr>\n",
       "      <th>4</th>\n",
       "      <td>36</td>\n",
       "      <td>3</td>\n",
       "      <td>3</td>\n",
       "      <td>1</td>\n",
       "      <td>1</td>\n",
       "      <td>3</td>\n",
       "      <td>2</td>\n",
       "      <td>0</td>\n",
       "      <td>1</td>\n",
       "    </tr>\n",
       "    <tr>\n",
       "      <th>...</th>\n",
       "      <td>...</td>\n",
       "      <td>...</td>\n",
       "      <td>...</td>\n",
       "      <td>...</td>\n",
       "      <td>...</td>\n",
       "      <td>...</td>\n",
       "      <td>...</td>\n",
       "      <td>...</td>\n",
       "      <td>...</td>\n",
       "    </tr>\n",
       "    <tr>\n",
       "      <th>1468</th>\n",
       "      <td>33</td>\n",
       "      <td>4</td>\n",
       "      <td>4</td>\n",
       "      <td>1</td>\n",
       "      <td>0</td>\n",
       "      <td>2</td>\n",
       "      <td>4</td>\n",
       "      <td>0</td>\n",
       "      <td>3</td>\n",
       "    </tr>\n",
       "    <tr>\n",
       "      <th>1469</th>\n",
       "      <td>33</td>\n",
       "      <td>4</td>\n",
       "      <td>4</td>\n",
       "      <td>1</td>\n",
       "      <td>1</td>\n",
       "      <td>1</td>\n",
       "      <td>4</td>\n",
       "      <td>0</td>\n",
       "      <td>3</td>\n",
       "    </tr>\n",
       "    <tr>\n",
       "      <th>1470</th>\n",
       "      <td>39</td>\n",
       "      <td>3</td>\n",
       "      <td>3</td>\n",
       "      <td>1</td>\n",
       "      <td>0</td>\n",
       "      <td>1</td>\n",
       "      <td>4</td>\n",
       "      <td>0</td>\n",
       "      <td>3</td>\n",
       "    </tr>\n",
       "    <tr>\n",
       "      <th>1471</th>\n",
       "      <td>33</td>\n",
       "      <td>3</td>\n",
       "      <td>3</td>\n",
       "      <td>1</td>\n",
       "      <td>0</td>\n",
       "      <td>2</td>\n",
       "      <td>2</td>\n",
       "      <td>0</td>\n",
       "      <td>3</td>\n",
       "    </tr>\n",
       "    <tr>\n",
       "      <th>1472</th>\n",
       "      <td>17</td>\n",
       "      <td>3</td>\n",
       "      <td>3</td>\n",
       "      <td>1</td>\n",
       "      <td>1</td>\n",
       "      <td>2</td>\n",
       "      <td>4</td>\n",
       "      <td>0</td>\n",
       "      <td>3</td>\n",
       "    </tr>\n",
       "  </tbody>\n",
       "</table>\n",
       "<p>1473 rows × 9 columns</p>\n",
       "</div>"
      ],
      "text/plain": [
       "      wife_age  wife_education  husband_education  wife_religion  \\\n",
       "0           24               2                  3              1   \n",
       "1           45               1                  3              1   \n",
       "2           43               2                  3              1   \n",
       "3           42               3                  2              1   \n",
       "4           36               3                  3              1   \n",
       "...        ...             ...                ...            ...   \n",
       "1468        33               4                  4              1   \n",
       "1469        33               4                  4              1   \n",
       "1470        39               3                  3              1   \n",
       "1471        33               3                  3              1   \n",
       "1472        17               3                  3              1   \n",
       "\n",
       "      wife_working  husband_occupation  standard_of_living_index  \\\n",
       "0                1                   2                         3   \n",
       "1                1                   3                         4   \n",
       "2                1                   3                         4   \n",
       "3                1                   3                         3   \n",
       "4                1                   3                         2   \n",
       "...            ...                 ...                       ...   \n",
       "1468             0                   2                         4   \n",
       "1469             1                   1                         4   \n",
       "1470             0                   1                         4   \n",
       "1471             0                   2                         2   \n",
       "1472             1                   2                         4   \n",
       "\n",
       "      media_exposure  contraceptive_method_used  \n",
       "0                  0                          1  \n",
       "1                  0                          1  \n",
       "2                  0                          1  \n",
       "3                  0                          1  \n",
       "4                  0                          1  \n",
       "...              ...                        ...  \n",
       "1468               0                          3  \n",
       "1469               0                          3  \n",
       "1470               0                          3  \n",
       "1471               0                          3  \n",
       "1472               0                          3  \n",
       "\n",
       "[1473 rows x 9 columns]"
      ]
     },
     "execution_count": 43,
     "metadata": {},
     "output_type": "execute_result"
    }
   ],
   "source": [
    "X"
   ]
  },
  {
   "cell_type": "code",
   "execution_count": 44,
   "metadata": {},
   "outputs": [
    {
     "data": {
      "text/plain": [
       "wife_age                     int64\n",
       "wife_education               int64\n",
       "husband_education            int64\n",
       "wife_religion                int64\n",
       "wife_working                 int64\n",
       "husband_occupation           int64\n",
       "standard_of_living_index     int64\n",
       "media_exposure               int64\n",
       "contraceptive_method_used    int64\n",
       "dtype: object"
      ]
     },
     "execution_count": 44,
     "metadata": {},
     "output_type": "execute_result"
    }
   ],
   "source": [
    "X.dtypes"
   ]
  },
  {
   "cell_type": "markdown",
   "metadata": {},
   "source": [
    "_Notes_\n",
    "- There are 9 attributes used in variable X.\n"
   ]
  },
  {
   "cell_type": "markdown",
   "metadata": {},
   "source": [
    "# Creating Binary Response Variable. \n",
    "Splitting the children into binary variable. A woman having 0 to 2 children has index 0 while a woman having more than 2 children has index 1. The reason is a woman having 2 or less children will have negative or stabilizing effect on the population while a woman with more than 2 children will have a positive effect on the population because a couple will replace themselves with two offspring."
   ]
  },
  {
   "cell_type": "code",
   "execution_count": 45,
   "metadata": {},
   "outputs": [
    {
     "name": "stdout",
     "output_type": "stream",
     "text": [
      "1    824\n",
      "0    649\n",
      "Name: predictor_population_i, dtype: int64\n"
     ]
    }
   ],
   "source": [
    "contraceptive_data['predictor_population']= pd.cut(contraceptive_data['children'],\n",
    "                                       [-1,2,16], labels=[0,1])\n",
    "contraceptive_data['predictor_population_i']= contraceptive_data['predictor_population'].astype(int)\n",
    "y = contraceptive_data['predictor_population_i']\n",
    "print(contraceptive_data['predictor_population_i'].value_counts())"
   ]
  },
  {
   "cell_type": "code",
   "execution_count": 46,
   "metadata": {},
   "outputs": [
    {
     "name": "stdout",
     "output_type": "stream",
     "text": [
      "Ratio for more than 2 children:  0.5594025797691785\n",
      "Ratio for equal to less than 2 children:  0.44059742023082143\n"
     ]
    }
   ],
   "source": [
    "#Computing the Ratio\n",
    "print(\"Ratio for more than 2 children: \", 824/(649+824))\n",
    "print(\"Ratio for equal to less than 2 children: \", 649/(649+824))"
   ]
  },
  {
   "cell_type": "markdown",
   "metadata": {},
   "source": [
    "_Note_\n",
    "- In this survey, there are 824 people who has more than 2 children which is 55.94% of the population. There are 649 who has 2 children or less which is 44.059%. The y variable is balance because the difference is not 90% to 10%."
   ]
  },
  {
   "cell_type": "markdown",
   "metadata": {},
   "source": [
    "# Using Statsmodel To Perform Logistic Regression\n",
    "Logit function is used in this process. A model is made and is fitted."
   ]
  },
  {
   "cell_type": "code",
   "execution_count": 47,
   "metadata": {},
   "outputs": [],
   "source": [
    "import statsmodels.formula.api as smf"
   ]
  },
  {
   "cell_type": "code",
   "execution_count": 48,
   "metadata": {},
   "outputs": [
    {
     "data": {
      "text/plain": [
       "Index(['wife_age', 'wife_education', 'husband_education', 'children',\n",
       "       'wife_religion', 'wife_working', 'husband_occupation',\n",
       "       'standard_of_living_index', 'media_exposure',\n",
       "       'contraceptive_method_used', 'predictor_population',\n",
       "       'predictor_population_i'],\n",
       "      dtype='object')"
      ]
     },
     "execution_count": 48,
     "metadata": {},
     "output_type": "execute_result"
    }
   ],
   "source": [
    "contraceptive_data.columns"
   ]
  },
  {
   "cell_type": "code",
   "execution_count": 49,
   "metadata": {},
   "outputs": [],
   "source": [
    "model = smf.logit('predictor_population_i ~ wife_age + wife_education + husband_education + wife_religion +' \n",
    "                  'wife_working + husband_occupation + standard_of_living_index + media_exposure +'\n",
    "                  'contraceptive_method_used', data= contraceptive_data)\n"
   ]
  },
  {
   "cell_type": "code",
   "execution_count": 50,
   "metadata": {},
   "outputs": [
    {
     "name": "stdout",
     "output_type": "stream",
     "text": [
      "Optimization terminated successfully.\n",
      "         Current function value: 0.519119\n",
      "         Iterations 6\n",
      "                             Logit Regression Results                             \n",
      "==================================================================================\n",
      "Dep. Variable:     predictor_population_i   No. Observations:                 1473\n",
      "Model:                              Logit   Df Residuals:                     1463\n",
      "Method:                               MLE   Df Model:                            9\n",
      "Date:                    Sat, 28 Nov 2020   Pseudo R-squ.:                  0.2433\n",
      "Time:                            19:15:11   Log-Likelihood:                -764.66\n",
      "converged:                           True   LL-Null:                       -1010.6\n",
      "Covariance Type:                nonrobust   LLR p-value:                3.201e-100\n",
      "=============================================================================================\n",
      "                                coef    std err          z      P>|z|      [0.025      0.975]\n",
      "---------------------------------------------------------------------------------------------\n",
      "Intercept                    -6.4243      0.661     -9.718      0.000      -7.720      -5.129\n",
      "wife_age                      0.1661      0.010     16.621      0.000       0.146       0.186\n",
      "wife_education               -0.1529      0.087     -1.754      0.079      -0.324       0.018\n",
      "husband_education            -0.0940      0.103     -0.917      0.359      -0.295       0.107\n",
      "wife_religion                 0.3840      0.182      2.104      0.035       0.026       0.742\n",
      "wife_working                  0.4585      0.145      3.157      0.002       0.174       0.743\n",
      "husband_occupation            0.0634      0.083      0.766      0.443      -0.099       0.225\n",
      "standard_of_living_index     -0.0637      0.075     -0.854      0.393      -0.210       0.082\n",
      "media_exposure                0.3744      0.277      1.352      0.176      -0.168       0.917\n",
      "contraceptive_method_used     0.7788      0.077     10.054      0.000       0.627       0.931\n",
      "=============================================================================================\n"
     ]
    }
   ],
   "source": [
    "results = model.fit()\n",
    "print(results.summary())"
   ]
  },
  {
   "cell_type": "markdown",
   "metadata": {},
   "source": [
    "_Note_\n",
    "- Based on this summary, the p-value for intercept, wife's age, wife religion, wife working, and contraceptive method used are statistically significant because the p-value should be lesser than .05. It is interpreted that the intercept is -6.4243. For one unit increase in wife age, the odds increases by a multiplicative factor of 0.1661. For one unit increase in wife religion, the odds increases by a multiplicative factor of 0.3840. For one unit increase in wife working, the odds increases by a multiplicative factor of 0.4585. For one unit increase in contraceptive method used, the odds increase by a multiplicative facor of 0.7788.\n",
    "\n",
    "- The p-value for wife's education, husband's education, husband's occupation, and standard of living index are statistically insignificant because the p-value is bigger than 0.5 which makes it statistically insignificant or not sure. Its effect is not by random chance.\n"
   ]
  },
  {
   "cell_type": "markdown",
   "metadata": {},
   "source": [
    "# Odd Ratios\n",
    "Odd Ratios is needed to interpret logistic model. First, the results have to exponentiated. The values are interpreted as odds ratios. Its analogy is closes to \"how many times likely\" the outcome will be."
   ]
  },
  {
   "cell_type": "code",
   "execution_count": 51,
   "metadata": {},
   "outputs": [
    {
     "name": "stdout",
     "output_type": "stream",
     "text": [
      "Intercept                    0.001622\n",
      "wife_age                     1.180671\n",
      "wife_education               0.858258\n",
      "husband_education            0.910276\n",
      "wife_religion                1.468147\n",
      "wife_working                 1.581756\n",
      "husband_occupation           1.065431\n",
      "standard_of_living_index     0.938274\n",
      "media_exposure               1.454062\n",
      "contraceptive_method_used    2.178952\n",
      "dtype: float64\n"
     ]
    }
   ],
   "source": [
    "odds_ratios = np.exp(results.params)\n",
    "print(odds_ratios)"
   ]
  },
  {
   "cell_type": "markdown",
   "metadata": {},
   "source": [
    "_Note_\n",
    "- For every one unit increase in wife working, the odds of having more than 2 children increased by 1.58 times. While the every one unit increase in wife's education, the odds of having more than 2 children will decrease by .86 times being greater than 2 \n"
   ]
  },
  {
   "cell_type": "code",
   "execution_count": null,
   "metadata": {},
   "outputs": [],
   "source": []
  },
  {
   "cell_type": "code",
   "execution_count": null,
   "metadata": {},
   "outputs": [],
   "source": []
  }
 ],
 "metadata": {
  "kernelspec": {
   "display_name": "Python 3",
   "language": "python",
   "name": "python3"
  },
  "language_info": {
   "codemirror_mode": {
    "name": "ipython",
    "version": 3
   },
   "file_extension": ".py",
   "mimetype": "text/x-python",
   "name": "python",
   "nbconvert_exporter": "python",
   "pygments_lexer": "ipython3",
   "version": "3.8.3"
  }
 },
 "nbformat": 4,
 "nbformat_minor": 4
}
