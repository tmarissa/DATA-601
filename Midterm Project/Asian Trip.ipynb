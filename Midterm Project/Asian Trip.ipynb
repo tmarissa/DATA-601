{
 "cells": [
  {
   "cell_type": "markdown",
   "metadata": {
    "slideshow": {
     "slide_type": "notes"
    }
   },
   "source": [
    "ABSTRACT\n",
    "\n",
    "Prior to crowd source reviews companies such as Amazon, Yelp, Trip Advisors, and etc., consumer purchases relies on word of mouth, advertising, and magazine reviews to make purchase decision. The information provided is very limited. To a buyer, it is a leap of faith to buy certain products which might be compatible to ones’ needs or to provide knowledge of the limitation of such products like its durability or ease of usage. The limitations are not solely felt by the consumers but also on the suppliers, manufacturers, and sellers.  To a company, knowing his consumers will enable the company to target sell to his consumers and open up his market to other consumers too.\n",
    "\n",
    "Nowadays, crowd source review companies are influencing factors for consumers to make decisions on certain products. A positive review would mean a potential for more sale or assurance of the quality while a negative review would mean caution prior purchases or loss of sale potential. Aside from reviews, a company’s exposure in the social media meant volume of data could be harvested and vital unknown resources could be tapped for the betterment of the company or its industry. Crowd source reviews on places where people visit and the tourist patterns would be allow this study to expand markets or reduce resources\n"
   ]
  },
  {
   "cell_type": "markdown",
   "metadata": {
    "slideshow": {
     "slide_type": "notes"
    }
   },
   "source": [
    "INTRODUCTION\n",
    "\n",
    "World travel is a big industry. However, there are many attractions which tourist might meant to keep repetitive travel to the same locations to a minimal.  Therefore, the tourist would have few knowledge of the place. It is best the tourists have prior knowledge or expectations of the places. Consequently, they would research such locations through various resources one of such is crowd source reviews. Researching locations would enable the tourist to have a few undesirable experience during the world travel.\n",
    "\n",
    "Using the same crowd source reviews, a  cruise or tour company would like to know what to expect from their customers and what their customers expect from the cruise and tour company. It is important for the cruise company if their customers, when they reached in certain port or tourist site, would return to the ship or to the tour group for their meals. This knowledge could help the cruise company or tour group plan for the meals which could reduce or increase their food inventory. "
   ]
  },
  {
   "cell_type": "markdown",
   "metadata": {
    "slideshow": {
     "slide_type": "notes"
    }
   },
   "source": [
    "RESEARCH QUESTIONS\n",
    "\n",
    "Given a cruise or tour companies with average review ratings from different touring activities such as art galleries, danceclubs, juicebars, restaurants, museums, resorts, parks and picnic spots, beaches, theaters, and religious institutions. Can we predict whether activites could determine whether the tourist would join or wouldn't join there restaurant activity? \n"
   ]
  },
  {
   "cell_type": "markdown",
   "metadata": {},
   "source": [
    "GOALS\n",
    "\n",
    "Train a classification model that performs better than 0.7663265306122449 accuracy."
   ]
  },
  {
   "cell_type": "code",
   "execution_count": 1,
   "metadata": {},
   "outputs": [],
   "source": [
    "#Import Libraries\n",
    "import pandas as pd\n",
    "import operator\n",
    "import matplotlib\n",
    "import os\n",
    "import numpy as np\n",
    "import matplotlib.pyplot as plt\n",
    "import seaborn as sns \n",
    "from sklearn import datasets\n",
    "%matplotlib inline\n",
    "from sklearn.model_selection import train_test_split\n",
    "from sklearn.linear_model import LogisticRegression\n",
    "import statsmodels.formula.api as smf\n",
    "from sklearn.model_selection import cross_validate\n",
    "from sklearn.preprocessing import StandardScaler\n",
    "import matplotlib.gridspec as gridspec\n",
    "import itertools\n",
    "from mlxtend.plotting import plot_decision_regions\n",
    "from sklearn.decomposition import PCA"
   ]
  },
  {
   "cell_type": "code",
   "execution_count": 2,
   "metadata": {},
   "outputs": [
    {
     "data": {
      "text/html": [
       "<div>\n",
       "<style scoped>\n",
       "    .dataframe tbody tr th:only-of-type {\n",
       "        vertical-align: middle;\n",
       "    }\n",
       "\n",
       "    .dataframe tbody tr th {\n",
       "        vertical-align: top;\n",
       "    }\n",
       "\n",
       "    .dataframe thead th {\n",
       "        text-align: right;\n",
       "    }\n",
       "</style>\n",
       "<table border=\"1\" class=\"dataframe\">\n",
       "  <thead>\n",
       "    <tr style=\"text-align: right;\">\n",
       "      <th></th>\n",
       "      <th>User ID</th>\n",
       "      <th>Category 1</th>\n",
       "      <th>Category 2</th>\n",
       "      <th>Category 3</th>\n",
       "      <th>Category 4</th>\n",
       "      <th>Category 5</th>\n",
       "      <th>Category 6</th>\n",
       "      <th>Category 7</th>\n",
       "      <th>Category 8</th>\n",
       "      <th>Category 9</th>\n",
       "      <th>Category 10</th>\n",
       "    </tr>\n",
       "  </thead>\n",
       "  <tbody>\n",
       "    <tr>\n",
       "      <th>0</th>\n",
       "      <td>User 1</td>\n",
       "      <td>0.93</td>\n",
       "      <td>1.80</td>\n",
       "      <td>2.29</td>\n",
       "      <td>0.62</td>\n",
       "      <td>0.80</td>\n",
       "      <td>2.42</td>\n",
       "      <td>3.19</td>\n",
       "      <td>2.79</td>\n",
       "      <td>1.82</td>\n",
       "      <td>2.42</td>\n",
       "    </tr>\n",
       "    <tr>\n",
       "      <th>1</th>\n",
       "      <td>User 2</td>\n",
       "      <td>1.02</td>\n",
       "      <td>2.20</td>\n",
       "      <td>2.66</td>\n",
       "      <td>0.64</td>\n",
       "      <td>1.42</td>\n",
       "      <td>3.18</td>\n",
       "      <td>3.21</td>\n",
       "      <td>2.63</td>\n",
       "      <td>1.86</td>\n",
       "      <td>2.32</td>\n",
       "    </tr>\n",
       "    <tr>\n",
       "      <th>2</th>\n",
       "      <td>User 3</td>\n",
       "      <td>1.22</td>\n",
       "      <td>0.80</td>\n",
       "      <td>0.54</td>\n",
       "      <td>0.53</td>\n",
       "      <td>0.24</td>\n",
       "      <td>1.54</td>\n",
       "      <td>3.18</td>\n",
       "      <td>2.80</td>\n",
       "      <td>1.31</td>\n",
       "      <td>2.50</td>\n",
       "    </tr>\n",
       "    <tr>\n",
       "      <th>3</th>\n",
       "      <td>User 4</td>\n",
       "      <td>0.45</td>\n",
       "      <td>1.80</td>\n",
       "      <td>0.29</td>\n",
       "      <td>0.57</td>\n",
       "      <td>0.46</td>\n",
       "      <td>1.52</td>\n",
       "      <td>3.18</td>\n",
       "      <td>2.96</td>\n",
       "      <td>1.57</td>\n",
       "      <td>2.86</td>\n",
       "    </tr>\n",
       "    <tr>\n",
       "      <th>4</th>\n",
       "      <td>User 5</td>\n",
       "      <td>0.51</td>\n",
       "      <td>1.20</td>\n",
       "      <td>1.18</td>\n",
       "      <td>0.57</td>\n",
       "      <td>1.54</td>\n",
       "      <td>2.02</td>\n",
       "      <td>3.18</td>\n",
       "      <td>2.78</td>\n",
       "      <td>1.18</td>\n",
       "      <td>2.54</td>\n",
       "    </tr>\n",
       "    <tr>\n",
       "      <th>...</th>\n",
       "      <td>...</td>\n",
       "      <td>...</td>\n",
       "      <td>...</td>\n",
       "      <td>...</td>\n",
       "      <td>...</td>\n",
       "      <td>...</td>\n",
       "      <td>...</td>\n",
       "      <td>...</td>\n",
       "      <td>...</td>\n",
       "      <td>...</td>\n",
       "      <td>...</td>\n",
       "    </tr>\n",
       "    <tr>\n",
       "      <th>975</th>\n",
       "      <td>User 976</td>\n",
       "      <td>0.74</td>\n",
       "      <td>1.12</td>\n",
       "      <td>0.30</td>\n",
       "      <td>0.53</td>\n",
       "      <td>0.88</td>\n",
       "      <td>1.38</td>\n",
       "      <td>3.17</td>\n",
       "      <td>2.78</td>\n",
       "      <td>0.99</td>\n",
       "      <td>3.20</td>\n",
       "    </tr>\n",
       "    <tr>\n",
       "      <th>976</th>\n",
       "      <td>User 977</td>\n",
       "      <td>1.25</td>\n",
       "      <td>0.92</td>\n",
       "      <td>1.12</td>\n",
       "      <td>0.38</td>\n",
       "      <td>0.78</td>\n",
       "      <td>1.68</td>\n",
       "      <td>3.18</td>\n",
       "      <td>2.79</td>\n",
       "      <td>1.34</td>\n",
       "      <td>2.80</td>\n",
       "    </tr>\n",
       "    <tr>\n",
       "      <th>977</th>\n",
       "      <td>User 978</td>\n",
       "      <td>0.61</td>\n",
       "      <td>1.32</td>\n",
       "      <td>0.67</td>\n",
       "      <td>0.43</td>\n",
       "      <td>1.30</td>\n",
       "      <td>1.78</td>\n",
       "      <td>3.17</td>\n",
       "      <td>2.81</td>\n",
       "      <td>1.34</td>\n",
       "      <td>3.02</td>\n",
       "    </tr>\n",
       "    <tr>\n",
       "      <th>978</th>\n",
       "      <td>User 979</td>\n",
       "      <td>0.93</td>\n",
       "      <td>0.20</td>\n",
       "      <td>0.13</td>\n",
       "      <td>0.43</td>\n",
       "      <td>0.30</td>\n",
       "      <td>0.40</td>\n",
       "      <td>3.18</td>\n",
       "      <td>2.98</td>\n",
       "      <td>1.12</td>\n",
       "      <td>2.46</td>\n",
       "    </tr>\n",
       "    <tr>\n",
       "      <th>979</th>\n",
       "      <td>User 980</td>\n",
       "      <td>0.93</td>\n",
       "      <td>0.56</td>\n",
       "      <td>1.13</td>\n",
       "      <td>0.51</td>\n",
       "      <td>1.34</td>\n",
       "      <td>2.36</td>\n",
       "      <td>3.18</td>\n",
       "      <td>2.87</td>\n",
       "      <td>1.34</td>\n",
       "      <td>2.40</td>\n",
       "    </tr>\n",
       "  </tbody>\n",
       "</table>\n",
       "<p>980 rows × 11 columns</p>\n",
       "</div>"
      ],
      "text/plain": [
       "      User ID  Category 1  Category 2  Category 3  Category 4  Category 5  \\\n",
       "0      User 1        0.93        1.80        2.29        0.62        0.80   \n",
       "1      User 2        1.02        2.20        2.66        0.64        1.42   \n",
       "2      User 3        1.22        0.80        0.54        0.53        0.24   \n",
       "3      User 4        0.45        1.80        0.29        0.57        0.46   \n",
       "4      User 5        0.51        1.20        1.18        0.57        1.54   \n",
       "..        ...         ...         ...         ...         ...         ...   \n",
       "975  User 976        0.74        1.12        0.30        0.53        0.88   \n",
       "976  User 977        1.25        0.92        1.12        0.38        0.78   \n",
       "977  User 978        0.61        1.32        0.67        0.43        1.30   \n",
       "978  User 979        0.93        0.20        0.13        0.43        0.30   \n",
       "979  User 980        0.93        0.56        1.13        0.51        1.34   \n",
       "\n",
       "     Category 6  Category 7  Category 8  Category 9  Category 10  \n",
       "0          2.42        3.19        2.79        1.82         2.42  \n",
       "1          3.18        3.21        2.63        1.86         2.32  \n",
       "2          1.54        3.18        2.80        1.31         2.50  \n",
       "3          1.52        3.18        2.96        1.57         2.86  \n",
       "4          2.02        3.18        2.78        1.18         2.54  \n",
       "..          ...         ...         ...         ...          ...  \n",
       "975        1.38        3.17        2.78        0.99         3.20  \n",
       "976        1.68        3.18        2.79        1.34         2.80  \n",
       "977        1.78        3.17        2.81        1.34         3.02  \n",
       "978        0.40        3.18        2.98        1.12         2.46  \n",
       "979        2.36        3.18        2.87        1.34         2.40  \n",
       "\n",
       "[980 rows x 11 columns]"
      ]
     },
     "execution_count": 2,
     "metadata": {},
     "output_type": "execute_result"
    }
   ],
   "source": [
    "#The trip advisor cvs file was read. It is printed with the columns and rows of the data and the numbers of columns and rows. There are 11\n",
    "#columns and 980 instances\n",
    "asian_trip= pd.read_csv(\"tripadvisor_review.csv\", encoding = \"ISO-8859-1\", engine='python')\n",
    "asian_trip"
   ]
  },
  {
   "cell_type": "markdown",
   "metadata": {
    "slideshow": {
     "slide_type": "notes"
    }
   },
   "source": [
    "DATA CLEANING\n",
    "\n",
    "This part is the data cleaning where data types, non-null, and count are examined. There are 980 entries and all of them are counted. There is only one object data type which is represented by user ID. The remaining data type are float. These information is clean. No further cleaning of data is needed."
   ]
  },
  {
   "cell_type": "code",
   "execution_count": 3,
   "metadata": {},
   "outputs": [
    {
     "name": "stdout",
     "output_type": "stream",
     "text": [
      "<class 'pandas.core.frame.DataFrame'>\n",
      "RangeIndex: 980 entries, 0 to 979\n",
      "Data columns (total 11 columns):\n",
      " #   Column       Non-Null Count  Dtype  \n",
      "---  ------       --------------  -----  \n",
      " 0   User ID      980 non-null    object \n",
      " 1   Category 1   980 non-null    float64\n",
      " 2   Category 2   980 non-null    float64\n",
      " 3   Category 3   980 non-null    float64\n",
      " 4   Category 4   980 non-null    float64\n",
      " 5   Category 5   980 non-null    float64\n",
      " 6   Category 6   980 non-null    float64\n",
      " 7   Category 7   980 non-null    float64\n",
      " 8   Category 8   980 non-null    float64\n",
      " 9   Category 9   980 non-null    float64\n",
      " 10  Category 10  980 non-null    float64\n",
      "dtypes: float64(10), object(1)\n",
      "memory usage: 84.3+ KB\n"
     ]
    }
   ],
   "source": [
    "asian_trip.info()"
   ]
  },
  {
   "cell_type": "code",
   "execution_count": 4,
   "metadata": {},
   "outputs": [
    {
     "name": "stdout",
     "output_type": "stream",
     "text": [
      "['User ID', 'Category 1', 'Category 2', 'Category 3', 'Category 4', 'Category 5', 'Category 6', 'Category 7', 'Category 8', 'Category 9', 'Category 10'] "
     ]
    }
   ],
   "source": [
    "#The columns for this data is unidentifiable. It is enumerated with category 1 to category 10. The \n",
    "#column names #were gathered from the UCI website, type in, and labeled in the columns for easy\n",
    "#identification. \n",
    "print(asian_trip.columns.tolist(), end =\" \")"
   ]
  },
  {
   "cell_type": "code",
   "execution_count": 5,
   "metadata": {},
   "outputs": [],
   "source": [
    "#column_names =['User', 'Category1', 'Category2', 'Category3', 'Category4', 'Category5', 'Category6',\n",
    "#'Category7', 'Category8', 'Category9', 'Category10']\n",
    "column_names =['Userid','artgalleries','danceclubs', 'juicebars','restaurants','museums','resorts',\n",
    "               'parksPicnicspots','beaches', 'theaters','religiousinstitutions']\n",
    "        "
   ]
  },
  {
   "cell_type": "code",
   "execution_count": 6,
   "metadata": {
    "scrolled": true
   },
   "outputs": [],
   "source": [
    "#Remove the space between the category and numbers asian_trip.columns\n",
    "asian_trip.columns = column_names"
   ]
  },
  {
   "cell_type": "code",
   "execution_count": 7,
   "metadata": {
    "scrolled": true
   },
   "outputs": [
    {
     "data": {
      "text/html": [
       "<div>\n",
       "<style scoped>\n",
       "    .dataframe tbody tr th:only-of-type {\n",
       "        vertical-align: middle;\n",
       "    }\n",
       "\n",
       "    .dataframe tbody tr th {\n",
       "        vertical-align: top;\n",
       "    }\n",
       "\n",
       "    .dataframe thead th {\n",
       "        text-align: right;\n",
       "    }\n",
       "</style>\n",
       "<table border=\"1\" class=\"dataframe\">\n",
       "  <thead>\n",
       "    <tr style=\"text-align: right;\">\n",
       "      <th></th>\n",
       "      <th>Userid</th>\n",
       "      <th>artgalleries</th>\n",
       "      <th>danceclubs</th>\n",
       "      <th>juicebars</th>\n",
       "      <th>restaurants</th>\n",
       "      <th>museums</th>\n",
       "      <th>resorts</th>\n",
       "      <th>parksPicnicspots</th>\n",
       "      <th>beaches</th>\n",
       "      <th>theaters</th>\n",
       "      <th>religiousinstitutions</th>\n",
       "    </tr>\n",
       "  </thead>\n",
       "  <tbody>\n",
       "    <tr>\n",
       "      <th>0</th>\n",
       "      <td>User 1</td>\n",
       "      <td>0.93</td>\n",
       "      <td>1.80</td>\n",
       "      <td>2.29</td>\n",
       "      <td>0.62</td>\n",
       "      <td>0.80</td>\n",
       "      <td>2.42</td>\n",
       "      <td>3.19</td>\n",
       "      <td>2.79</td>\n",
       "      <td>1.82</td>\n",
       "      <td>2.42</td>\n",
       "    </tr>\n",
       "    <tr>\n",
       "      <th>1</th>\n",
       "      <td>User 2</td>\n",
       "      <td>1.02</td>\n",
       "      <td>2.20</td>\n",
       "      <td>2.66</td>\n",
       "      <td>0.64</td>\n",
       "      <td>1.42</td>\n",
       "      <td>3.18</td>\n",
       "      <td>3.21</td>\n",
       "      <td>2.63</td>\n",
       "      <td>1.86</td>\n",
       "      <td>2.32</td>\n",
       "    </tr>\n",
       "    <tr>\n",
       "      <th>2</th>\n",
       "      <td>User 3</td>\n",
       "      <td>1.22</td>\n",
       "      <td>0.80</td>\n",
       "      <td>0.54</td>\n",
       "      <td>0.53</td>\n",
       "      <td>0.24</td>\n",
       "      <td>1.54</td>\n",
       "      <td>3.18</td>\n",
       "      <td>2.80</td>\n",
       "      <td>1.31</td>\n",
       "      <td>2.50</td>\n",
       "    </tr>\n",
       "    <tr>\n",
       "      <th>3</th>\n",
       "      <td>User 4</td>\n",
       "      <td>0.45</td>\n",
       "      <td>1.80</td>\n",
       "      <td>0.29</td>\n",
       "      <td>0.57</td>\n",
       "      <td>0.46</td>\n",
       "      <td>1.52</td>\n",
       "      <td>3.18</td>\n",
       "      <td>2.96</td>\n",
       "      <td>1.57</td>\n",
       "      <td>2.86</td>\n",
       "    </tr>\n",
       "    <tr>\n",
       "      <th>4</th>\n",
       "      <td>User 5</td>\n",
       "      <td>0.51</td>\n",
       "      <td>1.20</td>\n",
       "      <td>1.18</td>\n",
       "      <td>0.57</td>\n",
       "      <td>1.54</td>\n",
       "      <td>2.02</td>\n",
       "      <td>3.18</td>\n",
       "      <td>2.78</td>\n",
       "      <td>1.18</td>\n",
       "      <td>2.54</td>\n",
       "    </tr>\n",
       "    <tr>\n",
       "      <th>...</th>\n",
       "      <td>...</td>\n",
       "      <td>...</td>\n",
       "      <td>...</td>\n",
       "      <td>...</td>\n",
       "      <td>...</td>\n",
       "      <td>...</td>\n",
       "      <td>...</td>\n",
       "      <td>...</td>\n",
       "      <td>...</td>\n",
       "      <td>...</td>\n",
       "      <td>...</td>\n",
       "    </tr>\n",
       "    <tr>\n",
       "      <th>975</th>\n",
       "      <td>User 976</td>\n",
       "      <td>0.74</td>\n",
       "      <td>1.12</td>\n",
       "      <td>0.30</td>\n",
       "      <td>0.53</td>\n",
       "      <td>0.88</td>\n",
       "      <td>1.38</td>\n",
       "      <td>3.17</td>\n",
       "      <td>2.78</td>\n",
       "      <td>0.99</td>\n",
       "      <td>3.20</td>\n",
       "    </tr>\n",
       "    <tr>\n",
       "      <th>976</th>\n",
       "      <td>User 977</td>\n",
       "      <td>1.25</td>\n",
       "      <td>0.92</td>\n",
       "      <td>1.12</td>\n",
       "      <td>0.38</td>\n",
       "      <td>0.78</td>\n",
       "      <td>1.68</td>\n",
       "      <td>3.18</td>\n",
       "      <td>2.79</td>\n",
       "      <td>1.34</td>\n",
       "      <td>2.80</td>\n",
       "    </tr>\n",
       "    <tr>\n",
       "      <th>977</th>\n",
       "      <td>User 978</td>\n",
       "      <td>0.61</td>\n",
       "      <td>1.32</td>\n",
       "      <td>0.67</td>\n",
       "      <td>0.43</td>\n",
       "      <td>1.30</td>\n",
       "      <td>1.78</td>\n",
       "      <td>3.17</td>\n",
       "      <td>2.81</td>\n",
       "      <td>1.34</td>\n",
       "      <td>3.02</td>\n",
       "    </tr>\n",
       "    <tr>\n",
       "      <th>978</th>\n",
       "      <td>User 979</td>\n",
       "      <td>0.93</td>\n",
       "      <td>0.20</td>\n",
       "      <td>0.13</td>\n",
       "      <td>0.43</td>\n",
       "      <td>0.30</td>\n",
       "      <td>0.40</td>\n",
       "      <td>3.18</td>\n",
       "      <td>2.98</td>\n",
       "      <td>1.12</td>\n",
       "      <td>2.46</td>\n",
       "    </tr>\n",
       "    <tr>\n",
       "      <th>979</th>\n",
       "      <td>User 980</td>\n",
       "      <td>0.93</td>\n",
       "      <td>0.56</td>\n",
       "      <td>1.13</td>\n",
       "      <td>0.51</td>\n",
       "      <td>1.34</td>\n",
       "      <td>2.36</td>\n",
       "      <td>3.18</td>\n",
       "      <td>2.87</td>\n",
       "      <td>1.34</td>\n",
       "      <td>2.40</td>\n",
       "    </tr>\n",
       "  </tbody>\n",
       "</table>\n",
       "<p>980 rows × 11 columns</p>\n",
       "</div>"
      ],
      "text/plain": [
       "       Userid  artgalleries  danceclubs  juicebars  restaurants  museums  \\\n",
       "0      User 1          0.93        1.80       2.29         0.62     0.80   \n",
       "1      User 2          1.02        2.20       2.66         0.64     1.42   \n",
       "2      User 3          1.22        0.80       0.54         0.53     0.24   \n",
       "3      User 4          0.45        1.80       0.29         0.57     0.46   \n",
       "4      User 5          0.51        1.20       1.18         0.57     1.54   \n",
       "..        ...           ...         ...        ...          ...      ...   \n",
       "975  User 976          0.74        1.12       0.30         0.53     0.88   \n",
       "976  User 977          1.25        0.92       1.12         0.38     0.78   \n",
       "977  User 978          0.61        1.32       0.67         0.43     1.30   \n",
       "978  User 979          0.93        0.20       0.13         0.43     0.30   \n",
       "979  User 980          0.93        0.56       1.13         0.51     1.34   \n",
       "\n",
       "     resorts  parksPicnicspots  beaches  theaters  religiousinstitutions  \n",
       "0       2.42              3.19     2.79      1.82                   2.42  \n",
       "1       3.18              3.21     2.63      1.86                   2.32  \n",
       "2       1.54              3.18     2.80      1.31                   2.50  \n",
       "3       1.52              3.18     2.96      1.57                   2.86  \n",
       "4       2.02              3.18     2.78      1.18                   2.54  \n",
       "..       ...               ...      ...       ...                    ...  \n",
       "975     1.38              3.17     2.78      0.99                   3.20  \n",
       "976     1.68              3.18     2.79      1.34                   2.80  \n",
       "977     1.78              3.17     2.81      1.34                   3.02  \n",
       "978     0.40              3.18     2.98      1.12                   2.46  \n",
       "979     2.36              3.18     2.87      1.34                   2.40  \n",
       "\n",
       "[980 rows x 11 columns]"
      ]
     },
     "execution_count": 7,
     "metadata": {},
     "output_type": "execute_result"
    }
   ],
   "source": [
    "#The column are labeled what the average rating for the activities. \n",
    "asian_trip"
   ]
  },
  {
   "cell_type": "markdown",
   "metadata": {},
   "source": [
    "BRIEF EXPLORATORY DATA ANALYSIS\n",
    "\n",
    "Histograms, describe (statistical measurements), and box plots will be provided below with results\n",
    "and discussions."
   ]
  },
  {
   "cell_type": "code",
   "execution_count": 8,
   "metadata": {
    "scrolled": true
   },
   "outputs": [
    {
     "name": "stdout",
     "output_type": "stream",
     "text": [
      "Saving figure attribute_histogram_plots\n"
     ]
    },
    {
     "data": {
      "image/png": "[encoded data removed]",
      "text/plain": [
       "<Figure size 1440x1080 with 12 Axes>"
      ]
     },
     "metadata": {
      "needs_background": "light"
     },
     "output_type": "display_data"
    }
   ],
   "source": [
    "PROJECT_ROOT_DIR = \".\"\n",
    "CHAPTER_ID = \"end_to_end_project\"\n",
    "IMAGES_PATH = os.path.join(PROJECT_ROOT_DIR, \"images\", CHAPTER_ID)\n",
    "os.makedirs(IMAGES_PATH, exist_ok=True)\n",
    "\n",
    "def save_fig(fig_id, tight_layout=True, fig_extension=\"png\", resolution=300):\n",
    "    path = os.path.join(IMAGES_PATH, fig_id + \".\" + fig_extension)\n",
    "    print(\"Saving figure\", fig_id)\n",
    "    if tight_layout:\n",
    "        plt.tight_layout()\n",
    "    plt.savefig(path, format=fig_extension, dpi=resolution)\n",
    "    \n",
    "\n",
    "asian_trip.hist(bins=50, figsize=(20,15))\n",
    "save_fig(\"attribute_histogram_plots\")\n",
    "plt.show()"
   ]
  },
  {
   "cell_type": "markdown",
   "metadata": {},
   "source": [
    "RESULTS AND DISCUSSION\n",
    "\n",
    "The graphs for the dance clubs, beaches, parks and picnic spots, resorts are symetrical. The graphs for the religious institutions, restaurants and juice bars are left skewed. There are a couple of interesting graphs such as the parks and picnics spots, the variance is very small 0.01 from one point in the x-axis to other. There are activities that are slightly left skewed such as theater and museums.\n"
   ]
  },
  {
   "cell_type": "code",
   "execution_count": 9,
   "metadata": {},
   "outputs": [
    {
     "data": {
      "text/html": [
       "<div>\n",
       "<style scoped>\n",
       "    .dataframe tbody tr th:only-of-type {\n",
       "        vertical-align: middle;\n",
       "    }\n",
       "\n",
       "    .dataframe tbody tr th {\n",
       "        vertical-align: top;\n",
       "    }\n",
       "\n",
       "    .dataframe thead th {\n",
       "        text-align: right;\n",
       "    }\n",
       "</style>\n",
       "<table border=\"1\" class=\"dataframe\">\n",
       "  <thead>\n",
       "    <tr style=\"text-align: right;\">\n",
       "      <th></th>\n",
       "      <th>artgalleries</th>\n",
       "      <th>danceclubs</th>\n",
       "      <th>juicebars</th>\n",
       "      <th>restaurants</th>\n",
       "      <th>museums</th>\n",
       "      <th>resorts</th>\n",
       "      <th>parksPicnicspots</th>\n",
       "      <th>beaches</th>\n",
       "      <th>theaters</th>\n",
       "      <th>religiousinstitutions</th>\n",
       "    </tr>\n",
       "  </thead>\n",
       "  <tbody>\n",
       "    <tr>\n",
       "      <th>count</th>\n",
       "      <td>980.000000</td>\n",
       "      <td>980.000000</td>\n",
       "      <td>980.000000</td>\n",
       "      <td>980.000000</td>\n",
       "      <td>980.000000</td>\n",
       "      <td>980.000000</td>\n",
       "      <td>980.000000</td>\n",
       "      <td>980.000000</td>\n",
       "      <td>980.000000</td>\n",
       "      <td>980.000000</td>\n",
       "    </tr>\n",
       "    <tr>\n",
       "      <th>mean</th>\n",
       "      <td>0.893194</td>\n",
       "      <td>1.352612</td>\n",
       "      <td>1.013306</td>\n",
       "      <td>0.532500</td>\n",
       "      <td>0.939735</td>\n",
       "      <td>1.842898</td>\n",
       "      <td>3.180939</td>\n",
       "      <td>2.835061</td>\n",
       "      <td>1.569439</td>\n",
       "      <td>2.799224</td>\n",
       "    </tr>\n",
       "    <tr>\n",
       "      <th>std</th>\n",
       "      <td>0.326912</td>\n",
       "      <td>0.478280</td>\n",
       "      <td>0.788607</td>\n",
       "      <td>0.279731</td>\n",
       "      <td>0.437430</td>\n",
       "      <td>0.539538</td>\n",
       "      <td>0.007824</td>\n",
       "      <td>0.137505</td>\n",
       "      <td>0.364629</td>\n",
       "      <td>0.321380</td>\n",
       "    </tr>\n",
       "    <tr>\n",
       "      <th>min</th>\n",
       "      <td>0.340000</td>\n",
       "      <td>0.000000</td>\n",
       "      <td>0.130000</td>\n",
       "      <td>0.150000</td>\n",
       "      <td>0.060000</td>\n",
       "      <td>0.140000</td>\n",
       "      <td>3.160000</td>\n",
       "      <td>2.420000</td>\n",
       "      <td>0.740000</td>\n",
       "      <td>2.140000</td>\n",
       "    </tr>\n",
       "    <tr>\n",
       "      <th>25%</th>\n",
       "      <td>0.670000</td>\n",
       "      <td>1.080000</td>\n",
       "      <td>0.270000</td>\n",
       "      <td>0.410000</td>\n",
       "      <td>0.640000</td>\n",
       "      <td>1.460000</td>\n",
       "      <td>3.180000</td>\n",
       "      <td>2.740000</td>\n",
       "      <td>1.310000</td>\n",
       "      <td>2.540000</td>\n",
       "    </tr>\n",
       "    <tr>\n",
       "      <th>50%</th>\n",
       "      <td>0.830000</td>\n",
       "      <td>1.280000</td>\n",
       "      <td>0.820000</td>\n",
       "      <td>0.500000</td>\n",
       "      <td>0.900000</td>\n",
       "      <td>1.800000</td>\n",
       "      <td>3.180000</td>\n",
       "      <td>2.820000</td>\n",
       "      <td>1.540000</td>\n",
       "      <td>2.780000</td>\n",
       "    </tr>\n",
       "    <tr>\n",
       "      <th>75%</th>\n",
       "      <td>1.020000</td>\n",
       "      <td>1.560000</td>\n",
       "      <td>1.572500</td>\n",
       "      <td>0.580000</td>\n",
       "      <td>1.200000</td>\n",
       "      <td>2.200000</td>\n",
       "      <td>3.180000</td>\n",
       "      <td>2.910000</td>\n",
       "      <td>1.760000</td>\n",
       "      <td>3.040000</td>\n",
       "    </tr>\n",
       "    <tr>\n",
       "      <th>max</th>\n",
       "      <td>3.220000</td>\n",
       "      <td>3.640000</td>\n",
       "      <td>3.620000</td>\n",
       "      <td>3.440000</td>\n",
       "      <td>3.300000</td>\n",
       "      <td>3.760000</td>\n",
       "      <td>3.210000</td>\n",
       "      <td>3.390000</td>\n",
       "      <td>3.170000</td>\n",
       "      <td>3.660000</td>\n",
       "    </tr>\n",
       "  </tbody>\n",
       "</table>\n",
       "</div>"
      ],
      "text/plain": [
       "       artgalleries  danceclubs   juicebars  restaurants     museums  \\\n",
       "count    980.000000  980.000000  980.000000   980.000000  980.000000   \n",
       "mean       0.893194    1.352612    1.013306     0.532500    0.939735   \n",
       "std        0.326912    0.478280    0.788607     0.279731    0.437430   \n",
       "min        0.340000    0.000000    0.130000     0.150000    0.060000   \n",
       "25%        0.670000    1.080000    0.270000     0.410000    0.640000   \n",
       "50%        0.830000    1.280000    0.820000     0.500000    0.900000   \n",
       "75%        1.020000    1.560000    1.572500     0.580000    1.200000   \n",
       "max        3.220000    3.640000    3.620000     3.440000    3.300000   \n",
       "\n",
       "          resorts  parksPicnicspots     beaches    theaters  \\\n",
       "count  980.000000        980.000000  980.000000  980.000000   \n",
       "mean     1.842898          3.180939    2.835061    1.569439   \n",
       "std      0.539538          0.007824    0.137505    0.364629   \n",
       "min      0.140000          3.160000    2.420000    0.740000   \n",
       "25%      1.460000          3.180000    2.740000    1.310000   \n",
       "50%      1.800000          3.180000    2.820000    1.540000   \n",
       "75%      2.200000          3.180000    2.910000    1.760000   \n",
       "max      3.760000          3.210000    3.390000    3.170000   \n",
       "\n",
       "       religiousinstitutions  \n",
       "count             980.000000  \n",
       "mean                2.799224  \n",
       "std                 0.321380  \n",
       "min                 2.140000  \n",
       "25%                 2.540000  \n",
       "50%                 2.780000  \n",
       "75%                 3.040000  \n",
       "max                 3.660000  "
      ]
     },
     "execution_count": 9,
     "metadata": {},
     "output_type": "execute_result"
    }
   ],
   "source": [
    "#Using the describe feature, the counts, mean, standard deviation, minimum, maximum, 25%, 50% and 75% are shown\n",
    "asian_trip.describe()"
   ]
  },
  {
   "cell_type": "markdown",
   "metadata": {
    "slideshow": {
     "slide_type": "notes"
    }
   },
   "source": [
    "BRIEF EXPLORATORY DATA ANALYSIS\n",
    "\n",
    "This dataset will use summary from the describe features in pandas to explore the data. \n",
    "\n",
    "The highest average review rating mean is for the parks, picnic, and spots which is 3.18. Most reviewers gave consistently\n",
    "almost the same rating it is between 3.16 and 3.21. Therefore, the standard deviation is very low number of 0.007 meaning \n",
    "its disperson is almost none.\n",
    "\n",
    "The next highest mean goes to beaches which is 2.835. The maximum and minimum rating of the beaches are 3.39 and 2.42. Its\n",
    "STD is a low 0.137505 meaning there is not much disperson.\n",
    "\n",
    "The third highest average review rating mean goes to the religious institution which is  2.799. Its maximum is the high\n",
    "3.66 which is one of the highest maximum from the 10 attributes. Its minimum rating review is 2.14. Its STD is 0.32 which \n",
    "is means its has a low spread.\n",
    "\n",
    "The lowest average review rating mean is for the restaurants which is only 0.532500. However, its maximum is 3.44 yet its\n",
    "minimum 0.1500. Its STD is 0.279731 meaning its dispersion is also low. These information is confirmed by the 25%, 50%, and\n",
    "75% which are .41, .50, and .58. There is a probability that the maximum is an outlier. \n",
    "\n",
    "The second to the lowest average review rating mean is for the art galleries which is 0.893194. The minimum is 0.344 while its\n",
    "maximum is 3.22. The std is .326 which is also a low distribution. \n",
    "\n",
    "The third to the lowest average review rating mean is for museums which 0.939735. Its maximum is3.30 while its minimum is 0.060 . \n",
    "its STD is 0.437 which is a low dispersion. However, this dispersion in these data is on the low side.\n"
   ]
  },
  {
   "cell_type": "code",
   "execution_count": 10,
   "metadata": {},
   "outputs": [
    {
     "data": {
      "text/plain": [
       "<matplotlib.axes._subplots.AxesSubplot at 0x2e6930d89a0>"
      ]
     },
     "execution_count": 10,
     "metadata": {},
     "output_type": "execute_result"
    },
    {
     "data": {
      "image/png": "[encoded data removed]",
      "text/plain": [
       "<Figure size 432x288 with 1 Axes>"
      ]
     },
     "metadata": {
      "needs_background": "light"
     },
     "output_type": "display_data"
    }
   ],
   "source": [
    "#Below is the creation of the box plot. There are many outliers which can affect the results of the properties of the\n",
    "#dataset. After creating the box plot. The box plot will be cleaned of the outliers.\n",
    "\n",
    "asian_trip.plot(kind = 'box')"
   ]
  },
  {
   "cell_type": "code",
   "execution_count": 11,
   "metadata": {},
   "outputs": [],
   "source": [
    "#Created a function for remvoing the top outliers\n",
    "x = asian_trip.artgalleries\n",
    "y = 1.5\n",
    "def removing_top_outliers(x):\n",
    "    if x > y:\n",
    "        return y\n",
    "    else:\n",
    "        return x\n",
    "\n",
    "asian_trip.artgalleries = asian_trip.artgalleries.map(removing_top_outliers)"
   ]
  },
  {
   "cell_type": "code",
   "execution_count": 12,
   "metadata": {},
   "outputs": [],
   "source": [
    "#Created another function for removing the lower outliers\n",
    "x = asian_trip.danceclubs\n",
    "y = 2.0\n",
    "z = 0.5\n",
    "    \n",
    "def removing_bottom_outliers(x):\n",
    "    if x < z:\n",
    "        return z\n",
    "    \n",
    "    else:\n",
    "        return x\n",
    "\n",
    "asian_trip.danceclubs = asian_trip.danceclubs.map(removing_top_outliers)\n",
    "asian_trip.danceclubs = asian_trip.danceclubs.map(removing_bottom_outliers)\n"
   ]
  },
  {
   "cell_type": "code",
   "execution_count": 13,
   "metadata": {},
   "outputs": [],
   "source": [
    "x = asian_trip.juicebars\n",
    "y = 3.5\n",
    "\n",
    "asian_trip.juicebars = asian_trip.juicebars.map(removing_top_outliers)\n"
   ]
  },
  {
   "cell_type": "code",
   "execution_count": 14,
   "metadata": {},
   "outputs": [],
   "source": [
    "x = asian_trip.restaurants\n",
    "y = .80\n",
    "z = 0.25\n",
    "\n",
    "asian_trip.restaurants = asian_trip.restaurants.map(removing_top_outliers)\n",
    "asian_trip.restaurants = asian_trip.restaurants.map(removing_bottom_outliers)\n"
   ]
  },
  {
   "cell_type": "code",
   "execution_count": 15,
   "metadata": {},
   "outputs": [],
   "source": [
    "x = asian_trip.juicebars\n",
    "y = 2\n",
    "\n",
    "asian_trip.museums = asian_trip.museums.map(removing_top_outliers)"
   ]
  },
  {
   "cell_type": "code",
   "execution_count": 16,
   "metadata": {},
   "outputs": [],
   "source": [
    "x = asian_trip.parksPicnicspots\n",
    "y = 3.18\n",
    "z = 3.18\n",
    "\n",
    "asian_trip.parksPicnicspots = asian_trip.parksPicnicspots.map(removing_top_outliers)\n",
    "asian_trip.parksPicnicspots = asian_trip.parksPicnicspots.map(removing_bottom_outliers)"
   ]
  },
  {
   "cell_type": "code",
   "execution_count": 17,
   "metadata": {},
   "outputs": [],
   "source": [
    "x = asian_trip.resorts\n",
    "y = 3.20\n",
    "z = 0.40\n",
    "\n",
    "asian_trip.resorts = asian_trip.resorts.map(removing_top_outliers)\n",
    "asian_trip.resorts= asian_trip.resorts.map(removing_bottom_outliers)"
   ]
  },
  {
   "cell_type": "code",
   "execution_count": 18,
   "metadata": {},
   "outputs": [],
   "source": [
    "x = asian_trip.beaches\n",
    "y = 3.15\n",
    "z = 2.5\n",
    "\n",
    "asian_trip.beaches = asian_trip.beaches.map(removing_top_outliers)\n",
    "asian_trip.beaches = asian_trip.beaches.map(removing_bottom_outliers)"
   ]
  },
  {
   "cell_type": "code",
   "execution_count": 19,
   "metadata": {},
   "outputs": [],
   "source": [
    "x = asian_trip.theaters\n",
    "y = 2.25\n",
    "\n",
    "asian_trip.theaters = asian_trip.theaters.map(removing_top_outliers)"
   ]
  },
  {
   "cell_type": "code",
   "execution_count": 20,
   "metadata": {},
   "outputs": [
    {
     "data": {
      "text/plain": [
       "<matplotlib.axes._subplots.AxesSubplot at 0x2e694cafa90>"
      ]
     },
     "execution_count": 20,
     "metadata": {},
     "output_type": "execute_result"
    },
    {
     "data": {
      "image/png": "[encoded data removed]",
      "text/plain": [
       "<Figure size 432x288 with 1 Axes>"
      ]
     },
     "metadata": {
      "needs_background": "light"
     },
     "output_type": "display_data"
    }
   ],
   "source": [
    "asian_trip.plot(kind = 'box')"
   ]
  },
  {
   "cell_type": "markdown",
   "metadata": {
    "slideshow": {
     "slide_type": "notes"
    }
   },
   "source": [
    "BRIEF EXPLORATORY DATA ANALYSIS\n",
    "\n",
    "This dataset will use the also boxplot to explore the data. \n",
    "\n",
    "There is no outlier for the religious institutions (skewed left) meaning reviews are fairly consistent and its median is third to the highest which is behind beaches (symmetrical) the second to the highest median. The highest median is parks and picnic spots.  There is no interquartile range nor lower and higher fence which means there is little or hardy any spread on the boxplot for the parks & picnic spots.\n",
    "\n",
    "The fourth highest median is the resorts whose box plot is symmetrical with long lines for the upper and lower fences.\n",
    "\n",
    "The fifth highest median is the theater, followed by dance club. The box plot for the theater and dance club are symmetrical.\n",
    "\n",
    "The second to the lowest median are for art galleries, juice bars and museums. Art galleries’ and museum’s box plots are symmetrical while juice bars’ box plot has a big range with skewed to the right.\n",
    "\n",
    "The lowest median is the restaurants with small range and spread. The boxplot is symmetrical.\n"
   ]
  },
  {
   "cell_type": "markdown",
   "metadata": {
    "slideshow": {
     "slide_type": "notes"
    }
   },
   "source": [
    "Logistic Regression\n",
    "\n",
    "This logistic regressions is binary. A average review for restaurants lower than .58 is 0 while equal or higher than 0.58 is 1. The 0.58 is the 75%  quantile."
   ]
  },
  {
   "cell_type": "code",
   "execution_count": 21,
   "metadata": {},
   "outputs": [
    {
     "data": {
      "text/plain": [
       "0.58"
      ]
     },
     "execution_count": 21,
     "metadata": {},
     "output_type": "execute_result"
    }
   ],
   "source": [
    "asian_trip.restaurants.quantile(q=.75)"
   ]
  },
  {
   "cell_type": "code",
   "execution_count": 22,
   "metadata": {},
   "outputs": [
    {
     "name": "stdout",
     "output_type": "stream",
     "text": [
      "Class Labels:  (array([0.25, 0.26, 0.27, 0.29, 0.3 , 0.31, 0.32, 0.33, 0.34, 0.35, 0.37,\n",
      "       0.38, 0.39, 0.4 , 0.41, 0.42, 0.43, 0.45, 0.46, 0.47, 0.48, 0.49,\n",
      "       0.5 , 0.51, 0.53, 0.54, 0.55, 0.56, 0.57, 0.58, 0.59, 0.61, 0.62,\n",
      "       0.63, 0.64, 0.65, 0.66, 0.67, 0.69, 0.71, 0.72, 0.73, 0.74, 0.75,\n",
      "       0.77, 0.78, 0.79, 0.8 ]), array([20,  4,  7, 13,  8,  9, 12, 21, 17, 22, 20, 21, 37, 20, 37, 33, 33,\n",
      "       29, 29, 36, 28, 31, 43, 38, 42, 29, 32, 32, 26, 22, 20, 30, 25, 14,\n",
      "       23, 17, 16,  9,  7,  5,  4,  3,  1,  4,  1,  2,  2, 46],\n",
      "      dtype=int64))\n"
     ]
    }
   ],
   "source": [
    "#X variables are all 9 different attributes except the restaurant. These 9 attributes are indepedent variable\n",
    "#y variable is the restaurant which is the dependent variable\n",
    "\n",
    "X = asian_trip.loc[ : , ['artgalleries','danceclubs', 'juicebars','museums','resorts','parksPicnicspots','beaches', 'theaters','religiousinstitutions']]\n",
    "y = asian_trip.restaurants\n",
    "print('Class Labels: ', np.unique(y, return_counts=True))"
   ]
  },
  {
   "cell_type": "code",
   "execution_count": 23,
   "metadata": {},
   "outputs": [
    {
     "name": "stdout",
     "output_type": "stream",
     "text": [
      "0    751\n",
      "1    229\n",
      "Name: gety_i, dtype: int64\n"
     ]
    }
   ],
   "source": [
    "asian_trip['gety']=pd.cut(asian_trip['restaurants'],[0,0.58, asian_trip['restaurants'].max()],labels=[0,1])\n",
    "asian_trip['gety_i']= asian_trip['gety'].astype(int)\n",
    "print(asian_trip['gety_i'].value_counts())"
   ]
  },
  {
   "cell_type": "code",
   "execution_count": 24,
   "metadata": {},
   "outputs": [
    {
     "name": "stdout",
     "output_type": "stream",
     "text": [
      "The ratio of those who will not eat at the restaurant:  0.7663265306122449\n"
     ]
    }
   ],
   "source": [
    "## Dummy Model Accuracy Rate (Baseline)- anything higher has a possibility of eating in the restaurant\n",
    "print(\"The ratio of those who will eat at the restaurant: \", 751/(751+229))"
   ]
  },
  {
   "cell_type": "code",
   "execution_count": 25,
   "metadata": {},
   "outputs": [
    {
     "name": "stdout",
     "output_type": "stream",
     "text": [
      "<class 'pandas.core.frame.DataFrame'>\n",
      "RangeIndex: 980 entries, 0 to 979\n",
      "Data columns (total 13 columns):\n",
      " #   Column                 Non-Null Count  Dtype   \n",
      "---  ------                 --------------  -----   \n",
      " 0   Userid                 980 non-null    object  \n",
      " 1   artgalleries           980 non-null    float64 \n",
      " 2   danceclubs             980 non-null    float64 \n",
      " 3   juicebars              980 non-null    float64 \n",
      " 4   restaurants            980 non-null    float64 \n",
      " 5   museums                980 non-null    float64 \n",
      " 6   resorts                980 non-null    float64 \n",
      " 7   parksPicnicspots       980 non-null    float64 \n",
      " 8   beaches                980 non-null    float64 \n",
      " 9   theaters               980 non-null    float64 \n",
      " 10  religiousinstitutions  980 non-null    float64 \n",
      " 11  gety                   980 non-null    category\n",
      " 12  gety_i                 980 non-null    int32   \n",
      "dtypes: category(1), float64(10), int32(1), object(1)\n",
      "memory usage: 89.2+ KB\n"
     ]
    }
   ],
   "source": [
    "# There were two more categories added to get the y. Since y is float, it was converted to an integer, so it can used for \n",
    "#logistic regression\n",
    "\n",
    "asian_trip.info()"
   ]
  },
  {
   "cell_type": "code",
   "execution_count": 26,
   "metadata": {},
   "outputs": [
    {
     "name": "stdout",
     "output_type": "stream",
     "text": [
      "Optimization terminated successfully.\n",
      "         Current function value: 0.449334\n",
      "         Iterations 13\n",
      "                           Logit Regression Results                           \n",
      "==============================================================================\n",
      "Dep. Variable:                 gety_i   No. Observations:                  980\n",
      "Model:                          Logit   Df Residuals:                      971\n",
      "Method:                           MLE   Df Model:                            8\n",
      "Date:                Thu, 29 Oct 2020   Pseudo R-squ.:                  0.1735\n",
      "Time:                        10:04:39   Log-Likelihood:                -440.35\n",
      "converged:                       True   LL-Null:                       -532.80\n",
      "Covariance Type:            nonrobust   LLR p-value:                 9.563e-36\n",
      "=========================================================================================\n",
      "                            coef    std err          z      P>|z|      [0.025      0.975]\n",
      "-----------------------------------------------------------------------------------------\n",
      "Intercept                 0.6143        nan        nan        nan         nan         nan\n",
      "artgalleries              0.6346      0.323      1.964      0.050       0.001       1.268\n",
      "danceclubs                0.0782      0.212      0.369      0.712      -0.337       0.493\n",
      "juicebars                -0.3620      0.119     -3.033      0.002      -0.596      -0.128\n",
      "museums                  -0.3841      0.247     -1.555      0.120      -0.868       0.100\n",
      "resorts                   0.8338      0.210      3.976      0.000       0.423       1.245\n",
      "parksPicnicspots          1.9535        nan        nan        nan         nan         nan\n",
      "beaches                   0.2576      0.682      0.378      0.706      -1.079       1.594\n",
      "theaters                 -0.1323      0.284     -0.466      0.642      -0.689       0.425\n",
      "religiousinstitutions    -3.7158      0.412     -9.027      0.000      -4.523      -2.909\n",
      "=========================================================================================\n"
     ]
    },
    {
     "name": "stderr",
     "output_type": "stream",
     "text": [
      "C:\\Users\\Marissa\\anaconda3\\lib\\site-packages\\statsmodels\\base\\model.py:1354: RuntimeWarning: invalid value encountered in sqrt\n",
      "  bse_ = np.sqrt(np.diag(self.cov_params()))\n",
      "C:\\Users\\Marissa\\anaconda3\\lib\\site-packages\\scipy\\stats\\_distn_infrastructure.py:1932: RuntimeWarning: invalid value encountered in less_equal\n",
      "  cond2 = cond0 & (x <= _a)\n"
     ]
    }
   ],
   "source": [
    "model = smf.logit('gety_i ~ artgalleries + danceclubs + juicebars + museums + resorts + parksPicnicspots + beaches + theaters + religiousinstitutions', data = asian_trip)\n",
    "results = model.fit()\n",
    "print(results.summary())"
   ]
  },
  {
   "cell_type": "markdown",
   "metadata": {
    "slideshow": {
     "slide_type": "notes"
    }
   },
   "source": [
    "RESULTS AND DISCUSSION\n",
    "\n",
    "Above is the Logistic Regression Results. \n",
    "\n",
    "The p-value for art galleries, juice bars, resorts, and religious institutions are statistically significant because the p-value should be lesser than .05. It is interpreted that the intercept is 1.5320. For one unit increase in art galleries, the odds increases by a multiplicative factor of 0.6346. For one unit increase in juice bars, the odds decreases by a multiplicative factor of 0.3620. For one unit increase in religious institutions, the odds decreases by a multiplicative\n",
    "factor of 3.7158. For one unit increase in resorts, the odds increase by a multiplicative facor of 0.8338.\n",
    "\n",
    "The p-value for theaters, beaches, museums, and dance clubs are statistically insignificant because the p-value is bigger than 0.5 which makes it statistically insignificant or not sure. Its effect\n",
    "is not by random chance.\n"
   ]
  },
  {
   "cell_type": "code",
   "execution_count": 27,
   "metadata": {},
   "outputs": [
    {
     "name": "stdout",
     "output_type": "stream",
     "text": [
      "Intercept                1.848453\n",
      "artgalleries             1.886237\n",
      "danceclubs               1.081310\n",
      "juicebars                0.696281\n",
      "museums                  0.681050\n",
      "resorts                  2.302092\n",
      "parksPicnicspots         7.053574\n",
      "beaches                  1.293827\n",
      "theaters                 0.876090\n",
      "religiousinstitutions    0.024337\n",
      "dtype: float64\n"
     ]
    }
   ],
   "source": [
    "odds_ratios = np.exp(results.params)\n",
    "print(odds_ratios)"
   ]
  },
  {
   "cell_type": "markdown",
   "metadata": {
    "slideshow": {
     "slide_type": "notes"
    }
   },
   "source": [
    "RESULTS AND DISCUSSION\n",
    "\n",
    "For every one unit increase in art galleries, the odds of the good review increases by 1.848453 times. For every one unit\n",
    "increase in parks and picnic spots, the odds of the good review increases by 7.053574 times. "
   ]
  },
  {
   "cell_type": "markdown",
   "metadata": {},
   "source": [
    "MODELING\n"
   ]
  },
  {
   "cell_type": "code",
   "execution_count": 28,
   "metadata": {},
   "outputs": [
    {
     "name": "stdout",
     "output_type": "stream",
     "text": [
      "This is the accuracy of the training scores:  0.7653061224489796\n"
     ]
    }
   ],
   "source": [
    "# Randomly split X and y arrays to 30% test data, 70% training data. \n",
    "X_train, X_test, y_train, y_test = train_test_split(X, asian_trip['gety_i'], test_size = .3, random_state =25)\n",
    "\n",
    "lr = LogisticRegression().fit(X_train, y_train)\n",
    "print(\"This is the accuracy of the training scores: \", lr.score(X_train, y_train))"
   ]
  },
  {
   "cell_type": "code",
   "execution_count": 29,
   "metadata": {},
   "outputs": [
    {
     "name": "stdout",
     "output_type": "stream",
     "text": [
      "The data is being split to training data:  (686, 9) (686,)\n"
     ]
    }
   ],
   "source": [
    "print(\"The data is being split to training data: \", X_train.shape, y_train.shape)"
   ]
  },
  {
   "cell_type": "code",
   "execution_count": 30,
   "metadata": {},
   "outputs": [
    {
     "name": "stdout",
     "output_type": "stream",
     "text": [
      "The data is split to testing data:  (294, 9) (294,)\n"
     ]
    }
   ],
   "source": [
    "print(\"The data is split to testing data: \", X_test.shape, y_test.shape)"
   ]
  },
  {
   "cell_type": "code",
   "execution_count": 31,
   "metadata": {},
   "outputs": [
    {
     "name": "stdout",
     "output_type": "stream",
     "text": [
      "This is the co-efficient:  [[ 3.16690021e-01  7.84512223e-03 -2.77530972e-01 -2.30840425e-01\n",
      "   9.38582891e-01  6.74049818e-04 -9.71471583e-02 -8.01653649e-02\n",
      "  -2.81985079e+00]]\n"
     ]
    }
   ],
   "source": [
    "print(\"This is the co-efficient: \", lr.coef_)"
   ]
  },
  {
   "cell_type": "code",
   "execution_count": 32,
   "metadata": {},
   "outputs": [
    {
     "name": "stdout",
     "output_type": "stream",
     "text": [
      "This is the intercepts:  [5.28959296]\n"
     ]
    }
   ],
   "source": [
    "print(\"This is the intercepts: \", lr.intercept_)"
   ]
  },
  {
   "cell_type": "code",
   "execution_count": 33,
   "metadata": {},
   "outputs": [
    {
     "data": {
      "text/plain": [
       "(array([0, 1]), array([526, 160], dtype=int64))"
      ]
     },
     "execution_count": 33,
     "metadata": {},
     "output_type": "execute_result"
    }
   ],
   "source": [
    "#the array is 0 which represents average review rating less than 0.58 which the assumption is the tourist will not\n",
    "#eat at the restaurant. while 1 represents those average review ratings equal or higher than 0.58, its assumption is\n",
    "#the tourist will eat at the restaurant.\n",
    "np.unique(y_train,return_counts=True)\n"
   ]
  },
  {
   "cell_type": "code",
   "execution_count": 34,
   "metadata": {},
   "outputs": [
    {
     "name": "stdout",
     "output_type": "stream",
     "text": [
      "The ratio of those who will eat at the restaurant:  0.7667638483965015\n"
     ]
    }
   ],
   "source": [
    "print(\"The ratio of those who will eat at the restaurant: \", 526/(526+160))"
   ]
  },
  {
   "cell_type": "markdown",
   "metadata": {},
   "source": [
    "RESULTS AND DISCUSSION\n",
    "\n",
    "The ratio of those who will eat at the restaurant:  0.7663265306122449. This ratio is the baseline and uses a dummy model. Using the y-train model, the ratio of those who will eat at the restaurant:  0.7667638483965015. These ratio have very little variance."
   ]
  },
  {
   "cell_type": "code",
   "execution_count": 35,
   "metadata": {},
   "outputs": [],
   "source": [
    "## scaling data\n",
    "sc = StandardScaler()\n",
    "\n",
    "#training mean and std calculated\n",
    "sc.fit(X_train)\n",
    "X_train_std = sc.transform(X_train)\n",
    "\n",
    "#Never fit onto Test data!! Only Tansform\n",
    "X_test_std = sc.transform(X_test)\n"
   ]
  },
  {
   "cell_type": "code",
   "execution_count": 36,
   "metadata": {},
   "outputs": [
    {
     "data": {
      "text/plain": [
       "array([[-0.37557553,  1.19932128, -0.52644001, ...,  2.48801434,\n",
       "         0.06268955,  0.56127032],\n",
       "       [ 0.10655813,  1.72066619,  0.31009326, ..., -0.07308372,\n",
       "         0.33564108, -0.93266785],\n",
       "       [-0.37557553,  0.67797638,  1.85446238, ...,  0.15974337,\n",
       "         2.00367824, -0.93266785],\n",
       "       ...,\n",
       "       [ 0.32908136, -0.67752039,  1.08227782, ..., -1.54765534,\n",
       "        -0.99878864,  0.99700228],\n",
       "       [-0.48683714, -0.88605835,  2.25342441, ..., -0.22830179,\n",
       "        -0.63485326, -1.0571627 ],\n",
       "       [ 0.21781975,  0.78224536,  0.91497117, ..., -0.69395598,\n",
       "         1.0331839 ,  0.43677547]])"
      ]
     },
     "execution_count": 36,
     "metadata": {},
     "output_type": "execute_result"
    }
   ],
   "source": [
    "## only use training mean and std\n",
    "X_train_std"
   ]
  },
  {
   "cell_type": "markdown",
   "metadata": {},
   "source": [
    "CROSS VALIDATION\n"
   ]
  },
  {
   "cell_type": "code",
   "execution_count": 37,
   "metadata": {},
   "outputs": [
    {
     "name": "stderr",
     "output_type": "stream",
     "text": [
      "[Parallel(n_jobs=-1)]: Using backend LokyBackend with 4 concurrent workers.\n",
      "[Parallel(n_jobs=-1)]: Done   5 out of   5 | elapsed:    3.0s finished\n"
     ]
    }
   ],
   "source": [
    "#call cross-validate with return_train_score, return estimator, cv =5\n",
    "cv_fivefold = cross_validate(estimator= lr, \n",
    "                             X = X_train_std,\n",
    "                             y = y_train,\n",
    "                             cv = 5,\n",
    "                             n_jobs= -1, \n",
    "                             return_train_score= True, \n",
    "                             return_estimator= True, verbose = 2)"
   ]
  },
  {
   "cell_type": "code",
   "execution_count": 38,
   "metadata": {},
   "outputs": [
    {
     "data": {
      "text/plain": [
       "array([0.80434783, 0.77372263, 0.72262774, 0.75182482, 0.72262774])"
      ]
     },
     "execution_count": 38,
     "metadata": {},
     "output_type": "execute_result"
    }
   ],
   "source": [
    "#Investigate the cv results\n",
    "cv_fivefold['test_score']\n"
   ]
  },
  {
   "cell_type": "code",
   "execution_count": 39,
   "metadata": {},
   "outputs": [],
   "source": [
    "validation_mean = cv_fivefold['test_score'].mean()\n",
    "\n",
    "validation_std = cv_fivefold['test_score'].std()"
   ]
  },
  {
   "cell_type": "code",
   "execution_count": 40,
   "metadata": {},
   "outputs": [
    {
     "name": "stdout",
     "output_type": "stream",
     "text": [
      "Vanilla Regression 5-fold cv results (Accuracy) 0.755 =/- 0.031\n"
     ]
    }
   ],
   "source": [
    "print('Vanilla Regression 5-fold cv results (Accuracy) %.3f =/- %.3f'%(validation_mean, validation_std))"
   ]
  },
  {
   "cell_type": "code",
   "execution_count": 41,
   "metadata": {},
   "outputs": [
    {
     "data": {
      "text/plain": [
       "LogisticRegression(penalty='none', random_state=1)"
      ]
     },
     "execution_count": 41,
     "metadata": {},
     "output_type": "execute_result"
    }
   ],
   "source": [
    "#Initializing Classifications\n",
    "logreg = LogisticRegression(penalty = 'none', random_state=1)\n",
    "logreg.fit(X_train_std, y_train)"
   ]
  },
  {
   "cell_type": "code",
   "execution_count": 42,
   "metadata": {},
   "outputs": [],
   "source": [
    "clf1 = LogisticRegression(random_state=1, solver='lbfgs')\n",
    "xx, yy = np.meshgrid(np.linspace(-3, 3, 50),\n",
    "                     np.linspace(-3, 3, 50))\n",
    "\n",
    "X_train = np.array(X_train_std, dtype=np.int64)\n",
    "y_train = np.array(y_train, dtype=np.int64)\n",
    "pca = PCA(n_components = 2)\n",
    "X_train2 = pca.fit_transform(X_train)"
   ]
  },
  {
   "cell_type": "code",
   "execution_count": 43,
   "metadata": {},
   "outputs": [
    {
     "data": {
      "image/png": "[encoded data removed]",
      "text/plain": [
       "<Figure size 720x576 with 1 Axes>"
      ]
     },
     "metadata": {
      "needs_background": "light"
     },
     "output_type": "display_data"
    }
   ],
   "source": [
    "gs = gridspec.GridSpec(2, 2)\n",
    "\n",
    "fig = plt.figure(figsize=(10,8))\n",
    "\n",
    "labels = ['Logistic Regression']\n",
    "for clf, lab, grd in zip([clf1],\n",
    "                         labels,\n",
    "                         itertools.product([0, 1], repeat=2)):\n",
    "\n",
    "    clf.fit(X_train2, y_train)\n",
    "    ax = plt.subplot(gs[grd[0], grd[1]])\n",
    "    fig = plot_decision_regions(X= X_train2, y= y_train, clf=clf, legend=2)\n",
    "    plt.title(lab)\n",
    "\n",
    "plt.show()"
   ]
  },
  {
   "cell_type": "raw",
   "metadata": {
    "slideshow": {
     "slide_type": "notes"
    }
   },
   "source": [
    "RESULTS AND DISCUSSION\n",
    "\n",
    "This a train classification where the blue region represents those belonging to 75% quantile of the restaurant reviews while the biege region represents those belonging to the remaining quantile of the restaurant reviews."
   ]
  },
  {
   "cell_type": "code",
   "execution_count": 44,
   "metadata": {},
   "outputs": [
    {
     "data": {
      "text/plain": [
       "array([[0.86437017, 0.13562983]])"
      ]
     },
     "execution_count": 44,
     "metadata": {},
     "output_type": "execute_result"
    }
   ],
   "source": [
    "X = np.array([[1,1]])\n",
    "clf.predict_proba(X)"
   ]
  },
  {
   "cell_type": "markdown",
   "metadata": {},
   "source": [
    "Results and Discussion\n",
    "\n",
    "Making Probability Predictions for the first array, P(y=0|X=[1,1]) is 0.86437017 while for the second array, P(y=1|X=[1,1]) is 0.13562983."
   ]
  },
  {
   "cell_type": "code",
   "execution_count": 45,
   "metadata": {},
   "outputs": [],
   "source": [
    "#Import Libraries\n",
    "from IPython.display import display, HTML\n",
    "from pandas.plotting import scatter_matrix\n",
    "from sklearn.preprocessing import PolynomialFeatures\n",
    "from sklearn.linear_model import Lasso\n",
    "from sklearn.linear_model import Ridge"
   ]
  },
  {
   "cell_type": "code",
   "execution_count": 46,
   "metadata": {},
   "outputs": [
    {
     "data": {
      "image/png": "[encoded data removed]",
      "text/plain": [
       "<Figure size 432x288 with 1 Axes>"
      ]
     },
     "metadata": {
      "needs_background": "light"
     },
     "output_type": "display_data"
    }
   ],
   "source": [
    "X = asian_trip.loc[ : , ['artgalleries','danceclubs', 'juicebars','museums','resorts','parksPicnicspots','beaches', 'theaters','religiousinstitutions']]\n",
    "\n",
    "def model_experiment(num_iter = 5, \n",
    "                     models = ['logreg', 'ridge', 'lasso'], alpha= 10, \n",
    "                     complexity = 'simple', degree = 3):\n",
    "    \n",
    "    x_axis = np.arange(num_iter)\n",
    "    y_logreg_test = []\n",
    "    y_lasso_test = []\n",
    "    y_ridge_test = []\n",
    "    sample_models = {}\n",
    "    for i in range(num_iter):\n",
    "        \n",
    "        if complexity == 'simple':\n",
    "            ## split train_test \n",
    "            X_train, X_test, y_train, y_test = train_test_split(X, asian_trip['gety_i'], test_size = 0.2)\n",
    "        elif complexity == 'polynomial':\n",
    "            ## Create higher order terms\n",
    "            poly = PolynomialFeatures(degree=degree)\n",
    "            Xp = poly.fit_transform(X)\n",
    "            ## test-train split\n",
    "            X_train, X_test, y_train, y_test = train_test_split(Xp, asian_trip['gety_i'], test_size = 0.2)\n",
    "            ## Standard scale mean = 0, variance = 1\n",
    "        sd = StandardScaler()\n",
    "\n",
    "        sd.fit(X_train)\n",
    "\n",
    "        X_train = sd.transform(X_train)\n",
    "\n",
    "        X_test = sd.transform(X_test)\n",
    "\n",
    "        ## Be careful about the leakage\n",
    "\n",
    "        ## Vanilla model\n",
    "        if 'logreg' in models:\n",
    "            lr = LogisticRegression()\n",
    "\n",
    "            lr.fit(X_train, y_train)\n",
    "            \n",
    "            sample_models['logreg'] = lr\n",
    "\n",
    "            test_score = lr.score(X_test, y_test)\n",
    "            train_score = lr.score(X_train, y_train)\n",
    "\n",
    "            y_logreg_test.append(test_score)\n",
    "\n",
    "    #       print('test score OLS is %.2f and train score is %.2f'%(test_score, train_score))\n",
    "\n",
    "        if 'ridge' in models:\n",
    "            ## Ridge in the simple setting\n",
    "            ridge = Ridge(alpha = alpha, max_iter= 10000)\n",
    "            ridge.fit(X_train, y_train)\n",
    "            sample_models['ridge'] = ridge\n",
    "            y_ridge_test.append(ridge.score(X_test, y_test))\n",
    "    #       print('test score Ridge is %.2f and train score is %.2f'%(ridge.score(X_test, y_test),\n",
    "    #                                                             ridge.score(X_train, y_train)))\n",
    "\n",
    "        if 'lasso' in models:\n",
    "            ## Lasso in the simple setting\n",
    "            lasso = Lasso(alpha = alpha, max_iter= 10000)\n",
    "\n",
    "            lasso.fit(X_train, y_train)\n",
    "            \n",
    "            sample_models['lasso'] = lasso\n",
    "            \n",
    "            y_lasso_test.append(lasso.score(X_test, y_test))\n",
    "    #       print('test score Lasso is %.2f and train score is %.2f'%(lasso.score(X_test, y_test),\n",
    "    #                                                             lasso.score(X_train, y_train)))\n",
    "\n",
    "        i+=1\n",
    "    if 'logreg' in models:\n",
    "        plt.plot(y_logreg_test, label = 'logReg')\n",
    "    if 'ridge' in models:\n",
    "        plt.plot(y_ridge_test, label = 'ridge')\n",
    "    if 'lasso' in models:\n",
    "        plt.plot(y_lasso_test, label = 'lasso')\n",
    "    plt.ylabel('R2 test score')\n",
    "    plt.xlabel('number of iterations')\n",
    "    all_results = y_logreg_test + y_lasso_test + y_ridge_test\n",
    "    plt.ylim((np.min(all_results), np.max(all_results)))\n",
    "    \n",
    "    plt.legend()\n",
    "    return sample_models\n",
    "\n",
    "trained_models = model_experiment(num_iter=30, alpha = 15,\n",
    "                                   models = ['ridge', 'lasso'], \n",
    "                                   complexity= 'polynomial', degree = 2)\n"
   ]
  },
  {
   "cell_type": "code",
   "execution_count": 47,
   "metadata": {},
   "outputs": [
    {
     "name": "stderr",
     "output_type": "stream",
     "text": [
      "C:\\Users\\Marissa\\anaconda3\\lib\\site-packages\\sklearn\\linear_model\\_logistic.py:762: ConvergenceWarning: lbfgs failed to converge (status=1):\n",
      "STOP: TOTAL NO. of ITERATIONS REACHED LIMIT.\n",
      "\n",
      "Increase the number of iterations (max_iter) or scale the data as shown in:\n",
      "    https://scikit-learn.org/stable/modules/preprocessing.html\n",
      "Please also refer to the documentation for alternative solver options:\n",
      "    https://scikit-learn.org/stable/modules/linear_model.html#logistic-regression\n",
      "  n_iter_i = _check_optimize_result(\n",
      "C:\\Users\\Marissa\\anaconda3\\lib\\site-packages\\sklearn\\linear_model\\_logistic.py:762: ConvergenceWarning: lbfgs failed to converge (status=1):\n",
      "STOP: TOTAL NO. of ITERATIONS REACHED LIMIT.\n",
      "\n",
      "Increase the number of iterations (max_iter) or scale the data as shown in:\n",
      "    https://scikit-learn.org/stable/modules/preprocessing.html\n",
      "Please also refer to the documentation for alternative solver options:\n",
      "    https://scikit-learn.org/stable/modules/linear_model.html#logistic-regression\n",
      "  n_iter_i = _check_optimize_result(\n",
      "C:\\Users\\Marissa\\anaconda3\\lib\\site-packages\\sklearn\\linear_model\\_logistic.py:762: ConvergenceWarning: lbfgs failed to converge (status=1):\n",
      "STOP: TOTAL NO. of ITERATIONS REACHED LIMIT.\n",
      "\n",
      "Increase the number of iterations (max_iter) or scale the data as shown in:\n",
      "    https://scikit-learn.org/stable/modules/preprocessing.html\n",
      "Please also refer to the documentation for alternative solver options:\n",
      "    https://scikit-learn.org/stable/modules/linear_model.html#logistic-regression\n",
      "  n_iter_i = _check_optimize_result(\n",
      "C:\\Users\\Marissa\\anaconda3\\lib\\site-packages\\sklearn\\linear_model\\_logistic.py:762: ConvergenceWarning: lbfgs failed to converge (status=1):\n",
      "STOP: TOTAL NO. of ITERATIONS REACHED LIMIT.\n",
      "\n",
      "Increase the number of iterations (max_iter) or scale the data as shown in:\n",
      "    https://scikit-learn.org/stable/modules/preprocessing.html\n",
      "Please also refer to the documentation for alternative solver options:\n",
      "    https://scikit-learn.org/stable/modules/linear_model.html#logistic-regression\n",
      "  n_iter_i = _check_optimize_result(\n",
      "C:\\Users\\Marissa\\anaconda3\\lib\\site-packages\\sklearn\\linear_model\\_logistic.py:762: ConvergenceWarning: lbfgs failed to converge (status=1):\n",
      "STOP: TOTAL NO. of ITERATIONS REACHED LIMIT.\n",
      "\n",
      "Increase the number of iterations (max_iter) or scale the data as shown in:\n",
      "    https://scikit-learn.org/stable/modules/preprocessing.html\n",
      "Please also refer to the documentation for alternative solver options:\n",
      "    https://scikit-learn.org/stable/modules/linear_model.html#logistic-regression\n",
      "  n_iter_i = _check_optimize_result(\n",
      "C:\\Users\\Marissa\\anaconda3\\lib\\site-packages\\sklearn\\linear_model\\_logistic.py:762: ConvergenceWarning: lbfgs failed to converge (status=1):\n",
      "STOP: TOTAL NO. of ITERATIONS REACHED LIMIT.\n",
      "\n",
      "Increase the number of iterations (max_iter) or scale the data as shown in:\n",
      "    https://scikit-learn.org/stable/modules/preprocessing.html\n",
      "Please also refer to the documentation for alternative solver options:\n",
      "    https://scikit-learn.org/stable/modules/linear_model.html#logistic-regression\n",
      "  n_iter_i = _check_optimize_result(\n",
      "C:\\Users\\Marissa\\anaconda3\\lib\\site-packages\\sklearn\\linear_model\\_logistic.py:762: ConvergenceWarning: lbfgs failed to converge (status=1):\n",
      "STOP: TOTAL NO. of ITERATIONS REACHED LIMIT.\n",
      "\n",
      "Increase the number of iterations (max_iter) or scale the data as shown in:\n",
      "    https://scikit-learn.org/stable/modules/preprocessing.html\n",
      "Please also refer to the documentation for alternative solver options:\n",
      "    https://scikit-learn.org/stable/modules/linear_model.html#logistic-regression\n",
      "  n_iter_i = _check_optimize_result(\n",
      "C:\\Users\\Marissa\\anaconda3\\lib\\site-packages\\sklearn\\linear_model\\_logistic.py:762: ConvergenceWarning: lbfgs failed to converge (status=1):\n",
      "STOP: TOTAL NO. of ITERATIONS REACHED LIMIT.\n",
      "\n",
      "Increase the number of iterations (max_iter) or scale the data as shown in:\n",
      "    https://scikit-learn.org/stable/modules/preprocessing.html\n",
      "Please also refer to the documentation for alternative solver options:\n",
      "    https://scikit-learn.org/stable/modules/linear_model.html#logistic-regression\n",
      "  n_iter_i = _check_optimize_result(\n",
      "C:\\Users\\Marissa\\anaconda3\\lib\\site-packages\\sklearn\\linear_model\\_logistic.py:762: ConvergenceWarning: lbfgs failed to converge (status=1):\n",
      "STOP: TOTAL NO. of ITERATIONS REACHED LIMIT.\n",
      "\n",
      "Increase the number of iterations (max_iter) or scale the data as shown in:\n",
      "    https://scikit-learn.org/stable/modules/preprocessing.html\n",
      "Please also refer to the documentation for alternative solver options:\n",
      "    https://scikit-learn.org/stable/modules/linear_model.html#logistic-regression\n",
      "  n_iter_i = _check_optimize_result(\n",
      "C:\\Users\\Marissa\\anaconda3\\lib\\site-packages\\sklearn\\linear_model\\_logistic.py:762: ConvergenceWarning: lbfgs failed to converge (status=1):\n",
      "STOP: TOTAL NO. of ITERATIONS REACHED LIMIT.\n",
      "\n",
      "Increase the number of iterations (max_iter) or scale the data as shown in:\n",
      "    https://scikit-learn.org/stable/modules/preprocessing.html\n",
      "Please also refer to the documentation for alternative solver options:\n",
      "    https://scikit-learn.org/stable/modules/linear_model.html#logistic-regression\n",
      "  n_iter_i = _check_optimize_result(\n",
      "C:\\Users\\Marissa\\anaconda3\\lib\\site-packages\\sklearn\\linear_model\\_logistic.py:762: ConvergenceWarning: lbfgs failed to converge (status=1):\n",
      "STOP: TOTAL NO. of ITERATIONS REACHED LIMIT.\n",
      "\n",
      "Increase the number of iterations (max_iter) or scale the data as shown in:\n",
      "    https://scikit-learn.org/stable/modules/preprocessing.html\n",
      "Please also refer to the documentation for alternative solver options:\n",
      "    https://scikit-learn.org/stable/modules/linear_model.html#logistic-regression\n",
      "  n_iter_i = _check_optimize_result(\n",
      "C:\\Users\\Marissa\\anaconda3\\lib\\site-packages\\sklearn\\linear_model\\_logistic.py:762: ConvergenceWarning: lbfgs failed to converge (status=1):\n",
      "STOP: TOTAL NO. of ITERATIONS REACHED LIMIT.\n",
      "\n",
      "Increase the number of iterations (max_iter) or scale the data as shown in:\n",
      "    https://scikit-learn.org/stable/modules/preprocessing.html\n",
      "Please also refer to the documentation for alternative solver options:\n",
      "    https://scikit-learn.org/stable/modules/linear_model.html#logistic-regression\n",
      "  n_iter_i = _check_optimize_result(\n",
      "C:\\Users\\Marissa\\anaconda3\\lib\\site-packages\\sklearn\\linear_model\\_logistic.py:762: ConvergenceWarning: lbfgs failed to converge (status=1):\n",
      "STOP: TOTAL NO. of ITERATIONS REACHED LIMIT.\n",
      "\n",
      "Increase the number of iterations (max_iter) or scale the data as shown in:\n",
      "    https://scikit-learn.org/stable/modules/preprocessing.html\n",
      "Please also refer to the documentation for alternative solver options:\n",
      "    https://scikit-learn.org/stable/modules/linear_model.html#logistic-regression\n",
      "  n_iter_i = _check_optimize_result(\n",
      "C:\\Users\\Marissa\\anaconda3\\lib\\site-packages\\sklearn\\linear_model\\_logistic.py:762: ConvergenceWarning: lbfgs failed to converge (status=1):\n",
      "STOP: TOTAL NO. of ITERATIONS REACHED LIMIT.\n",
      "\n",
      "Increase the number of iterations (max_iter) or scale the data as shown in:\n",
      "    https://scikit-learn.org/stable/modules/preprocessing.html\n",
      "Please also refer to the documentation for alternative solver options:\n",
      "    https://scikit-learn.org/stable/modules/linear_model.html#logistic-regression\n",
      "  n_iter_i = _check_optimize_result(\n",
      "C:\\Users\\Marissa\\anaconda3\\lib\\site-packages\\sklearn\\linear_model\\_logistic.py:762: ConvergenceWarning: lbfgs failed to converge (status=1):\n",
      "STOP: TOTAL NO. of ITERATIONS REACHED LIMIT.\n",
      "\n",
      "Increase the number of iterations (max_iter) or scale the data as shown in:\n",
      "    https://scikit-learn.org/stable/modules/preprocessing.html\n",
      "Please also refer to the documentation for alternative solver options:\n",
      "    https://scikit-learn.org/stable/modules/linear_model.html#logistic-regression\n",
      "  n_iter_i = _check_optimize_result(\n",
      "C:\\Users\\Marissa\\anaconda3\\lib\\site-packages\\sklearn\\linear_model\\_logistic.py:762: ConvergenceWarning: lbfgs failed to converge (status=1):\n",
      "STOP: TOTAL NO. of ITERATIONS REACHED LIMIT.\n",
      "\n",
      "Increase the number of iterations (max_iter) or scale the data as shown in:\n",
      "    https://scikit-learn.org/stable/modules/preprocessing.html\n",
      "Please also refer to the documentation for alternative solver options:\n",
      "    https://scikit-learn.org/stable/modules/linear_model.html#logistic-regression\n",
      "  n_iter_i = _check_optimize_result(\n"
     ]
    },
    {
     "name": "stderr",
     "output_type": "stream",
     "text": [
      "C:\\Users\\Marissa\\anaconda3\\lib\\site-packages\\sklearn\\linear_model\\_logistic.py:762: ConvergenceWarning: lbfgs failed to converge (status=1):\n",
      "STOP: TOTAL NO. of ITERATIONS REACHED LIMIT.\n",
      "\n",
      "Increase the number of iterations (max_iter) or scale the data as shown in:\n",
      "    https://scikit-learn.org/stable/modules/preprocessing.html\n",
      "Please also refer to the documentation for alternative solver options:\n",
      "    https://scikit-learn.org/stable/modules/linear_model.html#logistic-regression\n",
      "  n_iter_i = _check_optimize_result(\n",
      "C:\\Users\\Marissa\\anaconda3\\lib\\site-packages\\sklearn\\linear_model\\_logistic.py:762: ConvergenceWarning: lbfgs failed to converge (status=1):\n",
      "STOP: TOTAL NO. of ITERATIONS REACHED LIMIT.\n",
      "\n",
      "Increase the number of iterations (max_iter) or scale the data as shown in:\n",
      "    https://scikit-learn.org/stable/modules/preprocessing.html\n",
      "Please also refer to the documentation for alternative solver options:\n",
      "    https://scikit-learn.org/stable/modules/linear_model.html#logistic-regression\n",
      "  n_iter_i = _check_optimize_result(\n",
      "C:\\Users\\Marissa\\anaconda3\\lib\\site-packages\\sklearn\\linear_model\\_logistic.py:762: ConvergenceWarning: lbfgs failed to converge (status=1):\n",
      "STOP: TOTAL NO. of ITERATIONS REACHED LIMIT.\n",
      "\n",
      "Increase the number of iterations (max_iter) or scale the data as shown in:\n",
      "    https://scikit-learn.org/stable/modules/preprocessing.html\n",
      "Please also refer to the documentation for alternative solver options:\n",
      "    https://scikit-learn.org/stable/modules/linear_model.html#logistic-regression\n",
      "  n_iter_i = _check_optimize_result(\n",
      "C:\\Users\\Marissa\\anaconda3\\lib\\site-packages\\sklearn\\linear_model\\_logistic.py:762: ConvergenceWarning: lbfgs failed to converge (status=1):\n",
      "STOP: TOTAL NO. of ITERATIONS REACHED LIMIT.\n",
      "\n",
      "Increase the number of iterations (max_iter) or scale the data as shown in:\n",
      "    https://scikit-learn.org/stable/modules/preprocessing.html\n",
      "Please also refer to the documentation for alternative solver options:\n",
      "    https://scikit-learn.org/stable/modules/linear_model.html#logistic-regression\n",
      "  n_iter_i = _check_optimize_result(\n",
      "C:\\Users\\Marissa\\anaconda3\\lib\\site-packages\\sklearn\\linear_model\\_logistic.py:762: ConvergenceWarning: lbfgs failed to converge (status=1):\n",
      "STOP: TOTAL NO. of ITERATIONS REACHED LIMIT.\n",
      "\n",
      "Increase the number of iterations (max_iter) or scale the data as shown in:\n",
      "    https://scikit-learn.org/stable/modules/preprocessing.html\n",
      "Please also refer to the documentation for alternative solver options:\n",
      "    https://scikit-learn.org/stable/modules/linear_model.html#logistic-regression\n",
      "  n_iter_i = _check_optimize_result(\n",
      "C:\\Users\\Marissa\\anaconda3\\lib\\site-packages\\sklearn\\linear_model\\_logistic.py:762: ConvergenceWarning: lbfgs failed to converge (status=1):\n",
      "STOP: TOTAL NO. of ITERATIONS REACHED LIMIT.\n",
      "\n",
      "Increase the number of iterations (max_iter) or scale the data as shown in:\n",
      "    https://scikit-learn.org/stable/modules/preprocessing.html\n",
      "Please also refer to the documentation for alternative solver options:\n",
      "    https://scikit-learn.org/stable/modules/linear_model.html#logistic-regression\n",
      "  n_iter_i = _check_optimize_result(\n",
      "C:\\Users\\Marissa\\anaconda3\\lib\\site-packages\\sklearn\\linear_model\\_logistic.py:762: ConvergenceWarning: lbfgs failed to converge (status=1):\n",
      "STOP: TOTAL NO. of ITERATIONS REACHED LIMIT.\n",
      "\n",
      "Increase the number of iterations (max_iter) or scale the data as shown in:\n",
      "    https://scikit-learn.org/stable/modules/preprocessing.html\n",
      "Please also refer to the documentation for alternative solver options:\n",
      "    https://scikit-learn.org/stable/modules/linear_model.html#logistic-regression\n",
      "  n_iter_i = _check_optimize_result(\n",
      "C:\\Users\\Marissa\\anaconda3\\lib\\site-packages\\sklearn\\linear_model\\_logistic.py:762: ConvergenceWarning: lbfgs failed to converge (status=1):\n",
      "STOP: TOTAL NO. of ITERATIONS REACHED LIMIT.\n",
      "\n",
      "Increase the number of iterations (max_iter) or scale the data as shown in:\n",
      "    https://scikit-learn.org/stable/modules/preprocessing.html\n",
      "Please also refer to the documentation for alternative solver options:\n",
      "    https://scikit-learn.org/stable/modules/linear_model.html#logistic-regression\n",
      "  n_iter_i = _check_optimize_result(\n",
      "C:\\Users\\Marissa\\anaconda3\\lib\\site-packages\\sklearn\\linear_model\\_logistic.py:762: ConvergenceWarning: lbfgs failed to converge (status=1):\n",
      "STOP: TOTAL NO. of ITERATIONS REACHED LIMIT.\n",
      "\n",
      "Increase the number of iterations (max_iter) or scale the data as shown in:\n",
      "    https://scikit-learn.org/stable/modules/preprocessing.html\n",
      "Please also refer to the documentation for alternative solver options:\n",
      "    https://scikit-learn.org/stable/modules/linear_model.html#logistic-regression\n",
      "  n_iter_i = _check_optimize_result(\n",
      "C:\\Users\\Marissa\\anaconda3\\lib\\site-packages\\sklearn\\linear_model\\_logistic.py:762: ConvergenceWarning: lbfgs failed to converge (status=1):\n",
      "STOP: TOTAL NO. of ITERATIONS REACHED LIMIT.\n",
      "\n",
      "Increase the number of iterations (max_iter) or scale the data as shown in:\n",
      "    https://scikit-learn.org/stable/modules/preprocessing.html\n",
      "Please also refer to the documentation for alternative solver options:\n",
      "    https://scikit-learn.org/stable/modules/linear_model.html#logistic-regression\n",
      "  n_iter_i = _check_optimize_result(\n",
      "C:\\Users\\Marissa\\anaconda3\\lib\\site-packages\\sklearn\\linear_model\\_logistic.py:762: ConvergenceWarning: lbfgs failed to converge (status=1):\n",
      "STOP: TOTAL NO. of ITERATIONS REACHED LIMIT.\n",
      "\n",
      "Increase the number of iterations (max_iter) or scale the data as shown in:\n",
      "    https://scikit-learn.org/stable/modules/preprocessing.html\n",
      "Please also refer to the documentation for alternative solver options:\n",
      "    https://scikit-learn.org/stable/modules/linear_model.html#logistic-regression\n",
      "  n_iter_i = _check_optimize_result(\n",
      "C:\\Users\\Marissa\\anaconda3\\lib\\site-packages\\sklearn\\linear_model\\_logistic.py:762: ConvergenceWarning: lbfgs failed to converge (status=1):\n",
      "STOP: TOTAL NO. of ITERATIONS REACHED LIMIT.\n",
      "\n",
      "Increase the number of iterations (max_iter) or scale the data as shown in:\n",
      "    https://scikit-learn.org/stable/modules/preprocessing.html\n",
      "Please also refer to the documentation for alternative solver options:\n",
      "    https://scikit-learn.org/stable/modules/linear_model.html#logistic-regression\n",
      "  n_iter_i = _check_optimize_result(\n",
      "C:\\Users\\Marissa\\anaconda3\\lib\\site-packages\\sklearn\\linear_model\\_logistic.py:762: ConvergenceWarning: lbfgs failed to converge (status=1):\n",
      "STOP: TOTAL NO. of ITERATIONS REACHED LIMIT.\n",
      "\n",
      "Increase the number of iterations (max_iter) or scale the data as shown in:\n",
      "    https://scikit-learn.org/stable/modules/preprocessing.html\n",
      "Please also refer to the documentation for alternative solver options:\n",
      "    https://scikit-learn.org/stable/modules/linear_model.html#logistic-regression\n",
      "  n_iter_i = _check_optimize_result(\n",
      "C:\\Users\\Marissa\\anaconda3\\lib\\site-packages\\sklearn\\linear_model\\_logistic.py:762: ConvergenceWarning: lbfgs failed to converge (status=1):\n",
      "STOP: TOTAL NO. of ITERATIONS REACHED LIMIT.\n",
      "\n",
      "Increase the number of iterations (max_iter) or scale the data as shown in:\n",
      "    https://scikit-learn.org/stable/modules/preprocessing.html\n",
      "Please also refer to the documentation for alternative solver options:\n",
      "    https://scikit-learn.org/stable/modules/linear_model.html#logistic-regression\n",
      "  n_iter_i = _check_optimize_result(\n"
     ]
    },
    {
     "data": {
      "image/png": "[encoded data removed]",
      "text/plain": [
       "<Figure size 432x288 with 1 Axes>"
      ]
     },
     "metadata": {
      "needs_background": "light"
     },
     "output_type": "display_data"
    }
   ],
   "source": [
    "trained_models = model_experiment(num_iter=30, alpha = 15,\n",
    "                                   models = ['logreg','ridge', 'lasso'], \n",
    "                                   complexity= 'polynomial', degree = 2)\n"
   ]
  },
  {
   "cell_type": "code",
   "execution_count": 48,
   "metadata": {},
   "outputs": [],
   "source": [
    "# After run model_experiment with complexity == 'polynomial'\n",
    "\n",
    "lr_logreg = trained_models['logreg']\n",
    "lr_lasso = trained_models['lasso']\n",
    "lr_ridge =trained_models['ridge']\n"
   ]
  },
  {
   "cell_type": "code",
   "execution_count": 49,
   "metadata": {},
   "outputs": [
    {
     "data": {
      "text/plain": [
       "array([ 0.,  0.,  0.,  0.,  0.,  0.,  0., -0.,  0., -0.,  0.,  0.,  0.,\n",
       "        0.,  0.,  0.,  0.,  0., -0.,  0.,  0.,  0.,  0.,  0.,  0.,  0.,\n",
       "       -0.,  0.,  0.,  0.,  0.,  0.,  0.,  0.,  0.,  0.,  0.,  0.,  0.,\n",
       "        0.,  0.,  0.,  0.,  0.,  0.,  0., -0.,  0., -0., -0.,  0., -0.,\n",
       "        0., -0., -0.])"
      ]
     },
     "execution_count": 49,
     "metadata": {},
     "output_type": "execute_result"
    }
   ],
   "source": [
    "lr_lasso.coef_"
   ]
  },
  {
   "cell_type": "code",
   "execution_count": 50,
   "metadata": {},
   "outputs": [
    {
     "data": {
      "text/plain": [
       "array([ 0.        , -0.0008624 ,  0.03609553, -0.03423048,  0.03327774,\n",
       "        0.02213759,  0.        , -0.00710337, -0.0214294 , -0.04878662,\n",
       "        0.10106949, -0.05885477, -0.07168595,  0.00420625,  0.02991027,\n",
       "       -0.0008624 ,  0.00348285,  0.07767764, -0.08883546, -0.08059222,\n",
       "        0.00979593,  0.01427633, -0.03685467,  0.03609553,  0.04560074,\n",
       "        0.02524202,  0.01253919,  0.00514111, -0.02110155,  0.05478497,\n",
       "       -0.03423048, -0.03047456, -0.04171297,  0.11209605,  0.02123266,\n",
       "       -0.09007953,  0.03327774,  0.02188859, -0.05418189, -0.0098852 ,\n",
       "       -0.00030822,  0.02213759,  0.06623461,  0.0566018 , -0.06924633,\n",
       "        0.        , -0.00710337, -0.0214294 , -0.04878662,  0.01555969,\n",
       "       -0.00898793, -0.02569326,  0.00307043, -0.03084155,  0.02993722])"
      ]
     },
     "execution_count": 50,
     "metadata": {},
     "output_type": "execute_result"
    }
   ],
   "source": [
    "lr_ridge.coef_"
   ]
  },
  {
   "cell_type": "code",
   "execution_count": 51,
   "metadata": {},
   "outputs": [
    {
     "data": {
      "text/plain": [
       "array([[ 0.00000000e+00,  1.78838121e-02,  2.86802396e-01,\n",
       "        -6.10982424e-01,  2.46429453e-01, -6.54959823e-02,\n",
       "         7.93511471e-04, -1.49777653e-01, -2.44768309e-01,\n",
       "        -3.32212060e-01,  8.96228866e-01, -4.37000190e-01,\n",
       "        -5.03332595e-01,  1.17029396e-01,  1.07087543e-01,\n",
       "         1.78838121e-02,  1.75783481e-02,  5.85115461e-01,\n",
       "        -9.70289358e-01, -8.33269577e-01,  9.57763384e-02,\n",
       "         3.49514387e-02, -3.43596538e-01,  2.86802396e-01,\n",
       "         3.82211170e-01,  3.89498121e-01,  1.91639220e-01,\n",
       "         4.71749820e-02, -1.02632119e-01,  6.75708732e-01,\n",
       "        -6.10982424e-01, -5.26966753e-01, -3.00616268e-01,\n",
       "         1.53701363e+00,  1.41324315e-01, -8.75065902e-01,\n",
       "         2.46429453e-01,  6.54770014e-02, -3.96001433e-01,\n",
       "         1.68843204e-01, -4.79298075e-01, -6.54959823e-02,\n",
       "         5.71048699e-01,  4.68412948e-01,  3.64982682e-01,\n",
       "         7.93511471e-04, -1.49777653e-01, -2.44768309e-01,\n",
       "        -3.32212060e-01,  2.48876792e-01,  3.55958967e-03,\n",
       "        -1.49082287e-02,  3.42120498e-02, -2.98963455e-01,\n",
       "        -5.77980813e-01]])"
      ]
     },
     "execution_count": 51,
     "metadata": {},
     "output_type": "execute_result"
    }
   ],
   "source": [
    "lr_logreg.coef_"
   ]
  },
  {
   "cell_type": "markdown",
   "metadata": {
    "slideshow": {
     "slide_type": "notes"
    }
   },
   "source": [
    "RESULTS AND DISCUSSION\n",
    "\n",
    "The variance with logistic regresion, lasso and ridge is between below 0 to 1. There is a huge variance. However, when the graph is without logistic regression, only lasso and ridge the \n",
    "variance is small which is only -0.15 to 0.15. The lasso and ridge are almost identical. The difference lies in the equation which becomes evident in the outcome. The ridge equation shrinks the slope asymphotically close to 0 while the lasso can shrink all the way to 0. Lasso can exclude useless variables from the equations while ridge performs better when most variables are useful. As we see from above, lasso uses 0 coefficient which allows more predictability, and there are many useless variables in the data which is why it shrinks to 0."
   ]
  },
  {
   "cell_type": "markdown",
   "metadata": {
    "slideshow": {
     "slide_type": "notes"
    }
   },
   "source": [
    "CONCLUSION AND SUMMARY\n",
    "\n",
    "Upon careful exploration of the data, the reviewer's average rating is low because for a scale of 0 to 4. The reviewer's rating for mean for restaurant is .53 which means the reviewer gave a rating between terrible to poor. Nevertheless, we try to predict the outcome using 75% of the results which is .58.\n",
    "\n",
    "There are a few statiscally significant co-efficient in relation to p-value such as art galleries, juice bars, resorts, and religious institutions. The ratio of those who will eat at the restaurant:  0.7663265306122449. Using the Vanilla Regression 5-fold cv results (Accuracy) 0.755 =/- 0.031. \n",
    "\n",
    "Further exploring the data, the usability of harvesting the data becomes questionable. Questions such as userid, are the userid the identification of one person or a group of people because the results were called average user feedback? Another question is did all traveller participate in the 10 different activities to give reliable feedbacks. And another question is why are the average user feedback terribly low especially for the restaurants. \n",
    "\n",
    "My conclusion is initial exploration of data should be given careful thoughts. Otherwise, GIGO, Garbage In and Garbage Out, seems inevitable and waste of time and money becomes unavoidable. In this study, the threshold for the dependent variable were significantly reduce to allow the data to be usable.\n",
    "\n"
   ]
  },
  {
   "cell_type": "markdown",
   "metadata": {},
   "source": [
    "LIMITATIONS AND LATER WORK\n",
    "\n",
    "Crowd source reviews were gathered from trip advisors. The review ratings were from 1 to 4 with 1 being the lowest while 4 the highest. These average ratings of the reviews were very low.  The mean for restaurants was only 0.53. While other activities were not as low, but still their mean were not any higher. Most of them were hovering around 1. Religious institutions, beaches, and parks and picnic spots have higher mean which is around 3. These places doesn't much services offered and people's expectation were not as high was service oriented location. \n",
    "\n",
    "Also, it seems more people make more complains than compliments to companies. This lead to the assumption that there might be more people who didn't make reviews. Since most reviewers need to complain or to make reviews when services or products were not up to parr.\n"
   ]
  },
  {
   "cell_type": "markdown",
   "metadata": {},
   "source": [
    "REFERENCES AND CONTRIBUTIONS\n",
    "\n",
    "Renjith, Shini, A. Sreekumar, and M. Jathavedan. “Evaluation of Partitioning Clustering Algorithms for Processing Social Media Data in Tourism Domain.” Recent Advances in Intelligent Computational Systems. 6 Dec. 2018: 21 Oct. 2020. < https://ieeexplore.ieee.org/document/8635080>.\n",
    "\n",
    "Renjith, Shini. “UCI Machine Learning Repository: Travel Reviews Data Set.” Archive.Ics.Uci.Edu, 19 Dec. 2019, archive.ics.uci.edu/ml/datasets/Travel + Reviews. Accessed 26 Oct. 2020"
   ]
  }
 ],
 "metadata": {
  "celltoolbar": "Slideshow",
  "kernelspec": {
   "display_name": "Python 3",
   "language": "python",
   "name": "python3"
  },
  "language_info": {
   "codemirror_mode": {
    "name": "ipython",
    "version": 3
   },
   "file_extension": ".py",
   "mimetype": "text/x-python",
   "name": "python",
   "nbconvert_exporter": "python",
   "pygments_lexer": "ipython3",
   "version": "3.8.5"
  }
 },
 "nbformat": 4,
 "nbformat_minor": 4
}
